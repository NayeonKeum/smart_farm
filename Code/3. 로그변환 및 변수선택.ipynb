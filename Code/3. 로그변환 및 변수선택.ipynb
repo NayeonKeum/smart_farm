{
 "cells": [
  {
   "cell_type": "code",
   "execution_count": 1,
   "id": "a8932339",
   "metadata": {},
   "outputs": [],
   "source": [
    "import pandas as pd\n",
    "import numpy as np\n",
    "import seaborn as sns\n",
    "import statsmodels.api as sm\n",
    "import matplotlib.pyplot as plt\n",
    "import matplotlib\n",
    "from datetime import datetime, timedelta\n",
    "\n",
    "from sklearn.model_selection import train_test_split\n",
    "import glob\n",
    "import os\n",
    "import time\n",
    "import random\n",
    "import warnings; warnings.filterwarnings(\"ignore\")\n",
    "from IPython.display import Image\n",
    "import pickle\n",
    "from tqdm import tqdm\n",
    "import platform\n",
    "from itertools import combinations\n",
    "from scipy.stats.mstats import gmean\n",
    "\n",
    "from tqdm.notebook import tqdm\n",
    "from pycaret.regression import *\n",
    "from sklearn.metrics import mean_squared_error\n",
    "from sklearn.metrics import r2_score"
   ]
  },
  {
   "cell_type": "markdown",
   "id": "78af386a",
   "metadata": {},
   "source": [
    "# 스마트팜 배출량에 대한 예측\n",
    "- smart_farm_final.csv"
   ]
  },
  {
   "cell_type": "markdown",
   "id": "bd3ad50b",
   "metadata": {},
   "source": [
    "## Feature Engineering\n",
    "- Q. 시간 데이터를 효과적으로 모델에 포함시킬 수 있는 방법이 없나?\n",
    "- A. hour,minute을 합해서 float으로 변환하기, sin_time, cos_time을 추가하기\n",
    "- Q. 온도와 습도가 결국 스마트팜에 있어서 중요한 요인이기에 파생변수를 추가하기\n",
    "- A. 온도와 습도를 통해서 만들 수 있는 이슬점 데이터를 추가하기\n",
    "- Q. 일출시간, 일몰시간을 기반으로 zenith(태양의 고도) 계산하기\n",
    "- A. 태양의 고도가 곧, 일사량과 태양 복사 에너지에 주된, 요인이기에 핵심적인 요인으로 이용될 수도 있음"
   ]
  },
  {
   "cell_type": "code",
   "execution_count": 4,
   "id": "e36d60ea",
   "metadata": {},
   "outputs": [
    {
     "data": {
      "text/plain": [
       "(148168, 57)"
      ]
     },
     "execution_count": 4,
     "metadata": {},
     "output_type": "execute_result"
    }
   ],
   "source": [
    "#data = pd.read_csv(\"smart_farm_final.csv\")\n",
    "org_data = pd.read_csv(\"smart_farm_final.csv\")\n",
    "org_data.shape"
   ]
  },
  {
   "cell_type": "markdown",
   "id": "957bb918",
   "metadata": {},
   "source": [
    "- 이슬점 데이터 생성하기"
   ]
  },
  {
   "cell_type": "code",
   "execution_count": 13,
   "id": "ed70824b",
   "metadata": {},
   "outputs": [],
   "source": [
    "import seaborn as sns\n",
    "import matplotlib.pyplot as plt\n",
    "import matplotlib\n",
    "import glob\n",
    "import os\n",
    "import seaborn as sns\n",
    "from matplotlib import font_manager, rc\n",
    "font_name = font_manager.FontProperties(fname=\"c:/Windows/Fonts/malgun.ttf\").get_name()\n",
    "rc('font', family=font_name)\n",
    "import warnings\n",
    "warnings.filterwarnings(\"ignore\")"
   ]
  },
  {
   "cell_type": "code",
   "execution_count": 10,
   "id": "f89269df",
   "metadata": {},
   "outputs": [
    {
     "data": {
      "text/plain": [
       "1.0    93920\n",
       "0.0    54246\n",
       "0.5        2\n",
       "Name: 팬코일 B동, dtype: int64"
      ]
     },
     "execution_count": 10,
     "metadata": {},
     "output_type": "execute_result"
    }
   ],
   "source": [
    "org_data[\"팬코일 B동\"].value_counts()"
   ]
  },
  {
   "cell_type": "code",
   "execution_count": 5,
   "id": "f1749467",
   "metadata": {},
   "outputs": [],
   "source": [
    "c = 243.12\n",
    "b = 17.62\n",
    "gamma = (b * (org_data['내부 온도']) / (c + (org_data['내부 온도']))) + np.log(org_data['내부 습도'] / 100)\n",
    "dp = ( c * gamma) / (b - gamma)\n",
    "org_data['이슬점'] = dp"
   ]
  },
  {
   "cell_type": "markdown",
   "id": "d0e5d2d8",
   "metadata": {},
   "source": [
    "- merge hour and minute feature into 1"
   ]
  },
  {
   "cell_type": "code",
   "execution_count": 6,
   "id": "2cc94959",
   "metadata": {},
   "outputs": [],
   "source": [
    "org_data[\"hour_float\"] = org_data.시 + org_data.분/60"
   ]
  },
  {
   "cell_type": "markdown",
   "id": "b616589b",
   "metadata": {},
   "source": [
    "- add cyclical encoded time feature\n",
    "- continueous time feature"
   ]
  },
  {
   "cell_type": "code",
   "execution_count": 7,
   "id": "d182abd1",
   "metadata": {},
   "outputs": [],
   "source": [
    "org_data['cos_time'] = np.cos(2*np.pi*(org_data.hour_float/24))\n",
    "org_data['sin_time'] = np.sin(2*np.pi*(org_data.hour_float/24))"
   ]
  },
  {
   "cell_type": "markdown",
   "id": "a6cbad16",
   "metadata": {},
   "source": [
    "일출 일몰 시간에 따른 년간, 일별 계절성(seasonality)를 고려한 일별 2차 함수 근사를 통해 zenith angle 산출\n",
    "- zenith angle (태양의 고도)"
   ]
  },
  {
   "cell_type": "code",
   "execution_count": 8,
   "id": "e0b624cd",
   "metadata": {},
   "outputs": [],
   "source": [
    "import numpy as np\n",
    "import os\n",
    "\n",
    "import random\n",
    "import math\n",
    "from scipy.optimize import curve_fit"
   ]
  },
  {
   "cell_type": "code",
   "execution_count": 9,
   "id": "65d5c13a",
   "metadata": {},
   "outputs": [],
   "source": [
    "def obj_curve(x, a, b, c):\n",
    "    return a*(x-b)**2+c"
   ]
  },
  {
   "cell_type": "markdown",
   "id": "ce604152",
   "metadata": {},
   "source": [
    "일출, 일몰시간 데이터 다루기\n",
    "- float 형태로 변환해주기"
   ]
  },
  {
   "cell_type": "code",
   "execution_count": 8,
   "id": "7e1488b5",
   "metadata": {},
   "outputs": [
    {
     "data": {
      "text/plain": [
       "75"
      ]
     },
     "execution_count": 8,
     "metadata": {},
     "output_type": "execute_result"
    }
   ],
   "source": [
    "import gc\n",
    "\n",
    "gc.collect()"
   ]
  },
  {
   "cell_type": "markdown",
   "id": "a2bf8ba0",
   "metadata": {},
   "source": [
    "#### 시,분 string 을 float으로 변경하는 함수 : hour_str_to_float"
   ]
  },
  {
   "cell_type": "code",
   "execution_count": 9,
   "id": "69c73896",
   "metadata": {},
   "outputs": [],
   "source": [
    "def hour_str_to_float(x):\n",
    "    hour = int(str(x)[:-2])\n",
    "    minute = int(str(x)[-2:])\n",
    "    \n",
    "    return hour + minute/60"
   ]
  },
  {
   "cell_type": "code",
   "execution_count": 10,
   "id": "f56da83d",
   "metadata": {},
   "outputs": [],
   "source": [
    "sunrise_data = org_data[[\"시간\",\"일출시간\",\"일몰시간\",\"hour_float\"]].copy()\n",
    "\n",
    "sunrise_data[\"일출시간_float\"] = sunrise_data[\"일출시간\"].apply(lambda x : hour_str_to_float(x))\n",
    "sunrise_data[\"일몰시간_float\"] = sunrise_data[\"일몰시간\"].apply(lambda x : hour_str_to_float(x))"
   ]
  },
  {
   "cell_type": "code",
   "execution_count": 11,
   "id": "f73ae8e1",
   "metadata": {},
   "outputs": [
    {
     "data": {
      "text/html": [
       "<div>\n",
       "<style scoped>\n",
       "    .dataframe tbody tr th:only-of-type {\n",
       "        vertical-align: middle;\n",
       "    }\n",
       "\n",
       "    .dataframe tbody tr th {\n",
       "        vertical-align: top;\n",
       "    }\n",
       "\n",
       "    .dataframe thead th {\n",
       "        text-align: right;\n",
       "    }\n",
       "</style>\n",
       "<table border=\"1\" class=\"dataframe\">\n",
       "  <thead>\n",
       "    <tr style=\"text-align: right;\">\n",
       "      <th></th>\n",
       "      <th>시간</th>\n",
       "      <th>일출시간</th>\n",
       "      <th>일몰시간</th>\n",
       "      <th>hour_float</th>\n",
       "      <th>일출시간_float</th>\n",
       "      <th>일몰시간_float</th>\n",
       "    </tr>\n",
       "  </thead>\n",
       "  <tbody>\n",
       "    <tr>\n",
       "      <th>0</th>\n",
       "      <td>2021-11-26 00:00:00</td>\n",
       "      <td>713</td>\n",
       "      <td>1717</td>\n",
       "      <td>0.000000</td>\n",
       "      <td>7.216667</td>\n",
       "      <td>17.283333</td>\n",
       "    </tr>\n",
       "    <tr>\n",
       "      <th>1</th>\n",
       "      <td>2021-11-26 00:01:00</td>\n",
       "      <td>713</td>\n",
       "      <td>1717</td>\n",
       "      <td>0.016667</td>\n",
       "      <td>7.216667</td>\n",
       "      <td>17.283333</td>\n",
       "    </tr>\n",
       "    <tr>\n",
       "      <th>2</th>\n",
       "      <td>2021-11-26 00:02:00</td>\n",
       "      <td>713</td>\n",
       "      <td>1717</td>\n",
       "      <td>0.033333</td>\n",
       "      <td>7.216667</td>\n",
       "      <td>17.283333</td>\n",
       "    </tr>\n",
       "  </tbody>\n",
       "</table>\n",
       "</div>"
      ],
      "text/plain": [
       "                    시간  일출시간  일몰시간  hour_float  일출시간_float  일몰시간_float\n",
       "0  2021-11-26 00:00:00   713  1717    0.000000    7.216667   17.283333\n",
       "1  2021-11-26 00:01:00   713  1717    0.016667    7.216667   17.283333\n",
       "2  2021-11-26 00:02:00   713  1717    0.033333    7.216667   17.283333"
      ]
     },
     "execution_count": 11,
     "metadata": {},
     "output_type": "execute_result"
    }
   ],
   "source": [
    "sunrise_data.head(3)"
   ]
  },
  {
   "cell_type": "code",
   "execution_count": 12,
   "id": "4270c905",
   "metadata": {},
   "outputs": [],
   "source": [
    "zenith_lst = np.load(\"zenith.npy\")"
   ]
  },
  {
   "cell_type": "code",
   "execution_count": 13,
   "id": "2f651571",
   "metadata": {},
   "outputs": [],
   "source": [
    "sunrise_data[\"zenith\"] = zenith_lst"
   ]
  },
  {
   "cell_type": "markdown",
   "id": "56469532",
   "metadata": {},
   "source": [
    "- altutude of sun is added"
   ]
  },
  {
   "cell_type": "code",
   "execution_count": 14,
   "id": "d88038ab",
   "metadata": {},
   "outputs": [],
   "source": [
    "sunrise_data['altitude'] = 90-sunrise_data.zenith"
   ]
  },
  {
   "cell_type": "code",
   "execution_count": 15,
   "id": "ed5d81d8",
   "metadata": {},
   "outputs": [
    {
     "data": {
      "text/html": [
       "<div>\n",
       "<style scoped>\n",
       "    .dataframe tbody tr th:only-of-type {\n",
       "        vertical-align: middle;\n",
       "    }\n",
       "\n",
       "    .dataframe tbody tr th {\n",
       "        vertical-align: top;\n",
       "    }\n",
       "\n",
       "    .dataframe thead th {\n",
       "        text-align: right;\n",
       "    }\n",
       "</style>\n",
       "<table border=\"1\" class=\"dataframe\">\n",
       "  <thead>\n",
       "    <tr style=\"text-align: right;\">\n",
       "      <th></th>\n",
       "      <th>시간</th>\n",
       "      <th>일출시간</th>\n",
       "      <th>일몰시간</th>\n",
       "      <th>hour_float</th>\n",
       "      <th>일출시간_float</th>\n",
       "      <th>일몰시간_float</th>\n",
       "      <th>zenith</th>\n",
       "      <th>altitude</th>\n",
       "    </tr>\n",
       "  </thead>\n",
       "  <tbody>\n",
       "    <tr>\n",
       "      <th>0</th>\n",
       "      <td>2021-11-26 00:00:00</td>\n",
       "      <td>713</td>\n",
       "      <td>1717</td>\n",
       "      <td>0.000000</td>\n",
       "      <td>7.216667</td>\n",
       "      <td>17.283333</td>\n",
       "      <td>231.228926</td>\n",
       "      <td>-141.228926</td>\n",
       "    </tr>\n",
       "    <tr>\n",
       "      <th>1</th>\n",
       "      <td>2021-11-26 00:01:00</td>\n",
       "      <td>713</td>\n",
       "      <td>1717</td>\n",
       "      <td>0.016667</td>\n",
       "      <td>7.216667</td>\n",
       "      <td>17.283333</td>\n",
       "      <td>230.739259</td>\n",
       "      <td>-140.739259</td>\n",
       "    </tr>\n",
       "    <tr>\n",
       "      <th>2</th>\n",
       "      <td>2021-11-26 00:02:00</td>\n",
       "      <td>713</td>\n",
       "      <td>1717</td>\n",
       "      <td>0.033333</td>\n",
       "      <td>7.216667</td>\n",
       "      <td>17.283333</td>\n",
       "      <td>230.250259</td>\n",
       "      <td>-140.250259</td>\n",
       "    </tr>\n",
       "  </tbody>\n",
       "</table>\n",
       "</div>"
      ],
      "text/plain": [
       "                    시간  일출시간  일몰시간  hour_float  일출시간_float  일몰시간_float  \\\n",
       "0  2021-11-26 00:00:00   713  1717    0.000000    7.216667   17.283333   \n",
       "1  2021-11-26 00:01:00   713  1717    0.016667    7.216667   17.283333   \n",
       "2  2021-11-26 00:02:00   713  1717    0.033333    7.216667   17.283333   \n",
       "\n",
       "       zenith    altitude  \n",
       "0  231.228926 -141.228926  \n",
       "1  230.739259 -140.739259  \n",
       "2  230.250259 -140.250259  "
      ]
     },
     "execution_count": 15,
     "metadata": {},
     "output_type": "execute_result"
    }
   ],
   "source": [
    "sunrise_data.head(3)"
   ]
  },
  {
   "cell_type": "code",
   "execution_count": 16,
   "id": "993d977e",
   "metadata": {},
   "outputs": [],
   "source": [
    "data = pd.merge(org_data.drop([\"일출시간\",\"일몰시간\"],axis=1),\n",
    "                sunrise_data[[\"일출시간_float\",\"일몰시간_float\",\"zenith\",\"altitude\",\"시간\"]],\n",
    "                on=\"시간\", how = \"inner\")"
   ]
  },
  {
   "cell_type": "markdown",
   "id": "3cee0571",
   "metadata": {},
   "source": [
    "시간 데이터 처리하기\n",
    "- 연도 : numerical\n",
    "- 월 : non numerical\n",
    "- 일 : non numerical\n",
    "- 시 : non numerical\n",
    "- 분 : non numerical"
   ]
  },
  {
   "cell_type": "code",
   "execution_count": 17,
   "id": "fe698110",
   "metadata": {},
   "outputs": [],
   "source": [
    "data = data.drop([\"년월일\",\"일\",\"분\"],axis=1)"
   ]
  },
  {
   "cell_type": "markdown",
   "id": "b7f26c9e",
   "metadata": {},
   "source": [
    "#### 일출,일몰 3시간, 1시간반 데이터 처리하기"
   ]
  },
  {
   "cell_type": "code",
   "execution_count": 18,
   "id": "09bec144",
   "metadata": {},
   "outputs": [],
   "source": [
    "data[\"일출3시간후_float\"] = data[\"일출3시간후\"].apply(lambda x : hour_str_to_float(x))\n",
    "data[\"일몰3시간후_float\"] = data[\"일몰3시간후\"].apply(lambda x : hour_str_to_float(x))\n",
    "data[\"일출1시간후_float\"] = data[\"일출1시간후\"].apply(lambda x : hour_str_to_float(x))\n",
    "data[\"일몰1시간반전_float\"] = data[\"일몰1시간반전\"].apply(lambda x : hour_str_to_float(x))"
   ]
  },
  {
   "cell_type": "code",
   "execution_count": 19,
   "id": "656d4145",
   "metadata": {},
   "outputs": [],
   "source": [
    "data = data.drop([\"일출3시간후_float\",\"일몰3시간후_float\",\"일출1시간후_float\",\"일몰1시간반전_float\"],axis=1)"
   ]
  },
  {
   "cell_type": "markdown",
   "id": "44a86d4b",
   "metadata": {},
   "source": [
    "#### 팬코일 B동 데이터\n",
    "- 0과 1이 아닌, 0.5 발견\n",
    "- 반올림 처리하기"
   ]
  },
  {
   "cell_type": "code",
   "execution_count": 20,
   "id": "dfc7c48d",
   "metadata": {},
   "outputs": [],
   "source": [
    "data[\"팬코일 B동\"] = data[\"팬코일 B동\"].apply(lambda x : 1 if x == 0.5 else x )"
   ]
  },
  {
   "cell_type": "code",
   "execution_count": 21,
   "id": "00bf9aee",
   "metadata": {},
   "outputs": [],
   "source": [
    "data.drop([\"차열스크린_광도조절\",\"차광스크린_광도조절\"],axis=1,inplace=True)"
   ]
  },
  {
   "cell_type": "markdown",
   "id": "bb0ee77f",
   "metadata": {},
   "source": [
    "발전량 시간대별 평균, 표준편차 파생변수 추가하기"
   ]
  },
  {
   "cell_type": "code",
   "execution_count": 22,
   "id": "5215ee84",
   "metadata": {},
   "outputs": [],
   "source": [
    "train = data.iloc[:129448,:]\n",
    "test = data.iloc[129448:,:]"
   ]
  },
  {
   "cell_type": "code",
   "execution_count": 23,
   "id": "dfa6d43f",
   "metadata": {},
   "outputs": [
    {
     "data": {
      "text/plain": [
       "129448   NaN\n",
       "129449   NaN\n",
       "129450   NaN\n",
       "129451   NaN\n",
       "129452   NaN\n",
       "          ..\n",
       "148163   NaN\n",
       "148164   NaN\n",
       "148165   NaN\n",
       "148166   NaN\n",
       "148167   NaN\n",
       "Name: 열공급량(kWh), Length: 18720, dtype: float64"
      ]
     },
     "execution_count": 23,
     "metadata": {},
     "output_type": "execute_result"
    }
   ],
   "source": [
    "test[\"열공급량(kWh)\"]"
   ]
  },
  {
   "cell_type": "code",
   "execution_count": 24,
   "id": "a5b505dd",
   "metadata": {},
   "outputs": [],
   "source": [
    "## 시간대별 열공급량 평균 넣어주기\n",
    "power_hour_mean = pd.pivot_table(train, values = '열공급량(kWh)', index = ['시'], aggfunc = np.mean).reset_index()\n",
    "power_hour_mean.columns = [\"시\",\"시간대별_평균열공급량\"]\n",
    "\n",
    "power_hour_std = pd.pivot_table(train, values = '열공급량(kWh)', index = ['시'], aggfunc = np.std).reset_index()\n",
    "power_hour_std.columns = [\"시\",\"시간대별_열공급량표준편차\"]"
   ]
  },
  {
   "cell_type": "code",
   "execution_count": 25,
   "id": "fe786f03",
   "metadata": {},
   "outputs": [],
   "source": [
    "# 데이터 연결하가\n",
    "\n",
    "data = pd.merge(data,power_hour_mean,on=\"시\",how=\"left\")\n",
    "data = pd.merge(data,power_hour_std,on=\"시\",how=\"left\")"
   ]
  },
  {
   "cell_type": "code",
   "execution_count": 26,
   "id": "a76eb516",
   "metadata": {},
   "outputs": [],
   "source": [
    "train = data.iloc[:129448,:]\n",
    "test = data.iloc[129448:,:]"
   ]
  },
  {
   "cell_type": "markdown",
   "id": "d0695b43",
   "metadata": {},
   "source": [
    "#### 광도조절 데이터 제거하기\n",
    "- 데이터가 다 똑같음"
   ]
  },
  {
   "cell_type": "code",
   "execution_count": 27,
   "id": "edbb738e",
   "metadata": {},
   "outputs": [
    {
     "data": {
      "text/plain": [
       "0         0.9\n",
       "1         0.9\n",
       "2         0.9\n",
       "3         0.8\n",
       "4         1.0\n",
       "         ... \n",
       "129443    0.9\n",
       "129444    0.8\n",
       "129445    0.8\n",
       "129446    0.8\n",
       "129447    0.8\n",
       "Name: 열공급량(kWh), Length: 129448, dtype: float64"
      ]
     },
     "execution_count": 27,
     "metadata": {},
     "output_type": "execute_result"
    }
   ],
   "source": [
    "train[\"열공급량(kWh)\"]"
   ]
  },
  {
   "cell_type": "markdown",
   "id": "a8398d46",
   "metadata": {},
   "source": [
    "문자열 칼럼 추출"
   ]
  },
  {
   "cell_type": "code",
   "execution_count": 28,
   "id": "e115e134",
   "metadata": {},
   "outputs": [],
   "source": [
    "# 문자열 형식의 컬럼만 추출하기\n",
    "object_lst = []\n",
    "\n",
    "# 숫자 형식의 컬럼만 추출하기\n",
    "num_lst = []\n",
    "\n",
    "for col in data.columns:\n",
    "    if data[col].dtype == \"object\":\n",
    "        object_lst.append(col)\n",
    "    \n",
    "    else:\n",
    "        num_lst.append(col)"
   ]
  },
  {
   "cell_type": "code",
   "execution_count": 29,
   "id": "d2e85f4b",
   "metadata": {},
   "outputs": [],
   "source": [
    "# 카테고리열 제거한 numerical\n",
    "# 진짜 숫자 관련 열만 존재\n",
    "\n",
    "num_lst_real = [x for x in num_lst if x not in [\"월\",\"일\",\"시\",'배기팬','유동팬','팬코일 B동',\"차광스크린_개방\",\n",
    "                                                \"열공급량(kWh)\",\"환기온도(천창 제어온도)\"]]\n",
    "\n",
    "object_lst_real = object_lst + ['배기팬','유동팬','팬코일 B동', \"차광스크린_개방\",\"환기온도(천창 제어온도)\"]\n",
    "\n",
    "object_no_binary = [x for x in object_lst_real if x not in [\"배기팬\",\"유동팬\",\"팬코일 B동\",\"차광스크린_개방\",\"환기온도(천창 제어온도)\"]]"
   ]
  },
  {
   "cell_type": "markdown",
   "id": "d3eef6c1",
   "metadata": {},
   "source": [
    "#### MeanEncoding을 하기 위한 EDA 작업하기\n",
    "- object_lst_real : categorial data\n",
    "- num_lst_real : numeric data"
   ]
  },
  {
   "cell_type": "code",
   "execution_count": 30,
   "id": "0adc82d2",
   "metadata": {},
   "outputs": [
    {
     "data": {
      "text/plain": [
       "['시간',\n",
       " '차광스크린_개방조절',\n",
       " '차열스크린_온도조절',\n",
       " '차열스크린_개방조절',\n",
       " '시간범주',\n",
       " '일몰전후',\n",
       " '일출일몰',\n",
       " '오존등급',\n",
       " '아황산가스등급',\n",
       " '이산화질소등급',\n",
       " 'PM10등급',\n",
       " 'PM25등급',\n",
       " '배기팬',\n",
       " '유동팬',\n",
       " '팬코일 B동',\n",
       " '차광스크린_개방',\n",
       " '환기온도(천창 제어온도)']"
      ]
     },
     "execution_count": 30,
     "metadata": {},
     "output_type": "execute_result"
    }
   ],
   "source": [
    "object_lst_real"
   ]
  },
  {
   "cell_type": "markdown",
   "id": "0eef2563",
   "metadata": {},
   "source": [
    "#### Object 데이터\n",
    "- 차광스크린 광도조절\n",
    "- 차열스크린 광도조절\n",
    "- 데이터 제거하기"
   ]
  },
  {
   "cell_type": "code",
   "execution_count": 31,
   "id": "4c4caac9",
   "metadata": {},
   "outputs": [],
   "source": [
    "data = pd.concat([train,test],axis=0)"
   ]
  },
  {
   "cell_type": "code",
   "execution_count": 32,
   "id": "e320bdb0",
   "metadata": {},
   "outputs": [
    {
     "data": {
      "text/plain": [
       "0         0.9\n",
       "1         0.9\n",
       "2         0.9\n",
       "3         0.8\n",
       "4         1.0\n",
       "         ... \n",
       "129443    0.9\n",
       "129444    0.8\n",
       "129445    0.8\n",
       "129446    0.8\n",
       "129447    0.8\n",
       "Name: 열공급량(kWh), Length: 129448, dtype: float64"
      ]
     },
     "execution_count": 32,
     "metadata": {},
     "output_type": "execute_result"
    }
   ],
   "source": [
    "data.loc[:129447,\"열공급량(kWh)\"]"
   ]
  },
  {
   "cell_type": "markdown",
   "id": "75fd99a3",
   "metadata": {},
   "source": [
    "### Ordinary 한 Categorical Data Encoding\n",
    "- Ordinary : 차광스크린_개방조절, 차열스크린_온도조절, 차열스크린_개방조절, 오존등급, 아황산가스등급\n",
    "- 나머지 Object 데이터인 시간범주, 일몰전후, 일출일몰은 원핫인코딩"
   ]
  },
  {
   "cell_type": "code",
   "execution_count": 34,
   "id": "04427f4b",
   "metadata": {},
   "outputs": [],
   "source": [
    "data_encode = data.copy()\n",
    "\n",
    "for col in [\"차열스크린_개방조절\"]:\n",
    "    \n",
    "    map_df = pd.DataFrame(index = ['0%~30%개방', '30%~70%개방', '70%~100%개방','100%개방'],\n",
    "                             data = [0,1,2,3],\n",
    "                             columns = [col])[col]\n",
    "    # 인코딩 진행\n",
    "    data_encode[col] = data_encode[col].map(map_df)\n",
    "    \n",
    "for col in [\"차광스크린_개방조절\"]:\n",
    "    \n",
    "    map_df = pd.DataFrame(index = ['0%~30%개방', '30%~80%개방', '80%~100%개방','100%개방'],\n",
    "                             data = [0,1,2,3],\n",
    "                             columns = [col])[col]\n",
    "    # 인코딩 진행\n",
    "    data_encode[col] = data_encode[col].map(map_df)\n",
    "    \n",
    "    \n",
    "for col in [\"차열스크린_온도조절\"]:\n",
    "    \n",
    "    map_df = pd.DataFrame(index = ['23도미만','23도~25도', '25도~26도', '26도이상'],\n",
    "                             data = [0,1,2,3],\n",
    "                             columns = [col])[col]\n",
    "    \n",
    "    # 인코딩 진행\n",
    "    data_encode[col] = data_encode[col].map(map_df)\n",
    "    \n",
    "for col in [\"오존등급\", \"아황산가스등급\",\"이산화질소등급\",\"PM10등급\",\"PM25등급\"]:\n",
    "    \n",
    "    # mapping 하기 위한 DataFrame\n",
    "    map_df = pd.DataFrame(index = sorted(data_encode[col].value_counts().index.values),\n",
    "             data = [i for i in range(len(data_encode[col].value_counts()))],\n",
    "             columns = [col])[col]\n",
    "\n",
    "    # 인코딩 진행\n",
    "    data_encode[col] = data_encode[col].map(map_df)"
   ]
  },
  {
   "cell_type": "code",
   "execution_count": 35,
   "id": "faf08662",
   "metadata": {},
   "outputs": [],
   "source": [
    "data = data_encode.copy()"
   ]
  },
  {
   "cell_type": "code",
   "execution_count": 36,
   "id": "7655cfe2",
   "metadata": {},
   "outputs": [],
   "source": [
    "train = data.iloc[:129448,:]\n",
    "test = data.iloc[129448:,:]"
   ]
  },
  {
   "cell_type": "code",
   "execution_count": 37,
   "id": "e974f1bb",
   "metadata": {},
   "outputs": [
    {
     "data": {
      "text/plain": [
       "0         0.9\n",
       "1         0.9\n",
       "2         0.9\n",
       "3         0.8\n",
       "4         1.0\n",
       "         ... \n",
       "129443    0.9\n",
       "129444    0.8\n",
       "129445    0.8\n",
       "129446    0.8\n",
       "129447    0.8\n",
       "Name: 열공급량(kWh), Length: 129448, dtype: float64"
      ]
     },
     "execution_count": 37,
     "metadata": {},
     "output_type": "execute_result"
    }
   ],
   "source": [
    "train[\"열공급량(kWh)\"]"
   ]
  },
  {
   "cell_type": "markdown",
   "id": "0da0c512",
   "metadata": {},
   "source": [
    "## 변수 선택 이전 스케일링, 로그변환"
   ]
  },
  {
   "cell_type": "markdown",
   "id": "f2a40aba",
   "metadata": {},
   "source": [
    "#### 일단 column별로 skew 값 먼저 확인하기\n",
    "- 강수량을 제외한 천창, 아황산가스_1시간 데이터만 log 변환해주기"
   ]
  },
  {
   "cell_type": "code",
   "execution_count": 33,
   "id": "cc8016e7",
   "metadata": {},
   "outputs": [
    {
     "data": {
      "text/plain": [
       "Text(0.5, 1.0, '열공급량(kWh)의 밀도추정함수 : Skew 값 4.57')"
      ]
     },
     "execution_count": 33,
     "metadata": {},
     "output_type": "execute_result"
    },
    {
     "data": {
      "image/png": "[encoded data removed]",
      "text/plain": [
       "<Figure size 432x288 with 1 Axes>"
      ]
     },
     "metadata": {
      "needs_background": "light"
     },
     "output_type": "display_data"
    }
   ],
   "source": [
    "sns.kdeplot(org_data[\"열공급량(kWh)\"], shade=True)\n",
    "plt.title(\"열공급량(kWh)의 밀도추정함수 : Skew 값 4.57\",fontsize=15)"
   ]
  },
  {
   "cell_type": "code",
   "execution_count": 38,
   "id": "c5ed4398",
   "metadata": {},
   "outputs": [
    {
     "data": {
      "text/plain": [
       "<matplotlib.legend.Legend at 0x1de3e4b98e0>"
      ]
     },
     "execution_count": 38,
     "metadata": {},
     "output_type": "execute_result"
    },
    {
     "data": {
      "image/png": "[encoded data removed]",
      "text/plain": [
       "<Figure size 432x288 with 1 Axes>"
      ]
     },
     "metadata": {
      "needs_background": "light"
     },
     "output_type": "display_data"
    }
   ],
   "source": [
    "org_data[\"열공급량(kWh)\"].hist(label=\"원본\")\n",
    "np.log1p(org_data[\"열공급량(kWh)\"]).hist(label=\"로그변환\")\n",
    "plt.title(\"열공급량(kWh)의 히스토그램\",fontsize=15)\n",
    "plt.legend()"
   ]
  },
  {
   "cell_type": "code",
   "execution_count": 32,
   "id": "851376a4",
   "metadata": {},
   "outputs": [
    {
     "data": {
      "text/plain": [
       "Text(0.5, 1.0, '천창의 밀도추정함수 : Skew 값 4.57')"
      ]
     },
     "execution_count": 32,
     "metadata": {},
     "output_type": "execute_result"
    },
    {
     "data": {
      "image/png": "[encoded data removed]",
      "text/plain": [
       "<Figure size 432x288 with 1 Axes>"
      ]
     },
     "metadata": {
      "needs_background": "light"
     },
     "output_type": "display_data"
    }
   ],
   "source": [
    "sns.kdeplot(org_data[\"천창\"], shade=True)\n",
    "plt.title(\"천창의 밀도추정함수 : Skew 값 4.57\",fontsize=15)"
   ]
  },
  {
   "cell_type": "code",
   "execution_count": 28,
   "id": "3a7285c7",
   "metadata": {},
   "outputs": [
    {
     "data": {
      "text/plain": [
       "Text(0.5, 1.0, '누적강수량의 밀도추정함수 : Skew 값 7.38')"
      ]
     },
     "execution_count": 28,
     "metadata": {},
     "output_type": "execute_result"
    },
    {
     "data": {
      "image/png": "[encoded data removed]",
      "text/plain": [
       "<Figure size 432x288 with 1 Axes>"
      ]
     },
     "metadata": {
      "needs_background": "light"
     },
     "output_type": "display_data"
    }
   ],
   "source": [
    "sns.kdeplot(org_data[\"누적강수량\"], shade=True)\n",
    "plt.title(\"누적강수량의 밀도추정함수 : Skew 값 7.38\",fontsize=15)"
   ]
  },
  {
   "cell_type": "code",
   "execution_count": 27,
   "id": "fd540f37",
   "metadata": {},
   "outputs": [
    {
     "data": {
      "text/plain": [
       "Text(0.5, 1.0, '아황산가스_1시간의 밀도추정함수 : Skew 값 3.13')"
      ]
     },
     "execution_count": 27,
     "metadata": {},
     "output_type": "execute_result"
    },
    {
     "data": {
      "image/png": "[encoded data removed]",
      "text/plain": [
       "<Figure size 432x288 with 1 Axes>"
      ]
     },
     "metadata": {
      "needs_background": "light"
     },
     "output_type": "display_data"
    }
   ],
   "source": [
    "sns.kdeplot(org_data[\"아황산가스_1시간\"], shade=True)\n",
    "plt.title(\"아황산가스_1시간의 밀도추정함수 : Skew 값 3.13\",fontsize=15)"
   ]
  },
  {
   "cell_type": "code",
   "execution_count": 39,
   "id": "783fb467",
   "metadata": {},
   "outputs": [
    {
     "name": "stdout",
     "output_type": "stream",
     "text": [
      "log1p 변환이전 :  4.579098139125924\n",
      "천창\n",
      "log1p 변환이전 :  7.384725752483332\n",
      "누적강수량\n",
      "log1p 변환이전 :  3.13108520363669\n",
      "아황산가스_1시간\n"
     ]
    }
   ],
   "source": [
    "# 왜도 3인 설명변수 log1p 변환\n",
    "for val in ['일사량(W/㎡)','외기온(℃)','외기습도(%)','풍속(m/s)', '풍향(º)','내부 온도','내부 습도','차광스크린(수평)','차열스크린(수평)',\n",
    " '에너지스크린(수평)','에너지스크린(수직)','천창','난방온도(설정온도)','누적강수량','현지기압','해면기압','PM10_1시간','PM25_1시간',\n",
    " '오존_1시간','이산화질소_1시간','일산화탄소_1시간','아황산가스_1시간','지면온도']:\n",
    "    if abs(data[val].skew()) > 2:\n",
    "        print(\"log1p 변환이전 : \",abs(data[val].skew()))\n",
    "        print(val)\n"
   ]
  },
  {
   "cell_type": "markdown",
   "id": "fb594637",
   "metadata": {},
   "source": [
    "log 변환해주기"
   ]
  },
  {
   "cell_type": "code",
   "execution_count": 30,
   "id": "834503b6",
   "metadata": {},
   "outputs": [
    {
     "data": {
      "text/plain": [
       "2.495661912698896"
      ]
     },
     "execution_count": 30,
     "metadata": {},
     "output_type": "execute_result"
    }
   ],
   "source": [
    "np.log1p(org_data[\"천창\"]).skew()"
   ]
  },
  {
   "cell_type": "code",
   "execution_count": 40,
   "id": "371e9626",
   "metadata": {},
   "outputs": [],
   "source": [
    "for val in [\"천창\",\"아황산가스_1시간\"]:\n",
    "    data[val] = np.log1p(data[val])"
   ]
  },
  {
   "cell_type": "markdown",
   "id": "36b36553",
   "metadata": {},
   "source": [
    "### 스케일링"
   ]
  },
  {
   "cell_type": "code",
   "execution_count": 41,
   "id": "b260112d",
   "metadata": {},
   "outputs": [],
   "source": [
    "from sklearn.preprocessing import StandardScaler, MinMaxScaler"
   ]
  },
  {
   "cell_type": "code",
   "execution_count": 42,
   "id": "65eb5fb6",
   "metadata": {},
   "outputs": [
    {
     "data": {
      "text/html": [
       "<div>\n",
       "<style scoped>\n",
       "    .dataframe tbody tr th:only-of-type {\n",
       "        vertical-align: middle;\n",
       "    }\n",
       "\n",
       "    .dataframe tbody tr th {\n",
       "        vertical-align: top;\n",
       "    }\n",
       "\n",
       "    .dataframe thead th {\n",
       "        text-align: right;\n",
       "    }\n",
       "</style>\n",
       "<table border=\"1\" class=\"dataframe\">\n",
       "  <thead>\n",
       "    <tr style=\"text-align: right;\">\n",
       "      <th></th>\n",
       "      <th>시간</th>\n",
       "      <th>년도</th>\n",
       "      <th>월</th>\n",
       "      <th>시</th>\n",
       "      <th>일사량(W/㎡)</th>\n",
       "      <th>외기온(℃)</th>\n",
       "      <th>외기습도(%)</th>\n",
       "      <th>풍속(m/s)</th>\n",
       "      <th>풍향(º)</th>\n",
       "      <th>내부 온도</th>\n",
       "      <th>내부 습도</th>\n",
       "      <th>차광스크린(수평)</th>\n",
       "      <th>차열스크린(수평)</th>\n",
       "      <th>에너지스크린(수평)</th>\n",
       "      <th>에너지스크린(수직)</th>\n",
       "      <th>배기팬</th>\n",
       "      <th>천창</th>\n",
       "      <th>유동팬</th>\n",
       "      <th>팬코일 B동</th>\n",
       "      <th>환기온도(천창 제어온도)</th>\n",
       "      <th>난방온도(설정온도)</th>\n",
       "      <th>열공급량(kWh)</th>\n",
       "      <th>누적강수량</th>\n",
       "      <th>현지기압</th>\n",
       "      <th>해면기압</th>\n",
       "      <th>일조</th>\n",
       "      <th>PM10_1시간</th>\n",
       "      <th>PM25_1시간</th>\n",
       "      <th>오존_1시간</th>\n",
       "      <th>이산화질소_1시간</th>\n",
       "      <th>일산화탄소_1시간</th>\n",
       "      <th>아황산가스_1시간</th>\n",
       "      <th>차광스크린_개방</th>\n",
       "      <th>차광스크린_개방조절</th>\n",
       "      <th>차열스크린_온도조절</th>\n",
       "      <th>차열스크린_개방조절</th>\n",
       "      <th>일출3시간후</th>\n",
       "      <th>일출1시간후</th>\n",
       "      <th>일몰3시간후</th>\n",
       "      <th>일몰1시간반전</th>\n",
       "      <th>하루길이</th>\n",
       "      <th>시간범주</th>\n",
       "      <th>일몰전후</th>\n",
       "      <th>일출일몰</th>\n",
       "      <th>지면온도</th>\n",
       "      <th>오존등급</th>\n",
       "      <th>아황산가스등급</th>\n",
       "      <th>이산화질소등급</th>\n",
       "      <th>PM10등급</th>\n",
       "      <th>PM25등급</th>\n",
       "      <th>이슬점</th>\n",
       "      <th>hour_float</th>\n",
       "      <th>cos_time</th>\n",
       "      <th>sin_time</th>\n",
       "      <th>일출시간_float</th>\n",
       "      <th>일몰시간_float</th>\n",
       "      <th>zenith</th>\n",
       "      <th>altitude</th>\n",
       "      <th>시간대별_평균열공급량</th>\n",
       "      <th>시간대별_열공급량표준편차</th>\n",
       "    </tr>\n",
       "  </thead>\n",
       "  <tbody>\n",
       "    <tr>\n",
       "      <th>0</th>\n",
       "      <td>2021-11-26 00:00:00</td>\n",
       "      <td>2021</td>\n",
       "      <td>11</td>\n",
       "      <td>0</td>\n",
       "      <td>0.0</td>\n",
       "      <td>5.8</td>\n",
       "      <td>67</td>\n",
       "      <td>0.0</td>\n",
       "      <td>325</td>\n",
       "      <td>18.3</td>\n",
       "      <td>62.0</td>\n",
       "      <td>0</td>\n",
       "      <td>0</td>\n",
       "      <td>0</td>\n",
       "      <td>0</td>\n",
       "      <td>0</td>\n",
       "      <td>0.0</td>\n",
       "      <td>1</td>\n",
       "      <td>0.0</td>\n",
       "      <td>28</td>\n",
       "      <td>18.0</td>\n",
       "      <td>0.9</td>\n",
       "      <td>0.0</td>\n",
       "      <td>1018.2</td>\n",
       "      <td>1021.9</td>\n",
       "      <td>29180.0</td>\n",
       "      <td>33.0</td>\n",
       "      <td>22.0</td>\n",
       "      <td>0.003</td>\n",
       "      <td>0.028</td>\n",
       "      <td>0.4</td>\n",
       "      <td>0.002996</td>\n",
       "      <td>0</td>\n",
       "      <td>0</td>\n",
       "      <td>0</td>\n",
       "      <td>0</td>\n",
       "      <td>1013</td>\n",
       "      <td>813</td>\n",
       "      <td>2017</td>\n",
       "      <td>1547</td>\n",
       "      <td>1004</td>\n",
       "      <td>야간</td>\n",
       "      <td>일몰1시간반_후</td>\n",
       "      <td>일몰</td>\n",
       "      <td>2.7</td>\n",
       "      <td>1</td>\n",
       "      <td>1</td>\n",
       "      <td>2</td>\n",
       "      <td>1</td>\n",
       "      <td>1</td>\n",
       "      <td>10.889913</td>\n",
       "      <td>0.000000</td>\n",
       "      <td>1.000000</td>\n",
       "      <td>0.000000</td>\n",
       "      <td>7.216667</td>\n",
       "      <td>17.283333</td>\n",
       "      <td>231.228926</td>\n",
       "      <td>-141.228926</td>\n",
       "      <td>0.473398</td>\n",
       "      <td>0.248416</td>\n",
       "    </tr>\n",
       "    <tr>\n",
       "      <th>1</th>\n",
       "      <td>2021-11-26 00:01:00</td>\n",
       "      <td>2021</td>\n",
       "      <td>11</td>\n",
       "      <td>0</td>\n",
       "      <td>0.0</td>\n",
       "      <td>5.8</td>\n",
       "      <td>67</td>\n",
       "      <td>0.4</td>\n",
       "      <td>344</td>\n",
       "      <td>18.1</td>\n",
       "      <td>63.4</td>\n",
       "      <td>0</td>\n",
       "      <td>0</td>\n",
       "      <td>0</td>\n",
       "      <td>0</td>\n",
       "      <td>0</td>\n",
       "      <td>0.0</td>\n",
       "      <td>1</td>\n",
       "      <td>0.0</td>\n",
       "      <td>28</td>\n",
       "      <td>18.0</td>\n",
       "      <td>0.9</td>\n",
       "      <td>0.0</td>\n",
       "      <td>1018.2</td>\n",
       "      <td>1021.9</td>\n",
       "      <td>0.0</td>\n",
       "      <td>33.0</td>\n",
       "      <td>22.0</td>\n",
       "      <td>0.003</td>\n",
       "      <td>0.028</td>\n",
       "      <td>0.4</td>\n",
       "      <td>0.002996</td>\n",
       "      <td>0</td>\n",
       "      <td>0</td>\n",
       "      <td>0</td>\n",
       "      <td>0</td>\n",
       "      <td>1013</td>\n",
       "      <td>813</td>\n",
       "      <td>2017</td>\n",
       "      <td>1547</td>\n",
       "      <td>1004</td>\n",
       "      <td>야간</td>\n",
       "      <td>일몰1시간반_후</td>\n",
       "      <td>일몰</td>\n",
       "      <td>2.7</td>\n",
       "      <td>1</td>\n",
       "      <td>1</td>\n",
       "      <td>2</td>\n",
       "      <td>1</td>\n",
       "      <td>1</td>\n",
       "      <td>11.037352</td>\n",
       "      <td>0.016667</td>\n",
       "      <td>0.999990</td>\n",
       "      <td>0.004363</td>\n",
       "      <td>7.216667</td>\n",
       "      <td>17.283333</td>\n",
       "      <td>230.739259</td>\n",
       "      <td>-140.739259</td>\n",
       "      <td>0.473398</td>\n",
       "      <td>0.248416</td>\n",
       "    </tr>\n",
       "    <tr>\n",
       "      <th>2</th>\n",
       "      <td>2021-11-26 00:02:00</td>\n",
       "      <td>2021</td>\n",
       "      <td>11</td>\n",
       "      <td>0</td>\n",
       "      <td>0.0</td>\n",
       "      <td>5.7</td>\n",
       "      <td>67</td>\n",
       "      <td>0.9</td>\n",
       "      <td>105</td>\n",
       "      <td>17.7</td>\n",
       "      <td>65.2</td>\n",
       "      <td>0</td>\n",
       "      <td>0</td>\n",
       "      <td>0</td>\n",
       "      <td>0</td>\n",
       "      <td>0</td>\n",
       "      <td>0.0</td>\n",
       "      <td>1</td>\n",
       "      <td>1.0</td>\n",
       "      <td>28</td>\n",
       "      <td>18.0</td>\n",
       "      <td>0.9</td>\n",
       "      <td>0.0</td>\n",
       "      <td>1018.1</td>\n",
       "      <td>1021.8</td>\n",
       "      <td>0.0</td>\n",
       "      <td>33.0</td>\n",
       "      <td>22.0</td>\n",
       "      <td>0.003</td>\n",
       "      <td>0.028</td>\n",
       "      <td>0.4</td>\n",
       "      <td>0.002996</td>\n",
       "      <td>0</td>\n",
       "      <td>0</td>\n",
       "      <td>0</td>\n",
       "      <td>0</td>\n",
       "      <td>1013</td>\n",
       "      <td>813</td>\n",
       "      <td>2017</td>\n",
       "      <td>1547</td>\n",
       "      <td>1004</td>\n",
       "      <td>야간</td>\n",
       "      <td>일몰1시간반_후</td>\n",
       "      <td>일몰</td>\n",
       "      <td>2.7</td>\n",
       "      <td>1</td>\n",
       "      <td>1</td>\n",
       "      <td>2</td>\n",
       "      <td>1</td>\n",
       "      <td>1</td>\n",
       "      <td>11.080268</td>\n",
       "      <td>0.033333</td>\n",
       "      <td>0.999962</td>\n",
       "      <td>0.008727</td>\n",
       "      <td>7.216667</td>\n",
       "      <td>17.283333</td>\n",
       "      <td>230.250259</td>\n",
       "      <td>-140.250259</td>\n",
       "      <td>0.473398</td>\n",
       "      <td>0.248416</td>\n",
       "    </tr>\n",
       "    <tr>\n",
       "      <th>3</th>\n",
       "      <td>2021-11-26 00:03:00</td>\n",
       "      <td>2021</td>\n",
       "      <td>11</td>\n",
       "      <td>0</td>\n",
       "      <td>0.0</td>\n",
       "      <td>5.7</td>\n",
       "      <td>67</td>\n",
       "      <td>1.3</td>\n",
       "      <td>123</td>\n",
       "      <td>17.7</td>\n",
       "      <td>63.9</td>\n",
       "      <td>0</td>\n",
       "      <td>0</td>\n",
       "      <td>0</td>\n",
       "      <td>0</td>\n",
       "      <td>0</td>\n",
       "      <td>0.0</td>\n",
       "      <td>1</td>\n",
       "      <td>1.0</td>\n",
       "      <td>28</td>\n",
       "      <td>18.0</td>\n",
       "      <td>0.8</td>\n",
       "      <td>0.0</td>\n",
       "      <td>1018.1</td>\n",
       "      <td>1021.8</td>\n",
       "      <td>0.0</td>\n",
       "      <td>33.0</td>\n",
       "      <td>22.0</td>\n",
       "      <td>0.003</td>\n",
       "      <td>0.028</td>\n",
       "      <td>0.4</td>\n",
       "      <td>0.002996</td>\n",
       "      <td>0</td>\n",
       "      <td>0</td>\n",
       "      <td>0</td>\n",
       "      <td>0</td>\n",
       "      <td>1013</td>\n",
       "      <td>813</td>\n",
       "      <td>2017</td>\n",
       "      <td>1547</td>\n",
       "      <td>1004</td>\n",
       "      <td>야간</td>\n",
       "      <td>일몰1시간반_후</td>\n",
       "      <td>일몰</td>\n",
       "      <td>2.7</td>\n",
       "      <td>1</td>\n",
       "      <td>1</td>\n",
       "      <td>2</td>\n",
       "      <td>1</td>\n",
       "      <td>1</td>\n",
       "      <td>10.776831</td>\n",
       "      <td>0.050000</td>\n",
       "      <td>0.999914</td>\n",
       "      <td>0.013090</td>\n",
       "      <td>7.216667</td>\n",
       "      <td>17.283333</td>\n",
       "      <td>229.761926</td>\n",
       "      <td>-139.761926</td>\n",
       "      <td>0.473398</td>\n",
       "      <td>0.248416</td>\n",
       "    </tr>\n",
       "    <tr>\n",
       "      <th>4</th>\n",
       "      <td>2021-11-26 00:04:00</td>\n",
       "      <td>2021</td>\n",
       "      <td>11</td>\n",
       "      <td>0</td>\n",
       "      <td>0.0</td>\n",
       "      <td>5.7</td>\n",
       "      <td>67</td>\n",
       "      <td>0.9</td>\n",
       "      <td>123</td>\n",
       "      <td>17.6</td>\n",
       "      <td>64.7</td>\n",
       "      <td>0</td>\n",
       "      <td>0</td>\n",
       "      <td>0</td>\n",
       "      <td>0</td>\n",
       "      <td>0</td>\n",
       "      <td>0.0</td>\n",
       "      <td>1</td>\n",
       "      <td>1.0</td>\n",
       "      <td>28</td>\n",
       "      <td>18.0</td>\n",
       "      <td>1.0</td>\n",
       "      <td>0.0</td>\n",
       "      <td>1018.1</td>\n",
       "      <td>1021.8</td>\n",
       "      <td>0.0</td>\n",
       "      <td>33.0</td>\n",
       "      <td>22.0</td>\n",
       "      <td>0.003</td>\n",
       "      <td>0.028</td>\n",
       "      <td>0.4</td>\n",
       "      <td>0.002996</td>\n",
       "      <td>0</td>\n",
       "      <td>0</td>\n",
       "      <td>0</td>\n",
       "      <td>0</td>\n",
       "      <td>1013</td>\n",
       "      <td>813</td>\n",
       "      <td>2017</td>\n",
       "      <td>1547</td>\n",
       "      <td>1004</td>\n",
       "      <td>야간</td>\n",
       "      <td>일몰1시간반_후</td>\n",
       "      <td>일몰</td>\n",
       "      <td>2.7</td>\n",
       "      <td>1</td>\n",
       "      <td>1</td>\n",
       "      <td>2</td>\n",
       "      <td>1</td>\n",
       "      <td>1</td>\n",
       "      <td>10.869295</td>\n",
       "      <td>0.066667</td>\n",
       "      <td>0.999848</td>\n",
       "      <td>0.017452</td>\n",
       "      <td>7.216667</td>\n",
       "      <td>17.283333</td>\n",
       "      <td>229.274259</td>\n",
       "      <td>-139.274259</td>\n",
       "      <td>0.473398</td>\n",
       "      <td>0.248416</td>\n",
       "    </tr>\n",
       "  </tbody>\n",
       "</table>\n",
       "</div>"
      ],
      "text/plain": [
       "                    시간    년도   월  시  일사량(W/㎡)  외기온(℃)  외기습도(%)  풍속(m/s)  \\\n",
       "0  2021-11-26 00:00:00  2021  11  0       0.0     5.8       67      0.0   \n",
       "1  2021-11-26 00:01:00  2021  11  0       0.0     5.8       67      0.4   \n",
       "2  2021-11-26 00:02:00  2021  11  0       0.0     5.7       67      0.9   \n",
       "3  2021-11-26 00:03:00  2021  11  0       0.0     5.7       67      1.3   \n",
       "4  2021-11-26 00:04:00  2021  11  0       0.0     5.7       67      0.9   \n",
       "\n",
       "   풍향(º)  내부 온도  내부 습도  차광스크린(수평)  차열스크린(수평)  에너지스크린(수평)  에너지스크린(수직)  배기팬  \\\n",
       "0    325   18.3   62.0          0          0           0           0    0   \n",
       "1    344   18.1   63.4          0          0           0           0    0   \n",
       "2    105   17.7   65.2          0          0           0           0    0   \n",
       "3    123   17.7   63.9          0          0           0           0    0   \n",
       "4    123   17.6   64.7          0          0           0           0    0   \n",
       "\n",
       "    천창  유동팬  팬코일 B동  환기온도(천창 제어온도)  난방온도(설정온도)  열공급량(kWh)  누적강수량    현지기압  \\\n",
       "0  0.0    1     0.0             28        18.0        0.9    0.0  1018.2   \n",
       "1  0.0    1     0.0             28        18.0        0.9    0.0  1018.2   \n",
       "2  0.0    1     1.0             28        18.0        0.9    0.0  1018.1   \n",
       "3  0.0    1     1.0             28        18.0        0.8    0.0  1018.1   \n",
       "4  0.0    1     1.0             28        18.0        1.0    0.0  1018.1   \n",
       "\n",
       "     해면기압       일조  PM10_1시간  PM25_1시간  오존_1시간  이산화질소_1시간  일산화탄소_1시간  \\\n",
       "0  1021.9  29180.0      33.0      22.0   0.003      0.028        0.4   \n",
       "1  1021.9      0.0      33.0      22.0   0.003      0.028        0.4   \n",
       "2  1021.8      0.0      33.0      22.0   0.003      0.028        0.4   \n",
       "3  1021.8      0.0      33.0      22.0   0.003      0.028        0.4   \n",
       "4  1021.8      0.0      33.0      22.0   0.003      0.028        0.4   \n",
       "\n",
       "   아황산가스_1시간  차광스크린_개방  차광스크린_개방조절  차열스크린_온도조절  차열스크린_개방조절  일출3시간후  일출1시간후  \\\n",
       "0   0.002996         0           0           0           0    1013     813   \n",
       "1   0.002996         0           0           0           0    1013     813   \n",
       "2   0.002996         0           0           0           0    1013     813   \n",
       "3   0.002996         0           0           0           0    1013     813   \n",
       "4   0.002996         0           0           0           0    1013     813   \n",
       "\n",
       "   일몰3시간후  일몰1시간반전  하루길이 시간범주      일몰전후 일출일몰  지면온도  오존등급  아황산가스등급  이산화질소등급  \\\n",
       "0    2017     1547  1004   야간  일몰1시간반_후   일몰   2.7     1        1        2   \n",
       "1    2017     1547  1004   야간  일몰1시간반_후   일몰   2.7     1        1        2   \n",
       "2    2017     1547  1004   야간  일몰1시간반_후   일몰   2.7     1        1        2   \n",
       "3    2017     1547  1004   야간  일몰1시간반_후   일몰   2.7     1        1        2   \n",
       "4    2017     1547  1004   야간  일몰1시간반_후   일몰   2.7     1        1        2   \n",
       "\n",
       "   PM10등급  PM25등급        이슬점  hour_float  cos_time  sin_time  일출시간_float  \\\n",
       "0       1       1  10.889913    0.000000  1.000000  0.000000    7.216667   \n",
       "1       1       1  11.037352    0.016667  0.999990  0.004363    7.216667   \n",
       "2       1       1  11.080268    0.033333  0.999962  0.008727    7.216667   \n",
       "3       1       1  10.776831    0.050000  0.999914  0.013090    7.216667   \n",
       "4       1       1  10.869295    0.066667  0.999848  0.017452    7.216667   \n",
       "\n",
       "   일몰시간_float      zenith    altitude  시간대별_평균열공급량  시간대별_열공급량표준편차  \n",
       "0   17.283333  231.228926 -141.228926     0.473398       0.248416  \n",
       "1   17.283333  230.739259 -140.739259     0.473398       0.248416  \n",
       "2   17.283333  230.250259 -140.250259     0.473398       0.248416  \n",
       "3   17.283333  229.761926 -139.761926     0.473398       0.248416  \n",
       "4   17.283333  229.274259 -139.274259     0.473398       0.248416  "
      ]
     },
     "execution_count": 42,
     "metadata": {},
     "output_type": "execute_result"
    }
   ],
   "source": [
    "data.head()"
   ]
  },
  {
   "cell_type": "markdown",
   "id": "a552fad4",
   "metadata": {},
   "source": [
    "MeanEncoding으로 모든 데이터가 numeric으로 변했으니 min,max?"
   ]
  },
  {
   "cell_type": "code",
   "execution_count": 43,
   "id": "b8bb4e2d",
   "metadata": {},
   "outputs": [],
   "source": [
    "train = data.iloc[:129448,:]\n",
    "test = data.iloc[129448:,:]"
   ]
  },
  {
   "cell_type": "code",
   "execution_count": 44,
   "id": "d1518c48",
   "metadata": {},
   "outputs": [],
   "source": [
    "for val in [x for x in data.columns if x not in [\"열공급량(kWh)\",\"시간\",\"시간범주\",\"일출일몰\",\"일몰전후\"]]:\n",
    "\n",
    "    minmax = MinMaxScaler()\n",
    "    \n",
    "    train_data_scaled = minmax.fit_transform(train[val].values.reshape(-1,1))\n",
    "    train[val] = train_data_scaled\n",
    "    \n",
    "    test_data_scaled = minmax.transform(test[val].values.reshape(-1,1))\n",
    "    test[val] = test_data_scaled"
   ]
  },
  {
   "cell_type": "code",
   "execution_count": 45,
   "id": "84be0ec5",
   "metadata": {},
   "outputs": [],
   "source": [
    "data = pd.concat([train,test],axis=0)"
   ]
  },
  {
   "cell_type": "markdown",
   "id": "0613e8e2",
   "metadata": {},
   "source": [
    "------------------------------------------------------------------------------------------------------------------------------------"
   ]
  },
  {
   "cell_type": "markdown",
   "id": "5f171f8f",
   "metadata": {},
   "source": [
    "#### 1.1 데이터 처리하기\n",
    "- 학습용 데이터 : ~2022.03\n",
    "- 예측용 데이터 : 2022.03~"
   ]
  },
  {
   "cell_type": "markdown",
   "id": "ded1cad9",
   "metadata": {},
   "source": [
    "X 데이터 처리하기\n",
    "- dummy 처리\n",
    "- 왜도 처리"
   ]
  },
  {
   "cell_type": "code",
   "execution_count": 46,
   "id": "154babbc",
   "metadata": {},
   "outputs": [],
   "source": [
    "data_scaled = data.copy()"
   ]
  },
  {
   "cell_type": "code",
   "execution_count": 47,
   "id": "1746261d",
   "metadata": {},
   "outputs": [
    {
     "data": {
      "text/plain": [
       "(148168, 60)"
      ]
     },
     "execution_count": 47,
     "metadata": {},
     "output_type": "execute_result"
    }
   ],
   "source": [
    "data_scaled.shape"
   ]
  },
  {
   "cell_type": "code",
   "execution_count": 48,
   "id": "0385cf93",
   "metadata": {},
   "outputs": [],
   "source": [
    "# 년도 데이터를 numerical로 처리하기\n",
    "Y = data_scaled[\"열공급량(kWh)\"]\n",
    "\n",
    "X_dummy = data_scaled.drop(\"열공급량(kWh)\",axis=1)\n",
    "X_dummy = X_dummy.drop([\"시간\"],axis=1)\n",
    "X_dummy = pd.get_dummies(X_dummy,columns = [\"일출일몰\",\"일몰전후\",\"시간범주\"])"
   ]
  },
  {
   "cell_type": "markdown",
   "id": "1f715270",
   "metadata": {},
   "source": [
    "Y값 맨끝으로 위치시키기"
   ]
  },
  {
   "cell_type": "markdown",
   "id": "1f8e0925",
   "metadata": {},
   "source": [
    "#### 등급 데이터 제거하기"
   ]
  },
  {
   "cell_type": "code",
   "execution_count": 49,
   "id": "6a3be142",
   "metadata": {},
   "outputs": [],
   "source": [
    "data_scaled_final = pd.concat([X_dummy, Y], axis = 1)"
   ]
  },
  {
   "cell_type": "code",
   "execution_count": 50,
   "id": "204e193a",
   "metadata": {},
   "outputs": [
    {
     "data": {
      "text/plain": [
       "Index(['년도', '월', '시', '일사량(W/㎡)', '외기온(℃)', '외기습도(%)', '풍속(m/s)', '풍향(º)',\n",
       "       '내부 온도', '내부 습도', '차광스크린(수평)', '차열스크린(수평)', '에너지스크린(수평)', '에너지스크린(수직)',\n",
       "       '배기팬', '천창', '유동팬', '팬코일 B동', '환기온도(천창 제어온도)', '난방온도(설정온도)', '누적강수량',\n",
       "       '현지기압', '해면기압', '일조', 'PM10_1시간', 'PM25_1시간', '오존_1시간', '이산화질소_1시간',\n",
       "       '일산화탄소_1시간', '아황산가스_1시간', '차광스크린_개방', '차광스크린_개방조절', '차열스크린_온도조절',\n",
       "       '차열스크린_개방조절', '일출3시간후', '일출1시간후', '일몰3시간후', '일몰1시간반전', '하루길이', '지면온도',\n",
       "       '오존등급', '아황산가스등급', '이산화질소등급', 'PM10등급', 'PM25등급', '이슬점', 'hour_float',\n",
       "       'cos_time', 'sin_time', '일출시간_float', '일몰시간_float', 'zenith',\n",
       "       'altitude', '시간대별_평균열공급량', '시간대별_열공급량표준편차', '일출일몰_일몰', '일출일몰_일출',\n",
       "       '일몰전후_일몰1시간반_전', '일몰전후_일몰1시간반_후', '시간범주_그외', '시간범주_야간', '시간범주_주간'],\n",
       "      dtype='object')"
      ]
     },
     "execution_count": 50,
     "metadata": {},
     "output_type": "execute_result"
    }
   ],
   "source": [
    "X_dummy.columns"
   ]
  },
  {
   "cell_type": "markdown",
   "id": "57416313",
   "metadata": {},
   "source": [
    "#### 범주 관련 변수들 다 제거해보기"
   ]
  },
  {
   "cell_type": "code",
   "execution_count": 51,
   "id": "efc7f132",
   "metadata": {},
   "outputs": [],
   "source": [
    "data_scaled_final = data_scaled_final.drop(['오존등급', '아황산가스등급', '이산화질소등급', 'PM10등급', 'PM25등급',\n",
    "                                           \"해면기압\",\"일출일몰_일출\",\"일몰전후_일몰1시간반_전\",\"일출일몰_일몰\",\n",
    "                                           \"일몰전후_일몰1시간반_후\",\"시간범주_그외\",\"시간범주_야간\",\n",
    "                                           \"시간범주_주간\",\"일출3시간후\",\"일출1시간후\",\"일몰3시간후\",\"일몰1시간반전\",\"시\",\n",
    "                                           \"해면기압\",\"일조\",\"altitude\"],axis=1)"
   ]
  },
  {
   "cell_type": "code",
   "execution_count": 52,
   "id": "1cb215a0",
   "metadata": {},
   "outputs": [],
   "source": [
    "train_data = data_scaled_final.iloc[:129448,:]\n",
    "\n",
    "test_data = data_scaled_final.iloc[129448:,:]"
   ]
  },
  {
   "cell_type": "markdown",
   "id": "5df24095",
   "metadata": {},
   "source": [
    "#### corr 확인하고 직접 변수 선택"
   ]
  },
  {
   "cell_type": "code",
   "execution_count": 56,
   "id": "a4ccf70b",
   "metadata": {},
   "outputs": [],
   "source": [
    "#직접 corr 보고 제거하기\n",
    "x_train = train_data.drop([\"열공급량(kWh)\",\"월\",\"외기온(℃)\",\"하루길이\",\"cos_time\",\"차광스크린_개방조절\",\"차열스크린_개방조절\"],axis=1)\n",
    "y_train = train_data[\"열공급량(kWh)\"]\n",
    "\n",
    "x_test = test_data.drop([\"열공급량(kWh)\",\"월\",\"외기온(℃)\",\"하루길이\",\"cos_time\",\"차광스크린_개방조절\",\"차열스크린_개방조절\"],axis=1)\n",
    "y_test = test_data[\"열공급량(kWh)\"]"
   ]
  },
  {
   "cell_type": "code",
   "execution_count": 59,
   "id": "e37edf7e",
   "metadata": {},
   "outputs": [
    {
     "data": {
      "text/html": [
       "<div>\n",
       "<style scoped>\n",
       "    .dataframe tbody tr th:only-of-type {\n",
       "        vertical-align: middle;\n",
       "    }\n",
       "\n",
       "    .dataframe tbody tr th {\n",
       "        vertical-align: top;\n",
       "    }\n",
       "\n",
       "    .dataframe thead th {\n",
       "        text-align: right;\n",
       "    }\n",
       "</style>\n",
       "<table border=\"1\" class=\"dataframe\">\n",
       "  <thead>\n",
       "    <tr style=\"text-align: right;\">\n",
       "      <th></th>\n",
       "      <th>년도</th>\n",
       "      <th>일사량(W/㎡)</th>\n",
       "      <th>외기습도(%)</th>\n",
       "      <th>풍속(m/s)</th>\n",
       "      <th>풍향(º)</th>\n",
       "      <th>내부 온도</th>\n",
       "      <th>내부 습도</th>\n",
       "      <th>차광스크린(수평)</th>\n",
       "      <th>차열스크린(수평)</th>\n",
       "      <th>에너지스크린(수평)</th>\n",
       "      <th>에너지스크린(수직)</th>\n",
       "      <th>배기팬</th>\n",
       "      <th>천창</th>\n",
       "      <th>유동팬</th>\n",
       "      <th>팬코일 B동</th>\n",
       "      <th>환기온도(천창 제어온도)</th>\n",
       "      <th>난방온도(설정온도)</th>\n",
       "      <th>누적강수량</th>\n",
       "      <th>현지기압</th>\n",
       "      <th>PM10_1시간</th>\n",
       "      <th>PM25_1시간</th>\n",
       "      <th>오존_1시간</th>\n",
       "      <th>이산화질소_1시간</th>\n",
       "      <th>일산화탄소_1시간</th>\n",
       "      <th>아황산가스_1시간</th>\n",
       "      <th>차광스크린_개방</th>\n",
       "      <th>차열스크린_온도조절</th>\n",
       "      <th>지면온도</th>\n",
       "      <th>이슬점</th>\n",
       "      <th>hour_float</th>\n",
       "      <th>sin_time</th>\n",
       "      <th>일출시간_float</th>\n",
       "      <th>일몰시간_float</th>\n",
       "      <th>zenith</th>\n",
       "      <th>시간대별_평균열공급량</th>\n",
       "      <th>시간대별_열공급량표준편차</th>\n",
       "    </tr>\n",
       "  </thead>\n",
       "  <tbody>\n",
       "    <tr>\n",
       "      <th>0</th>\n",
       "      <td>0.0</td>\n",
       "      <td>0.0</td>\n",
       "      <td>0.643678</td>\n",
       "      <td>0.000000</td>\n",
       "      <td>0.901408</td>\n",
       "      <td>0.447257</td>\n",
       "      <td>0.485804</td>\n",
       "      <td>0.0</td>\n",
       "      <td>0.0</td>\n",
       "      <td>0.0</td>\n",
       "      <td>0.0</td>\n",
       "      <td>0.0</td>\n",
       "      <td>0.0</td>\n",
       "      <td>1.0</td>\n",
       "      <td>0.0</td>\n",
       "      <td>0.333333</td>\n",
       "      <td>0.5</td>\n",
       "      <td>0.0</td>\n",
       "      <td>0.495017</td>\n",
       "      <td>0.311828</td>\n",
       "      <td>0.263889</td>\n",
       "      <td>0.028986</td>\n",
       "      <td>0.320513</td>\n",
       "      <td>0.142857</td>\n",
       "      <td>0.040477</td>\n",
       "      <td>0.0</td>\n",
       "      <td>0.0</td>\n",
       "      <td>0.280624</td>\n",
       "      <td>0.295370</td>\n",
       "      <td>0.000000</td>\n",
       "      <td>0.500000</td>\n",
       "      <td>0.368421</td>\n",
       "      <td>0.029851</td>\n",
       "      <td>0.934004</td>\n",
       "      <td>0.914205</td>\n",
       "      <td>0.332737</td>\n",
       "    </tr>\n",
       "    <tr>\n",
       "      <th>1</th>\n",
       "      <td>0.0</td>\n",
       "      <td>0.0</td>\n",
       "      <td>0.643678</td>\n",
       "      <td>0.024242</td>\n",
       "      <td>0.954930</td>\n",
       "      <td>0.438819</td>\n",
       "      <td>0.507886</td>\n",
       "      <td>0.0</td>\n",
       "      <td>0.0</td>\n",
       "      <td>0.0</td>\n",
       "      <td>0.0</td>\n",
       "      <td>0.0</td>\n",
       "      <td>0.0</td>\n",
       "      <td>1.0</td>\n",
       "      <td>0.0</td>\n",
       "      <td>0.333333</td>\n",
       "      <td>0.5</td>\n",
       "      <td>0.0</td>\n",
       "      <td>0.495017</td>\n",
       "      <td>0.311828</td>\n",
       "      <td>0.263889</td>\n",
       "      <td>0.028986</td>\n",
       "      <td>0.320513</td>\n",
       "      <td>0.142857</td>\n",
       "      <td>0.040477</td>\n",
       "      <td>0.0</td>\n",
       "      <td>0.0</td>\n",
       "      <td>0.280624</td>\n",
       "      <td>0.303040</td>\n",
       "      <td>0.000695</td>\n",
       "      <td>0.502182</td>\n",
       "      <td>0.368421</td>\n",
       "      <td>0.029851</td>\n",
       "      <td>0.931566</td>\n",
       "      <td>0.914205</td>\n",
       "      <td>0.332737</td>\n",
       "    </tr>\n",
       "    <tr>\n",
       "      <th>2</th>\n",
       "      <td>0.0</td>\n",
       "      <td>0.0</td>\n",
       "      <td>0.643678</td>\n",
       "      <td>0.054545</td>\n",
       "      <td>0.281690</td>\n",
       "      <td>0.421941</td>\n",
       "      <td>0.536278</td>\n",
       "      <td>0.0</td>\n",
       "      <td>0.0</td>\n",
       "      <td>0.0</td>\n",
       "      <td>0.0</td>\n",
       "      <td>0.0</td>\n",
       "      <td>0.0</td>\n",
       "      <td>1.0</td>\n",
       "      <td>1.0</td>\n",
       "      <td>0.333333</td>\n",
       "      <td>0.5</td>\n",
       "      <td>0.0</td>\n",
       "      <td>0.491694</td>\n",
       "      <td>0.311828</td>\n",
       "      <td>0.263889</td>\n",
       "      <td>0.028986</td>\n",
       "      <td>0.320513</td>\n",
       "      <td>0.142857</td>\n",
       "      <td>0.040477</td>\n",
       "      <td>0.0</td>\n",
       "      <td>0.0</td>\n",
       "      <td>0.280624</td>\n",
       "      <td>0.305273</td>\n",
       "      <td>0.001390</td>\n",
       "      <td>0.504363</td>\n",
       "      <td>0.368421</td>\n",
       "      <td>0.029851</td>\n",
       "      <td>0.929130</td>\n",
       "      <td>0.914205</td>\n",
       "      <td>0.332737</td>\n",
       "    </tr>\n",
       "  </tbody>\n",
       "</table>\n",
       "</div>"
      ],
      "text/plain": [
       "    년도  일사량(W/㎡)   외기습도(%)   풍속(m/s)     풍향(º)     내부 온도     내부 습도  차광스크린(수평)  \\\n",
       "0  0.0       0.0  0.643678  0.000000  0.901408  0.447257  0.485804        0.0   \n",
       "1  0.0       0.0  0.643678  0.024242  0.954930  0.438819  0.507886        0.0   \n",
       "2  0.0       0.0  0.643678  0.054545  0.281690  0.421941  0.536278        0.0   \n",
       "\n",
       "   차열스크린(수평)  에너지스크린(수평)  에너지스크린(수직)  배기팬   천창  유동팬  팬코일 B동  환기온도(천창 제어온도)  \\\n",
       "0        0.0         0.0         0.0  0.0  0.0  1.0     0.0       0.333333   \n",
       "1        0.0         0.0         0.0  0.0  0.0  1.0     0.0       0.333333   \n",
       "2        0.0         0.0         0.0  0.0  0.0  1.0     1.0       0.333333   \n",
       "\n",
       "   난방온도(설정온도)  누적강수량      현지기압  PM10_1시간  PM25_1시간    오존_1시간  이산화질소_1시간  \\\n",
       "0         0.5    0.0  0.495017  0.311828  0.263889  0.028986   0.320513   \n",
       "1         0.5    0.0  0.495017  0.311828  0.263889  0.028986   0.320513   \n",
       "2         0.5    0.0  0.491694  0.311828  0.263889  0.028986   0.320513   \n",
       "\n",
       "   일산화탄소_1시간  아황산가스_1시간  차광스크린_개방  차열스크린_온도조절      지면온도       이슬점  hour_float  \\\n",
       "0   0.142857   0.040477       0.0         0.0  0.280624  0.295370    0.000000   \n",
       "1   0.142857   0.040477       0.0         0.0  0.280624  0.303040    0.000695   \n",
       "2   0.142857   0.040477       0.0         0.0  0.280624  0.305273    0.001390   \n",
       "\n",
       "   sin_time  일출시간_float  일몰시간_float    zenith  시간대별_평균열공급량  시간대별_열공급량표준편차  \n",
       "0  0.500000    0.368421    0.029851  0.934004     0.914205       0.332737  \n",
       "1  0.502182    0.368421    0.029851  0.931566     0.914205       0.332737  \n",
       "2  0.504363    0.368421    0.029851  0.929130     0.914205       0.332737  "
      ]
     },
     "execution_count": 59,
     "metadata": {},
     "output_type": "execute_result"
    }
   ],
   "source": [
    "x_train.head(3)"
   ]
  },
  {
   "cell_type": "markdown",
   "id": "971863bc",
   "metadata": {},
   "source": [
    "년월일 데이터 붙이기"
   ]
  },
  {
   "cell_type": "markdown",
   "id": "7d983b38",
   "metadata": {},
   "source": [
    "#### target 데이터 log 변환 적용"
   ]
  },
  {
   "cell_type": "code",
   "execution_count": 57,
   "id": "51d30033",
   "metadata": {},
   "outputs": [
    {
     "data": {
      "text/plain": [
       "(129448, 37)"
      ]
     },
     "execution_count": 57,
     "metadata": {},
     "output_type": "execute_result"
    }
   ],
   "source": [
    "data_transform = pd.concat([x_train,np.log1p(y_train)],axis=1)\n",
    "data_transform.shape"
   ]
  },
  {
   "cell_type": "code",
   "execution_count": 58,
   "id": "414b728a",
   "metadata": {},
   "outputs": [
    {
     "data": {
      "text/plain": [
       "Index(['년도', '일사량(W/㎡)', '외기습도(%)', '풍속(m/s)', '풍향(º)', '내부 온도', '내부 습도',\n",
       "       '차광스크린(수평)', '차열스크린(수평)', '에너지스크린(수평)', '에너지스크린(수직)', '배기팬', '천창',\n",
       "       '유동팬', '팬코일 B동', '환기온도(천창 제어온도)', '난방온도(설정온도)', '누적강수량', '현지기압',\n",
       "       'PM10_1시간', 'PM25_1시간', '오존_1시간', '이산화질소_1시간', '일산화탄소_1시간', '아황산가스_1시간',\n",
       "       '차광스크린_개방', '차열스크린_온도조절', '지면온도', '이슬점', 'hour_float', 'sin_time',\n",
       "       '일출시간_float', '일몰시간_float', 'zenith', '시간대별_평균열공급량', '시간대별_열공급량표준편차',\n",
       "       '열공급량(kWh)'],\n",
       "      dtype='object')"
      ]
     },
     "execution_count": 58,
     "metadata": {},
     "output_type": "execute_result"
    }
   ],
   "source": [
    "data_transform.columns"
   ]
  },
  {
   "cell_type": "code",
   "execution_count": 59,
   "id": "18504787",
   "metadata": {},
   "outputs": [
    {
     "data": {
      "application/vnd.jupyter.widget-view+json": {
       "model_id": "ee0ed1373c7a47d397b67c0792e51d7e",
       "version_major": 2,
       "version_minor": 0
      },
      "text/plain": [
       "Text(value=\"Following data types have been inferred automatically, if they are correct press enter to continue…"
      ]
     },
     "metadata": {},
     "output_type": "display_data"
    },
    {
     "data": {
      "text/html": [
       "<div>\n",
       "<style scoped>\n",
       "    .dataframe tbody tr th:only-of-type {\n",
       "        vertical-align: middle;\n",
       "    }\n",
       "\n",
       "    .dataframe tbody tr th {\n",
       "        vertical-align: top;\n",
       "    }\n",
       "\n",
       "    .dataframe thead th {\n",
       "        text-align: right;\n",
       "    }\n",
       "</style>\n",
       "<table border=\"1\" class=\"dataframe\">\n",
       "  <thead>\n",
       "    <tr style=\"text-align: right;\">\n",
       "      <th></th>\n",
       "      <th>Data Type</th>\n",
       "    </tr>\n",
       "  </thead>\n",
       "  <tbody>\n",
       "    <tr>\n",
       "      <th>년도</th>\n",
       "      <td>Categorical</td>\n",
       "    </tr>\n",
       "    <tr>\n",
       "      <th>일사량(W/㎡)</th>\n",
       "      <td>Numeric</td>\n",
       "    </tr>\n",
       "    <tr>\n",
       "      <th>외기습도(%)</th>\n",
       "      <td>Numeric</td>\n",
       "    </tr>\n",
       "    <tr>\n",
       "      <th>풍속(m/s)</th>\n",
       "      <td>Numeric</td>\n",
       "    </tr>\n",
       "    <tr>\n",
       "      <th>풍향(º)</th>\n",
       "      <td>Numeric</td>\n",
       "    </tr>\n",
       "    <tr>\n",
       "      <th>내부 온도</th>\n",
       "      <td>Numeric</td>\n",
       "    </tr>\n",
       "    <tr>\n",
       "      <th>내부 습도</th>\n",
       "      <td>Numeric</td>\n",
       "    </tr>\n",
       "    <tr>\n",
       "      <th>차광스크린(수평)</th>\n",
       "      <td>Numeric</td>\n",
       "    </tr>\n",
       "    <tr>\n",
       "      <th>차열스크린(수평)</th>\n",
       "      <td>Numeric</td>\n",
       "    </tr>\n",
       "    <tr>\n",
       "      <th>에너지스크린(수평)</th>\n",
       "      <td>Numeric</td>\n",
       "    </tr>\n",
       "    <tr>\n",
       "      <th>에너지스크린(수직)</th>\n",
       "      <td>Numeric</td>\n",
       "    </tr>\n",
       "    <tr>\n",
       "      <th>배기팬</th>\n",
       "      <td>Categorical</td>\n",
       "    </tr>\n",
       "    <tr>\n",
       "      <th>천창</th>\n",
       "      <td>Numeric</td>\n",
       "    </tr>\n",
       "    <tr>\n",
       "      <th>유동팬</th>\n",
       "      <td>Categorical</td>\n",
       "    </tr>\n",
       "    <tr>\n",
       "      <th>팬코일 B동</th>\n",
       "      <td>Categorical</td>\n",
       "    </tr>\n",
       "    <tr>\n",
       "      <th>환기온도(천창 제어온도)</th>\n",
       "      <td>Numeric</td>\n",
       "    </tr>\n",
       "    <tr>\n",
       "      <th>난방온도(설정온도)</th>\n",
       "      <td>Numeric</td>\n",
       "    </tr>\n",
       "    <tr>\n",
       "      <th>누적강수량</th>\n",
       "      <td>Numeric</td>\n",
       "    </tr>\n",
       "    <tr>\n",
       "      <th>현지기압</th>\n",
       "      <td>Numeric</td>\n",
       "    </tr>\n",
       "    <tr>\n",
       "      <th>PM10_1시간</th>\n",
       "      <td>Numeric</td>\n",
       "    </tr>\n",
       "    <tr>\n",
       "      <th>PM25_1시간</th>\n",
       "      <td>Numeric</td>\n",
       "    </tr>\n",
       "    <tr>\n",
       "      <th>오존_1시간</th>\n",
       "      <td>Numeric</td>\n",
       "    </tr>\n",
       "    <tr>\n",
       "      <th>이산화질소_1시간</th>\n",
       "      <td>Numeric</td>\n",
       "    </tr>\n",
       "    <tr>\n",
       "      <th>일산화탄소_1시간</th>\n",
       "      <td>Numeric</td>\n",
       "    </tr>\n",
       "    <tr>\n",
       "      <th>아황산가스_1시간</th>\n",
       "      <td>Numeric</td>\n",
       "    </tr>\n",
       "    <tr>\n",
       "      <th>차광스크린_개방</th>\n",
       "      <td>Categorical</td>\n",
       "    </tr>\n",
       "    <tr>\n",
       "      <th>차열스크린_온도조절</th>\n",
       "      <td>Numeric</td>\n",
       "    </tr>\n",
       "    <tr>\n",
       "      <th>지면온도</th>\n",
       "      <td>Numeric</td>\n",
       "    </tr>\n",
       "    <tr>\n",
       "      <th>이슬점</th>\n",
       "      <td>Numeric</td>\n",
       "    </tr>\n",
       "    <tr>\n",
       "      <th>hour_float</th>\n",
       "      <td>Numeric</td>\n",
       "    </tr>\n",
       "    <tr>\n",
       "      <th>sin_time</th>\n",
       "      <td>Numeric</td>\n",
       "    </tr>\n",
       "    <tr>\n",
       "      <th>일출시간_float</th>\n",
       "      <td>Numeric</td>\n",
       "    </tr>\n",
       "    <tr>\n",
       "      <th>일몰시간_float</th>\n",
       "      <td>Numeric</td>\n",
       "    </tr>\n",
       "    <tr>\n",
       "      <th>zenith</th>\n",
       "      <td>Numeric</td>\n",
       "    </tr>\n",
       "    <tr>\n",
       "      <th>시간대별_평균열공급량</th>\n",
       "      <td>Numeric</td>\n",
       "    </tr>\n",
       "    <tr>\n",
       "      <th>시간대별_열공급량표준편차</th>\n",
       "      <td>Numeric</td>\n",
       "    </tr>\n",
       "    <tr>\n",
       "      <th>열공급량(kWh)</th>\n",
       "      <td>Label</td>\n",
       "    </tr>\n",
       "  </tbody>\n",
       "</table>\n",
       "</div>"
      ],
      "text/plain": [
       "                 Data Type\n",
       "년도             Categorical\n",
       "일사량(W/㎡)           Numeric\n",
       "외기습도(%)            Numeric\n",
       "풍속(m/s)            Numeric\n",
       "풍향(º)              Numeric\n",
       "내부 온도              Numeric\n",
       "내부 습도              Numeric\n",
       "차광스크린(수평)          Numeric\n",
       "차열스크린(수평)          Numeric\n",
       "에너지스크린(수평)         Numeric\n",
       "에너지스크린(수직)         Numeric\n",
       "배기팬            Categorical\n",
       "천창                 Numeric\n",
       "유동팬            Categorical\n",
       "팬코일 B동         Categorical\n",
       "환기온도(천창 제어온도)      Numeric\n",
       "난방온도(설정온도)         Numeric\n",
       "누적강수량              Numeric\n",
       "현지기압               Numeric\n",
       "PM10_1시간           Numeric\n",
       "PM25_1시간           Numeric\n",
       "오존_1시간             Numeric\n",
       "이산화질소_1시간          Numeric\n",
       "일산화탄소_1시간          Numeric\n",
       "아황산가스_1시간          Numeric\n",
       "차광스크린_개방       Categorical\n",
       "차열스크린_온도조절         Numeric\n",
       "지면온도               Numeric\n",
       "이슬점                Numeric\n",
       "hour_float         Numeric\n",
       "sin_time           Numeric\n",
       "일출시간_float         Numeric\n",
       "일몰시간_float         Numeric\n",
       "zenith             Numeric\n",
       "시간대별_평균열공급량        Numeric\n",
       "시간대별_열공급량표준편차      Numeric\n",
       "열공급량(kWh)            Label"
      ]
     },
     "metadata": {},
     "output_type": "display_data"
    },
    {
     "name": "stdout",
     "output_type": "stream",
     "text": [
      "\n"
     ]
    }
   ],
   "source": [
    "# VIF 선택\n",
    "reg_lunch = setup(\n",
    "        data = data_transform,\n",
    "        target='열공급량(kWh)',\n",
    "        train_size = 0.8,\n",
    "        session_id = 0,\n",
    "        data_split_shuffle=True,\n",
    "        fold_strategy = 'timeseries',\n",
    "        #imputation_type='simple',\n",
    "        normalize = False,\n",
    "        #categorical_features = [\"팬코일 B동\",\"배기팬\",\"유동팬\",\"차광스크린_개방\"],\n",
    "        fold = 5,\n",
    "        verbose= False,\n",
    "        transform_target = False,\n",
    "        silent= False, n_jobs= -1)"
   ]
  },
  {
   "cell_type": "code",
   "execution_count": 60,
   "id": "12434a08",
   "metadata": {
    "scrolled": true
   },
   "outputs": [
    {
     "data": {
      "text/html": [
       "<style  type=\"text/css\" >\n",
       "    #T_4e54c_ th {\n",
       "          text-align: left;\n",
       "    }#T_4e54c_row0_col0,#T_4e54c_row0_col1,#T_4e54c_row0_col6,#T_4e54c_row1_col0,#T_4e54c_row1_col2,#T_4e54c_row1_col3,#T_4e54c_row1_col4,#T_4e54c_row1_col5,#T_4e54c_row2_col0,#T_4e54c_row2_col1,#T_4e54c_row2_col2,#T_4e54c_row2_col3,#T_4e54c_row2_col4,#T_4e54c_row2_col5,#T_4e54c_row2_col6,#T_4e54c_row3_col0,#T_4e54c_row3_col1,#T_4e54c_row3_col2,#T_4e54c_row3_col3,#T_4e54c_row3_col4,#T_4e54c_row3_col5,#T_4e54c_row3_col6,#T_4e54c_row4_col0,#T_4e54c_row4_col1,#T_4e54c_row4_col2,#T_4e54c_row4_col3,#T_4e54c_row4_col4,#T_4e54c_row4_col5,#T_4e54c_row4_col6,#T_4e54c_row5_col0,#T_4e54c_row5_col1,#T_4e54c_row5_col2,#T_4e54c_row5_col3,#T_4e54c_row5_col4,#T_4e54c_row5_col5,#T_4e54c_row5_col6,#T_4e54c_row6_col0,#T_4e54c_row6_col1,#T_4e54c_row6_col2,#T_4e54c_row6_col3,#T_4e54c_row6_col4,#T_4e54c_row6_col5,#T_4e54c_row6_col6,#T_4e54c_row7_col0,#T_4e54c_row7_col1,#T_4e54c_row7_col2,#T_4e54c_row7_col3,#T_4e54c_row7_col4,#T_4e54c_row7_col5,#T_4e54c_row7_col6,#T_4e54c_row8_col0,#T_4e54c_row8_col1,#T_4e54c_row8_col2,#T_4e54c_row8_col3,#T_4e54c_row8_col4,#T_4e54c_row8_col5,#T_4e54c_row8_col6,#T_4e54c_row9_col0,#T_4e54c_row9_col1,#T_4e54c_row9_col2,#T_4e54c_row9_col3,#T_4e54c_row9_col4,#T_4e54c_row9_col5,#T_4e54c_row9_col6,#T_4e54c_row10_col0,#T_4e54c_row10_col1,#T_4e54c_row10_col2,#T_4e54c_row10_col3,#T_4e54c_row10_col4,#T_4e54c_row10_col5,#T_4e54c_row10_col6,#T_4e54c_row11_col0,#T_4e54c_row11_col1,#T_4e54c_row11_col2,#T_4e54c_row11_col3,#T_4e54c_row11_col4,#T_4e54c_row11_col5,#T_4e54c_row11_col6,#T_4e54c_row12_col0,#T_4e54c_row12_col1,#T_4e54c_row12_col2,#T_4e54c_row12_col3,#T_4e54c_row12_col4,#T_4e54c_row12_col5,#T_4e54c_row12_col6,#T_4e54c_row13_col0,#T_4e54c_row13_col1,#T_4e54c_row13_col2,#T_4e54c_row13_col3,#T_4e54c_row13_col4,#T_4e54c_row13_col5,#T_4e54c_row13_col6,#T_4e54c_row14_col0,#T_4e54c_row14_col1,#T_4e54c_row14_col2,#T_4e54c_row14_col3,#T_4e54c_row14_col4,#T_4e54c_row14_col5,#T_4e54c_row14_col6,#T_4e54c_row15_col0,#T_4e54c_row15_col1,#T_4e54c_row15_col2,#T_4e54c_row15_col3,#T_4e54c_row15_col4,#T_4e54c_row15_col5,#T_4e54c_row15_col6,#T_4e54c_row16_col0,#T_4e54c_row16_col1,#T_4e54c_row16_col2,#T_4e54c_row16_col3,#T_4e54c_row16_col4,#T_4e54c_row16_col5,#T_4e54c_row16_col6{\n",
       "            text-align:  left;\n",
       "            text-align:  left;\n",
       "        }#T_4e54c_row0_col2,#T_4e54c_row0_col3,#T_4e54c_row0_col4,#T_4e54c_row0_col5,#T_4e54c_row1_col1,#T_4e54c_row1_col6{\n",
       "            text-align:  left;\n",
       "            text-align:  left;\n",
       "            background-color:  yellow;\n",
       "        }#T_4e54c_row0_col7,#T_4e54c_row1_col7,#T_4e54c_row2_col7,#T_4e54c_row3_col7,#T_4e54c_row4_col7,#T_4e54c_row5_col7,#T_4e54c_row6_col7,#T_4e54c_row7_col7,#T_4e54c_row8_col7,#T_4e54c_row9_col7,#T_4e54c_row11_col7,#T_4e54c_row12_col7,#T_4e54c_row13_col7,#T_4e54c_row14_col7,#T_4e54c_row15_col7,#T_4e54c_row16_col7{\n",
       "            text-align:  left;\n",
       "            text-align:  left;\n",
       "            background-color:  lightgrey;\n",
       "        }#T_4e54c_row10_col7{\n",
       "            text-align:  left;\n",
       "            text-align:  left;\n",
       "            background-color:  yellow;\n",
       "            background-color:  lightgrey;\n",
       "        }</style><table id=\"T_4e54c_\" ><thead>    <tr>        <th class=\"blank level0\" ></th>        <th class=\"col_heading level0 col0\" >Model</th>        <th class=\"col_heading level0 col1\" >MAE</th>        <th class=\"col_heading level0 col2\" >MSE</th>        <th class=\"col_heading level0 col3\" >RMSE</th>        <th class=\"col_heading level0 col4\" >R2</th>        <th class=\"col_heading level0 col5\" >RMSLE</th>        <th class=\"col_heading level0 col6\" >MAPE</th>        <th class=\"col_heading level0 col7\" >TT (Sec)</th>    </tr></thead><tbody>\n",
       "                <tr>\n",
       "                        <th id=\"T_4e54c_level0_row0\" class=\"row_heading level0 row0\" >rf</th>\n",
       "                        <td id=\"T_4e54c_row0_col0\" class=\"data row0 col0\" >Random Forest Regressor</td>\n",
       "                        <td id=\"T_4e54c_row0_col1\" class=\"data row0 col1\" >0.0725</td>\n",
       "                        <td id=\"T_4e54c_row0_col2\" class=\"data row0 col2\" >0.0182</td>\n",
       "                        <td id=\"T_4e54c_row0_col3\" class=\"data row0 col3\" >0.1347</td>\n",
       "                        <td id=\"T_4e54c_row0_col4\" class=\"data row0 col4\" >0.6192</td>\n",
       "                        <td id=\"T_4e54c_row0_col5\" class=\"data row0 col5\" >0.1010</td>\n",
       "                        <td id=\"T_4e54c_row0_col6\" class=\"data row0 col6\" >0.3463</td>\n",
       "                        <td id=\"T_4e54c_row0_col7\" class=\"data row0 col7\" >10.3820</td>\n",
       "            </tr>\n",
       "            <tr>\n",
       "                        <th id=\"T_4e54c_level0_row1\" class=\"row_heading level0 row1\" >et</th>\n",
       "                        <td id=\"T_4e54c_row1_col0\" class=\"data row1 col0\" >Extra Trees Regressor</td>\n",
       "                        <td id=\"T_4e54c_row1_col1\" class=\"data row1 col1\" >0.0722</td>\n",
       "                        <td id=\"T_4e54c_row1_col2\" class=\"data row1 col2\" >0.0196</td>\n",
       "                        <td id=\"T_4e54c_row1_col3\" class=\"data row1 col3\" >0.1398</td>\n",
       "                        <td id=\"T_4e54c_row1_col4\" class=\"data row1 col4\" >0.5898</td>\n",
       "                        <td id=\"T_4e54c_row1_col5\" class=\"data row1 col5\" >0.1047</td>\n",
       "                        <td id=\"T_4e54c_row1_col6\" class=\"data row1 col6\" >0.3454</td>\n",
       "                        <td id=\"T_4e54c_row1_col7\" class=\"data row1 col7\" >5.5320</td>\n",
       "            </tr>\n",
       "            <tr>\n",
       "                        <th id=\"T_4e54c_level0_row2\" class=\"row_heading level0 row2\" >lightgbm</th>\n",
       "                        <td id=\"T_4e54c_row2_col0\" class=\"data row2 col0\" >Light Gradient Boosting Machine</td>\n",
       "                        <td id=\"T_4e54c_row2_col1\" class=\"data row2 col1\" >0.0917</td>\n",
       "                        <td id=\"T_4e54c_row2_col2\" class=\"data row2 col2\" >0.0199</td>\n",
       "                        <td id=\"T_4e54c_row2_col3\" class=\"data row2 col3\" >0.1412</td>\n",
       "                        <td id=\"T_4e54c_row2_col4\" class=\"data row2 col4\" >0.5821</td>\n",
       "                        <td id=\"T_4e54c_row2_col5\" class=\"data row2 col5\" >0.1067</td>\n",
       "                        <td id=\"T_4e54c_row2_col6\" class=\"data row2 col6\" >0.4142</td>\n",
       "                        <td id=\"T_4e54c_row2_col7\" class=\"data row2 col7\" >0.5720</td>\n",
       "            </tr>\n",
       "            <tr>\n",
       "                        <th id=\"T_4e54c_level0_row3\" class=\"row_heading level0 row3\" >knn</th>\n",
       "                        <td id=\"T_4e54c_row3_col0\" class=\"data row3 col0\" >K Neighbors Regressor</td>\n",
       "                        <td id=\"T_4e54c_row3_col1\" class=\"data row3 col1\" >0.0876</td>\n",
       "                        <td id=\"T_4e54c_row3_col2\" class=\"data row3 col2\" >0.0229</td>\n",
       "                        <td id=\"T_4e54c_row3_col3\" class=\"data row3 col3\" >0.1513</td>\n",
       "                        <td id=\"T_4e54c_row3_col4\" class=\"data row3 col4\" >0.5195</td>\n",
       "                        <td id=\"T_4e54c_row3_col5\" class=\"data row3 col5\" >0.1143</td>\n",
       "                        <td id=\"T_4e54c_row3_col6\" class=\"data row3 col6\" >0.4120</td>\n",
       "                        <td id=\"T_4e54c_row3_col7\" class=\"data row3 col7\" >2.5260</td>\n",
       "            </tr>\n",
       "            <tr>\n",
       "                        <th id=\"T_4e54c_level0_row4\" class=\"row_heading level0 row4\" >gbr</th>\n",
       "                        <td id=\"T_4e54c_row4_col0\" class=\"data row4 col0\" >Gradient Boosting Regressor</td>\n",
       "                        <td id=\"T_4e54c_row4_col1\" class=\"data row4 col1\" >0.1110</td>\n",
       "                        <td id=\"T_4e54c_row4_col2\" class=\"data row4 col2\" >0.0253</td>\n",
       "                        <td id=\"T_4e54c_row4_col3\" class=\"data row4 col3\" >0.1590</td>\n",
       "                        <td id=\"T_4e54c_row4_col4\" class=\"data row4 col4\" >0.4699</td>\n",
       "                        <td id=\"T_4e54c_row4_col5\" class=\"data row4 col5\" >0.1209</td>\n",
       "                        <td id=\"T_4e54c_row4_col6\" class=\"data row4 col6\" >0.4700</td>\n",
       "                        <td id=\"T_4e54c_row4_col7\" class=\"data row4 col7\" >6.4040</td>\n",
       "            </tr>\n",
       "            <tr>\n",
       "                        <th id=\"T_4e54c_level0_row5\" class=\"row_heading level0 row5\" >dt</th>\n",
       "                        <td id=\"T_4e54c_row5_col0\" class=\"data row5 col0\" >Decision Tree Regressor</td>\n",
       "                        <td id=\"T_4e54c_row5_col1\" class=\"data row5 col1\" >0.0844</td>\n",
       "                        <td id=\"T_4e54c_row5_col2\" class=\"data row5 col2\" >0.0316</td>\n",
       "                        <td id=\"T_4e54c_row5_col3\" class=\"data row5 col3\" >0.1775</td>\n",
       "                        <td id=\"T_4e54c_row5_col4\" class=\"data row5 col4\" >0.3382</td>\n",
       "                        <td id=\"T_4e54c_row5_col5\" class=\"data row5 col5\" >0.1331</td>\n",
       "                        <td id=\"T_4e54c_row5_col6\" class=\"data row5 col6\" >0.4067</td>\n",
       "                        <td id=\"T_4e54c_row5_col7\" class=\"data row5 col7\" >0.3660</td>\n",
       "            </tr>\n",
       "            <tr>\n",
       "                        <th id=\"T_4e54c_level0_row6\" class=\"row_heading level0 row6\" >lr</th>\n",
       "                        <td id=\"T_4e54c_row6_col0\" class=\"data row6 col0\" >Linear Regression</td>\n",
       "                        <td id=\"T_4e54c_row6_col1\" class=\"data row6 col1\" >0.1307</td>\n",
       "                        <td id=\"T_4e54c_row6_col2\" class=\"data row6 col2\" >0.0319</td>\n",
       "                        <td id=\"T_4e54c_row6_col3\" class=\"data row6 col3\" >0.1786</td>\n",
       "                        <td id=\"T_4e54c_row6_col4\" class=\"data row6 col4\" >0.3314</td>\n",
       "                        <td id=\"T_4e54c_row6_col5\" class=\"data row6 col5\" >0.1363</td>\n",
       "                        <td id=\"T_4e54c_row6_col6\" class=\"data row6 col6\" >0.5378</td>\n",
       "                        <td id=\"T_4e54c_row6_col7\" class=\"data row6 col7\" >0.8820</td>\n",
       "            </tr>\n",
       "            <tr>\n",
       "                        <th id=\"T_4e54c_level0_row7\" class=\"row_heading level0 row7\" >ridge</th>\n",
       "                        <td id=\"T_4e54c_row7_col0\" class=\"data row7 col0\" >Ridge Regression</td>\n",
       "                        <td id=\"T_4e54c_row7_col1\" class=\"data row7 col1\" >0.1307</td>\n",
       "                        <td id=\"T_4e54c_row7_col2\" class=\"data row7 col2\" >0.0319</td>\n",
       "                        <td id=\"T_4e54c_row7_col3\" class=\"data row7 col3\" >0.1786</td>\n",
       "                        <td id=\"T_4e54c_row7_col4\" class=\"data row7 col4\" >0.3315</td>\n",
       "                        <td id=\"T_4e54c_row7_col5\" class=\"data row7 col5\" >0.1363</td>\n",
       "                        <td id=\"T_4e54c_row7_col6\" class=\"data row7 col6\" >0.5374</td>\n",
       "                        <td id=\"T_4e54c_row7_col7\" class=\"data row7 col7\" >0.6380</td>\n",
       "            </tr>\n",
       "            <tr>\n",
       "                        <th id=\"T_4e54c_level0_row8\" class=\"row_heading level0 row8\" >br</th>\n",
       "                        <td id=\"T_4e54c_row8_col0\" class=\"data row8 col0\" >Bayesian Ridge</td>\n",
       "                        <td id=\"T_4e54c_row8_col1\" class=\"data row8 col1\" >0.1306</td>\n",
       "                        <td id=\"T_4e54c_row8_col2\" class=\"data row8 col2\" >0.0319</td>\n",
       "                        <td id=\"T_4e54c_row8_col3\" class=\"data row8 col3\" >0.1786</td>\n",
       "                        <td id=\"T_4e54c_row8_col4\" class=\"data row8 col4\" >0.3314</td>\n",
       "                        <td id=\"T_4e54c_row8_col5\" class=\"data row8 col5\" >0.1363</td>\n",
       "                        <td id=\"T_4e54c_row8_col6\" class=\"data row8 col6\" >0.5369</td>\n",
       "                        <td id=\"T_4e54c_row8_col7\" class=\"data row8 col7\" >0.1960</td>\n",
       "            </tr>\n",
       "            <tr>\n",
       "                        <th id=\"T_4e54c_level0_row9\" class=\"row_heading level0 row9\" >lar</th>\n",
       "                        <td id=\"T_4e54c_row9_col0\" class=\"data row9 col0\" >Least Angle Regression</td>\n",
       "                        <td id=\"T_4e54c_row9_col1\" class=\"data row9 col1\" >0.1335</td>\n",
       "                        <td id=\"T_4e54c_row9_col2\" class=\"data row9 col2\" >0.0328</td>\n",
       "                        <td id=\"T_4e54c_row9_col3\" class=\"data row9 col3\" >0.1812</td>\n",
       "                        <td id=\"T_4e54c_row9_col4\" class=\"data row9 col4\" >0.3119</td>\n",
       "                        <td id=\"T_4e54c_row9_col5\" class=\"data row9 col5\" >0.1383</td>\n",
       "                        <td id=\"T_4e54c_row9_col6\" class=\"data row9 col6\" >0.5520</td>\n",
       "                        <td id=\"T_4e54c_row9_col7\" class=\"data row9 col7\" >0.1000</td>\n",
       "            </tr>\n",
       "            <tr>\n",
       "                        <th id=\"T_4e54c_level0_row10\" class=\"row_heading level0 row10\" >omp</th>\n",
       "                        <td id=\"T_4e54c_row10_col0\" class=\"data row10 col0\" >Orthogonal Matching Pursuit</td>\n",
       "                        <td id=\"T_4e54c_row10_col1\" class=\"data row10 col1\" >0.1327</td>\n",
       "                        <td id=\"T_4e54c_row10_col2\" class=\"data row10 col2\" >0.0330</td>\n",
       "                        <td id=\"T_4e54c_row10_col3\" class=\"data row10 col3\" >0.1817</td>\n",
       "                        <td id=\"T_4e54c_row10_col4\" class=\"data row10 col4\" >0.3080</td>\n",
       "                        <td id=\"T_4e54c_row10_col5\" class=\"data row10 col5\" >0.1388</td>\n",
       "                        <td id=\"T_4e54c_row10_col6\" class=\"data row10 col6\" >0.5327</td>\n",
       "                        <td id=\"T_4e54c_row10_col7\" class=\"data row10 col7\" >0.0660</td>\n",
       "            </tr>\n",
       "            <tr>\n",
       "                        <th id=\"T_4e54c_level0_row11\" class=\"row_heading level0 row11\" >ada</th>\n",
       "                        <td id=\"T_4e54c_row11_col0\" class=\"data row11 col0\" >AdaBoost Regressor</td>\n",
       "                        <td id=\"T_4e54c_row11_col1\" class=\"data row11 col1\" >0.1414</td>\n",
       "                        <td id=\"T_4e54c_row11_col2\" class=\"data row11 col2\" >0.0331</td>\n",
       "                        <td id=\"T_4e54c_row11_col3\" class=\"data row11 col3\" >0.1818</td>\n",
       "                        <td id=\"T_4e54c_row11_col4\" class=\"data row11 col4\" >0.3069</td>\n",
       "                        <td id=\"T_4e54c_row11_col5\" class=\"data row11 col5\" >0.1420</td>\n",
       "                        <td id=\"T_4e54c_row11_col6\" class=\"data row11 col6\" >0.6077</td>\n",
       "                        <td id=\"T_4e54c_row11_col7\" class=\"data row11 col7\" >1.7140</td>\n",
       "            </tr>\n",
       "            <tr>\n",
       "                        <th id=\"T_4e54c_level0_row12\" class=\"row_heading level0 row12\" >huber</th>\n",
       "                        <td id=\"T_4e54c_row12_col0\" class=\"data row12 col0\" >Huber Regressor</td>\n",
       "                        <td id=\"T_4e54c_row12_col1\" class=\"data row12 col1\" >0.1268</td>\n",
       "                        <td id=\"T_4e54c_row12_col2\" class=\"data row12 col2\" >0.0332</td>\n",
       "                        <td id=\"T_4e54c_row12_col3\" class=\"data row12 col3\" >0.1821</td>\n",
       "                        <td id=\"T_4e54c_row12_col4\" class=\"data row12 col4\" >0.3050</td>\n",
       "                        <td id=\"T_4e54c_row12_col5\" class=\"data row12 col5\" >0.1376</td>\n",
       "                        <td id=\"T_4e54c_row12_col6\" class=\"data row12 col6\" >0.5168</td>\n",
       "                        <td id=\"T_4e54c_row12_col7\" class=\"data row12 col7\" >1.7220</td>\n",
       "            </tr>\n",
       "            <tr>\n",
       "                        <th id=\"T_4e54c_level0_row13\" class=\"row_heading level0 row13\" >lasso</th>\n",
       "                        <td id=\"T_4e54c_row13_col0\" class=\"data row13 col0\" >Lasso Regression</td>\n",
       "                        <td id=\"T_4e54c_row13_col1\" class=\"data row13 col1\" >0.1885</td>\n",
       "                        <td id=\"T_4e54c_row13_col2\" class=\"data row13 col2\" >0.0477</td>\n",
       "                        <td id=\"T_4e54c_row13_col3\" class=\"data row13 col3\" >0.2184</td>\n",
       "                        <td id=\"T_4e54c_row13_col4\" class=\"data row13 col4\" >-0.0000</td>\n",
       "                        <td id=\"T_4e54c_row13_col5\" class=\"data row13 col5\" >0.1695</td>\n",
       "                        <td id=\"T_4e54c_row13_col6\" class=\"data row13 col6\" >0.6997</td>\n",
       "                        <td id=\"T_4e54c_row13_col7\" class=\"data row13 col7\" >0.6560</td>\n",
       "            </tr>\n",
       "            <tr>\n",
       "                        <th id=\"T_4e54c_level0_row14\" class=\"row_heading level0 row14\" >en</th>\n",
       "                        <td id=\"T_4e54c_row14_col0\" class=\"data row14 col0\" >Elastic Net</td>\n",
       "                        <td id=\"T_4e54c_row14_col1\" class=\"data row14 col1\" >0.1885</td>\n",
       "                        <td id=\"T_4e54c_row14_col2\" class=\"data row14 col2\" >0.0477</td>\n",
       "                        <td id=\"T_4e54c_row14_col3\" class=\"data row14 col3\" >0.2184</td>\n",
       "                        <td id=\"T_4e54c_row14_col4\" class=\"data row14 col4\" >-0.0000</td>\n",
       "                        <td id=\"T_4e54c_row14_col5\" class=\"data row14 col5\" >0.1695</td>\n",
       "                        <td id=\"T_4e54c_row14_col6\" class=\"data row14 col6\" >0.6997</td>\n",
       "                        <td id=\"T_4e54c_row14_col7\" class=\"data row14 col7\" >0.3520</td>\n",
       "            </tr>\n",
       "            <tr>\n",
       "                        <th id=\"T_4e54c_level0_row15\" class=\"row_heading level0 row15\" >llar</th>\n",
       "                        <td id=\"T_4e54c_row15_col0\" class=\"data row15 col0\" >Lasso Least Angle Regression</td>\n",
       "                        <td id=\"T_4e54c_row15_col1\" class=\"data row15 col1\" >0.1885</td>\n",
       "                        <td id=\"T_4e54c_row15_col2\" class=\"data row15 col2\" >0.0477</td>\n",
       "                        <td id=\"T_4e54c_row15_col3\" class=\"data row15 col3\" >0.2184</td>\n",
       "                        <td id=\"T_4e54c_row15_col4\" class=\"data row15 col4\" >-0.0000</td>\n",
       "                        <td id=\"T_4e54c_row15_col5\" class=\"data row15 col5\" >0.1695</td>\n",
       "                        <td id=\"T_4e54c_row15_col6\" class=\"data row15 col6\" >0.6997</td>\n",
       "                        <td id=\"T_4e54c_row15_col7\" class=\"data row15 col7\" >0.0880</td>\n",
       "            </tr>\n",
       "            <tr>\n",
       "                        <th id=\"T_4e54c_level0_row16\" class=\"row_heading level0 row16\" >par</th>\n",
       "                        <td id=\"T_4e54c_row16_col0\" class=\"data row16 col0\" >Passive Aggressive Regressor</td>\n",
       "                        <td id=\"T_4e54c_row16_col1\" class=\"data row16 col1\" >0.1705</td>\n",
       "                        <td id=\"T_4e54c_row16_col2\" class=\"data row16 col2\" >0.0491</td>\n",
       "                        <td id=\"T_4e54c_row16_col3\" class=\"data row16 col3\" >0.2200</td>\n",
       "                        <td id=\"T_4e54c_row16_col4\" class=\"data row16 col4\" >-0.0297</td>\n",
       "                        <td id=\"T_4e54c_row16_col5\" class=\"data row16 col5\" >0.1652</td>\n",
       "                        <td id=\"T_4e54c_row16_col6\" class=\"data row16 col6\" >0.7465</td>\n",
       "                        <td id=\"T_4e54c_row16_col7\" class=\"data row16 col7\" >0.1360</td>\n",
       "            </tr>\n",
       "    </tbody></table>"
      ],
      "text/plain": [
       "<pandas.io.formats.style.Styler at 0x140de8e1070>"
      ]
     },
     "metadata": {},
     "output_type": "display_data"
    },
    {
     "name": "stdout",
     "output_type": "stream",
     "text": [
      "[RandomForestRegressor(bootstrap=True, ccp_alpha=0.0, criterion='mse',\n",
      "                      max_depth=None, max_features='auto', max_leaf_nodes=None,\n",
      "                      max_samples=None, min_impurity_decrease=0.0,\n",
      "                      min_impurity_split=None, min_samples_leaf=1,\n",
      "                      min_samples_split=2, min_weight_fraction_leaf=0.0,\n",
      "                      n_estimators=100, n_jobs=-1, oob_score=False,\n",
      "                      random_state=0, verbose=0, warm_start=False), ExtraTreesRegressor(bootstrap=False, ccp_alpha=0.0, criterion='mse',\n",
      "                    max_depth=None, max_features='auto', max_leaf_nodes=None,\n",
      "                    max_samples=None, min_impurity_decrease=0.0,\n",
      "                    min_impurity_split=None, min_samples_leaf=1,\n",
      "                    min_samples_split=2, min_weight_fraction_leaf=0.0,\n",
      "                    n_estimators=100, n_jobs=-1, oob_score=False,\n",
      "                    random_state=0, verbose=0, warm_start=False), LGBMRegressor(boosting_type='gbdt', class_weight=None, colsample_bytree=1.0,\n",
      "              importance_type='split', learning_rate=0.1, max_depth=-1,\n",
      "              min_child_samples=20, min_child_weight=0.001, min_split_gain=0.0,\n",
      "              n_estimators=100, n_jobs=-1, num_leaves=31, objective=None,\n",
      "              random_state=0, reg_alpha=0.0, reg_lambda=0.0, silent=True,\n",
      "              subsample=1.0, subsample_for_bin=200000, subsample_freq=0), KNeighborsRegressor(algorithm='auto', leaf_size=30, metric='minkowski',\n",
      "                    metric_params=None, n_jobs=-1, n_neighbors=5, p=2,\n",
      "                    weights='uniform'), GradientBoostingRegressor(alpha=0.9, ccp_alpha=0.0, criterion='friedman_mse',\n",
      "                          init=None, learning_rate=0.1, loss='ls', max_depth=3,\n",
      "                          max_features=None, max_leaf_nodes=None,\n",
      "                          min_impurity_decrease=0.0, min_impurity_split=None,\n",
      "                          min_samples_leaf=1, min_samples_split=2,\n",
      "                          min_weight_fraction_leaf=0.0, n_estimators=100,\n",
      "                          n_iter_no_change=None, presort='deprecated',\n",
      "                          random_state=0, subsample=1.0, tol=0.0001,\n",
      "                          validation_fraction=0.1, verbose=0, warm_start=False)]\n"
     ]
    }
   ],
   "source": [
    "best_5_d = compare_models(sort = 'RMSE', n_select = 5,round=4,cross_validation=True,verbose=True)\n",
    "print(best_5_d)\n",
    "## Altitude 안 빼기"
   ]
  }
 ],
 "metadata": {
  "kernelspec": {
   "display_name": "Python 3",
   "language": "python",
   "name": "python3"
  },
  "language_info": {
   "codemirror_mode": {
    "name": "ipython",
    "version": 3
   },
   "file_extension": ".py",
   "mimetype": "text/x-python",
   "name": "python",
   "nbconvert_exporter": "python",
   "pygments_lexer": "ipython3",
   "version": "3.8.8"
  }
 },
 "nbformat": 4,
 "nbformat_minor": 5
}
