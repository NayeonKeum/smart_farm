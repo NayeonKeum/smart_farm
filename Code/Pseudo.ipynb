{
 "cells": [
  {
   "cell_type": "markdown",
   "metadata": {},
   "source": [
    "## 작동 수도 코드"
   ]
  },
  {
   "cell_type": "markdown",
   "metadata": {},
   "source": [
    "서버 작동 방식\n",
    "- t 분마다 한 번씩 현 시점에서 n초 이후의 온도를 예측하고 결과(pred_temp)를 받아옴\n",
    "- 알고리즘의 판단에 따라 작동 변수를 조정한 뒤 조정된 정보를 서버에 넘겨 값을 업데이트 함\n",
    "\n",
    "사용 변수\n",
    "- 현재 온도: curr_temp\n",
    "- 예측 온도: pred_temp\n",
    "- 현재 환기온도(pre-defined): max_thres\n",
    "- 현재 난방온도(pre-defined): min_thres\n",
    "- 예측 시점 - 현재 시점: n\n",
    "\n",
    "\n",
    "작동 변수(상호 반대)\n",
    "- 음의 방향 작용(온도를 내리는)\n",
    "  * 차광스크린, 차열스크린, 에너지스크린(수평, 수직), 배기팬, 천창, (유동팬) 값 증가\n",
    "- 양의 방향으로 작용(온도를 올리는)\n",
    "  * 팬코일 값 증가"
   ]
  },
  {
   "cell_type": "markdown",
   "metadata": {},
   "source": [
    "***"
   ]
  },
  {
   "cell_type": "markdown",
   "metadata": {},
   "source": [
    "### 1. 경계: 최소 온도와 최대 온도\n",
    "\n",
    "변수 설명\n",
    "- 실제 서버에서 주기적으로 가져옴\n",
    "- 작동 결과를 서버에 업데이트 함"
   ]
  },
  {
   "cell_type": "code",
   "execution_count": 2,
   "metadata": {},
   "outputs": [],
   "source": [
    "# 현재 온도는 25도, n초 후 예측된 온도는 35도, 현 시점에서 최대 온도(환기온도)는 30도, 최소 온도(난방온도)는 18도\n",
    "curr_temp = 25\n",
    "pred_temp = 35\n",
    "max_thres = 30\n",
    "min_thres = 18"
   ]
  },
  {
   "cell_type": "markdown",
   "metadata": {},
   "source": [
    "고민 거리\n",
    "- 이거 넣을지 말지 결정\n",
    "  * RRS = 0.7 # 변동에 너무 심하게 변하지 않게 쿠션감을 주는 값이라고 함! ex) 10만큼 변화해야하면 7만큼만 변화를 주는 것\n",
    "- 스크린이 0에서 100으로 바로 증가하는 게 아니라 증가 term이 있을 텐데, 이걸 어떻게 처리해야할지\n",
    "  * 데이터 보니까 대부분 바로 했던데 우리도 그냥 해도 될듯"
   ]
  },
  {
   "cell_type": "code",
   "execution_count": 11,
   "metadata": {},
   "outputs": [],
   "source": [
    "curr_temps = [24, 26, 25, 23]\n",
    "pred_temps = [30, 31, 24, 18]\n",
    "max_thres = [29, 32, 29, 28]\n",
    "min_thres = [20, 22, 19, 19]\n",
    "\n",
    "RRS = 0.7\n",
    "\n",
    "minus_affect = \"\"\"\n",
    "배기팬, 유동팬, 천창: 1(작동)\n",
    "팬코일: 0(정지)\n",
    "차광스크린: 100%(증가)\n",
    "차열스크린: 100%(증가)\n",
    "에너지스크린(수평): 100%(증가)\n",
    "에너지스크린(수직): 100%(증가)\n",
    "\n",
    "\"\"\"+\"=\"*30\n",
    "\n",
    "plus_effect = \"\"\"\n",
    "배기팬, 유동팬, 천창: 0(정지)\n",
    "팬코일: 1(작동)\n",
    "차광스크린: 0%(감소)\n",
    "차열스크린: 0%(감소)\n",
    "에너지스크린(수평): 0%(감소)\n",
    "에너지스크린(수직): 0%(감소)\n",
    "\n",
    "\"\"\"+\"=\"*30"
   ]
  },
  {
   "cell_type": "code",
   "execution_count": 13,
   "metadata": {},
   "outputs": [
    {
     "name": "stdout",
     "output_type": "stream",
     "text": [
      "==============================\n",
      "현재 온도: 24\n",
      "예측 온도: 30\n",
      "최대 온도: 29\n",
      "최소 온도: 20\n",
      "작동: 양의 방향 - 최대가 목표\n",
      "------------------------\n",
      "\n",
      "배기팬, 유동팬, 천창: 0(정지)\n",
      "팬코일: 1(작동)\n",
      "차광스크린: 0%(감소)\n",
      "차열스크린: 0%(감소)\n",
      "에너지스크린(수평): 0%(감소)\n",
      "에너지스크린(수직): 0%(감소)\n",
      "\n",
      "==============================\n",
      "==============================\n",
      "현재 온도: 26\n",
      "예측 온도: 31\n",
      "최대 온도: 32\n",
      "최소 온도: 22\n",
      "작동: 양의 방향\n",
      "------------------------\n",
      "\n",
      "배기팬, 유동팬, 천창: 0(정지)\n",
      "팬코일: 1(작동)\n",
      "차광스크린: 0%(감소)\n",
      "차열스크린: 0%(감소)\n",
      "에너지스크린(수평): 0%(감소)\n",
      "에너지스크린(수직): 0%(감소)\n",
      "\n",
      "==============================\n",
      "==============================\n",
      "현재 온도: 25\n",
      "예측 온도: 24\n",
      "최대 온도: 29\n",
      "최소 온도: 19\n",
      "작동: 음의 방향\n",
      "------------------------\n",
      "\n",
      "배기팬, 유동팬, 천창: 1(작동)\n",
      "팬코일: 0(정지)\n",
      "차광스크린: 100%(증가)\n",
      "차열스크린: 100%(증가)\n",
      "에너지스크린(수평): 100%(증가)\n",
      "에너지스크린(수직): 100%(증가)\n",
      "\n",
      "==============================\n",
      "==============================\n",
      "현재 온도: 23\n",
      "예측 온도: 18\n",
      "최대 온도: 28\n",
      "최소 온도: 19\n",
      "작동: 음의 방향 - 최소가 목표\n",
      "------------------------\n",
      "\n",
      "배기팬, 유동팬, 천창: 1(작동)\n",
      "팬코일: 0(정지)\n",
      "차광스크린: 100%(증가)\n",
      "차열스크린: 100%(증가)\n",
      "에너지스크린(수평): 100%(증가)\n",
      "에너지스크린(수직): 100%(증가)\n",
      "\n",
      "==============================\n"
     ]
    }
   ],
   "source": [
    "# main\n",
    "\n",
    "# Input code needed\n",
    "# while True:\n",
    "    # workload_next=input()\n",
    "    # if workload_next=='q': break\n",
    "\n",
    "for pred_temp in pred_temps:\n",
    "    print(\"=\"*30)\n",
    "    \n",
    "    # 동일 시점\n",
    "    idx=pred_temps.index(pred_temp)\n",
    "    \n",
    "    # 온도 차\n",
    "    temp_diff = pred_temp - curr_temps[idx]\n",
    "    \n",
    "    # RRS 적용 시 \n",
    "    ## temp_diff*=RRS\n",
    "    \n",
    "    ## 이거 작동 틀려서 다시 해야함(현재 온도가 중요한 게 아니라 예측온도와 최대, 최소 온도가 중요한 것!)\n",
    "    # 현재 온도 > 예측 온도 > 최소 온도: 하강\n",
    "    if (curr_temps[idx] > pred_temp) and (temp_diff < 0):\n",
    "        print(\"현재 온도: %d\\n예측 온도: %d\\n최대 온도: %d\\n최소 온도: %d\"%(curr_temps[idx], pred_temp, max_thres[idx], min_thres[idx]))\n",
    "        print(\"작동: 음의 방향\")\n",
    "        print(\"------------------------\")\n",
    "        print(minus_affect)\n",
    "        continue\n",
    "    \n",
    "    # 현재 온도, 최소 온도 > 예측 온도 : 하강(최소가 목표)\n",
    "    elif (temp_diff < 0 ) and (min_thres[idx] > pred_temp):\n",
    "        print(\"현재 온도: %d\\n예측 온도: %d\\n최대 온도: %d\\n최소 온도: %d\"%(curr_temps[idx], pred_temp, max_thres[idx], min_thres[idx]))\n",
    "        print(\"작동: 음의 방향 - 최소가 목표\")\n",
    "        print(\"------------------------\")\n",
    "        print(minus_affect)\n",
    "        continue\n",
    "    \n",
    "    # 최대 온도 > 예측 온도 > 현재 온도: 무족권 상승\n",
    "    elif (max_thres[idx] > pred_temp) and (temp_diff > 0):\n",
    "        print(\"현재 온도: %d\\n예측 온도: %d\\n최대 온도: %d\\n최소 온도: %d\"%(curr_temps[idx], pred_temp, max_thres[idx], min_thres[idx]))\n",
    "        print(\"작동: 양의 방향\")\n",
    "        print(\"------------------------\")\n",
    "        print(plus_effect)\n",
    "        continue\n",
    "    \n",
    "    # 예측 온도 > 최대 온도 , 현재 온도: 상승(최대가 목표))\n",
    "    elif (pred_temp > max_thres[idx]) and (temp_diff > 0):\n",
    "        print(\"현재 온도: %d\\n예측 온도: %d\\n최대 온도: %d\\n최소 온도: %d\"%(curr_temps[idx], pred_temp, max_thres[idx], min_thres[idx]))\n",
    "        print(\"작동: 양의 방향 - 최대가 목표\")\n",
    "        print(\"------------------------\")\n",
    "        print(plus_effect)\n",
    "        continue\n",
    "    \n",
    "    else: \n",
    "        print(\"현재 온도: %d\\n예측 온도: %d\\n최대 온도: %d\\n최소 온도: %d\"%(curr_temps[idx], pred_temp, max_thres[idx], min_thres[idx]))\n",
    "        print(\"에러에러\")\n",
    "\n",
    "    "
   ]
  },
  {
   "cell_type": "code",
   "execution_count": null,
   "metadata": {},
   "outputs": [],
   "source": []
  }
 ],
 "metadata": {
  "kernelspec": {
   "display_name": "Python 3.8.6 64-bit",
   "language": "python",
   "name": "python3"
  },
  "language_info": {
   "codemirror_mode": {
    "name": "ipython",
    "version": 3
   },
   "file_extension": ".py",
   "mimetype": "text/x-python",
   "name": "python",
   "nbconvert_exporter": "python",
   "pygments_lexer": "ipython3",
   "version": "3.8.6"
  },
  "orig_nbformat": 4,
  "vscode": {
   "interpreter": {
    "hash": "570feb405e2e27c949193ac68f46852414290d515b0ba6e5d90d076ed2284471"
   }
  }
 },
 "nbformat": 4,
 "nbformat_minor": 2
}
