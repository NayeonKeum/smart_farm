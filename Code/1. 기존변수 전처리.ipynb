{
 "cells": [
  {
   "cell_type": "markdown",
   "id": "86bb73e9",
   "metadata": {},
   "source": [
    "# 기존변수에 대한 결측치 처리"
   ]
  },
  {
   "cell_type": "markdown",
   "id": "4eb227bb",
   "metadata": {},
   "source": [
    "#### 라이브러리 불러오기"
   ]
  },
  {
   "cell_type": "code",
   "execution_count": 1,
   "id": "00c035e6",
   "metadata": {},
   "outputs": [],
   "source": [
    "import pandas as pd\n",
    "import numpy as np\n",
    "from datetime import datetime"
   ]
  },
  {
   "cell_type": "code",
   "execution_count": 2,
   "id": "eb46c63c",
   "metadata": {},
   "outputs": [],
   "source": [
    "smart_farm = pd.read_csv(\"smart_farm.csv\")\n",
    "columns = pd.read_csv(\"(스마트팜)테이블 정의서.csv\")"
   ]
  },
  {
   "cell_type": "code",
   "execution_count": 3,
   "id": "e5b1253f",
   "metadata": {},
   "outputs": [
    {
     "data": {
      "text/html": [
       "<div>\n",
       "<style scoped>\n",
       "    .dataframe tbody tr th:only-of-type {\n",
       "        vertical-align: middle;\n",
       "    }\n",
       "\n",
       "    .dataframe tbody tr th {\n",
       "        vertical-align: top;\n",
       "    }\n",
       "\n",
       "    .dataframe thead th {\n",
       "        text-align: right;\n",
       "    }\n",
       "</style>\n",
       "<table border=\"1\" class=\"dataframe\">\n",
       "  <thead>\n",
       "    <tr style=\"text-align: right;\">\n",
       "      <th></th>\n",
       "      <th>년도</th>\n",
       "      <th>월</th>\n",
       "      <th>일</th>\n",
       "      <th>시</th>\n",
       "      <th>분</th>\n",
       "      <th>일사량(W/㎡)</th>\n",
       "      <th>외기온(℃)</th>\n",
       "      <th>외기습도(%)</th>\n",
       "      <th>풍속(m/s)</th>\n",
       "      <th>풍향(º)</th>\n",
       "      <th>...</th>\n",
       "      <th>차열스크린(수평)</th>\n",
       "      <th>에너지스크린(수평)</th>\n",
       "      <th>에너지스크린(수직)</th>\n",
       "      <th>배기팬</th>\n",
       "      <th>천창</th>\n",
       "      <th>유동팬</th>\n",
       "      <th>팬코일 B동</th>\n",
       "      <th>환기온도(천창 제어온도)</th>\n",
       "      <th>난방온도(설정온도)</th>\n",
       "      <th>열공급량(kWh)</th>\n",
       "    </tr>\n",
       "  </thead>\n",
       "  <tbody>\n",
       "    <tr>\n",
       "      <th>0</th>\n",
       "      <td>2021</td>\n",
       "      <td>11</td>\n",
       "      <td>26</td>\n",
       "      <td>0</td>\n",
       "      <td>0</td>\n",
       "      <td>-2.7</td>\n",
       "      <td>5.8</td>\n",
       "      <td>67</td>\n",
       "      <td>0.0</td>\n",
       "      <td>325</td>\n",
       "      <td>...</td>\n",
       "      <td>0.0</td>\n",
       "      <td>0.0</td>\n",
       "      <td>0.0</td>\n",
       "      <td>0.0</td>\n",
       "      <td>0.0</td>\n",
       "      <td>1.0</td>\n",
       "      <td>0.0</td>\n",
       "      <td>28.0</td>\n",
       "      <td>18.0</td>\n",
       "      <td>0.9</td>\n",
       "    </tr>\n",
       "    <tr>\n",
       "      <th>1</th>\n",
       "      <td>2021</td>\n",
       "      <td>11</td>\n",
       "      <td>26</td>\n",
       "      <td>0</td>\n",
       "      <td>1</td>\n",
       "      <td>-2.9</td>\n",
       "      <td>5.8</td>\n",
       "      <td>67</td>\n",
       "      <td>0.4</td>\n",
       "      <td>344</td>\n",
       "      <td>...</td>\n",
       "      <td>0.0</td>\n",
       "      <td>0.0</td>\n",
       "      <td>0.0</td>\n",
       "      <td>0.0</td>\n",
       "      <td>0.0</td>\n",
       "      <td>1.0</td>\n",
       "      <td>0.0</td>\n",
       "      <td>28.0</td>\n",
       "      <td>18.0</td>\n",
       "      <td>0.9</td>\n",
       "    </tr>\n",
       "    <tr>\n",
       "      <th>2</th>\n",
       "      <td>2021</td>\n",
       "      <td>11</td>\n",
       "      <td>26</td>\n",
       "      <td>0</td>\n",
       "      <td>2</td>\n",
       "      <td>-3.0</td>\n",
       "      <td>5.7</td>\n",
       "      <td>67</td>\n",
       "      <td>0.9</td>\n",
       "      <td>105</td>\n",
       "      <td>...</td>\n",
       "      <td>0.0</td>\n",
       "      <td>0.0</td>\n",
       "      <td>0.0</td>\n",
       "      <td>0.0</td>\n",
       "      <td>0.0</td>\n",
       "      <td>1.0</td>\n",
       "      <td>1.0</td>\n",
       "      <td>28.0</td>\n",
       "      <td>18.0</td>\n",
       "      <td>0.9</td>\n",
       "    </tr>\n",
       "    <tr>\n",
       "      <th>3</th>\n",
       "      <td>2021</td>\n",
       "      <td>11</td>\n",
       "      <td>26</td>\n",
       "      <td>0</td>\n",
       "      <td>3</td>\n",
       "      <td>-3.0</td>\n",
       "      <td>5.7</td>\n",
       "      <td>67</td>\n",
       "      <td>1.3</td>\n",
       "      <td>123</td>\n",
       "      <td>...</td>\n",
       "      <td>0.0</td>\n",
       "      <td>0.0</td>\n",
       "      <td>0.0</td>\n",
       "      <td>0.0</td>\n",
       "      <td>0.0</td>\n",
       "      <td>1.0</td>\n",
       "      <td>1.0</td>\n",
       "      <td>28.0</td>\n",
       "      <td>18.0</td>\n",
       "      <td>0.8</td>\n",
       "    </tr>\n",
       "    <tr>\n",
       "      <th>4</th>\n",
       "      <td>2021</td>\n",
       "      <td>11</td>\n",
       "      <td>26</td>\n",
       "      <td>0</td>\n",
       "      <td>4</td>\n",
       "      <td>-2.8</td>\n",
       "      <td>5.7</td>\n",
       "      <td>67</td>\n",
       "      <td>0.9</td>\n",
       "      <td>123</td>\n",
       "      <td>...</td>\n",
       "      <td>0.0</td>\n",
       "      <td>0.0</td>\n",
       "      <td>0.0</td>\n",
       "      <td>0.0</td>\n",
       "      <td>0.0</td>\n",
       "      <td>1.0</td>\n",
       "      <td>1.0</td>\n",
       "      <td>28.0</td>\n",
       "      <td>18.0</td>\n",
       "      <td>1.0</td>\n",
       "    </tr>\n",
       "  </tbody>\n",
       "</table>\n",
       "<p>5 rows × 23 columns</p>\n",
       "</div>"
      ],
      "text/plain": [
       "     년도   월   일  시  분  일사량(W/㎡)  외기온(℃)  외기습도(%)  풍속(m/s)  풍향(º)  ...  \\\n",
       "0  2021  11  26  0  0      -2.7     5.8       67      0.0    325  ...   \n",
       "1  2021  11  26  0  1      -2.9     5.8       67      0.4    344  ...   \n",
       "2  2021  11  26  0  2      -3.0     5.7       67      0.9    105  ...   \n",
       "3  2021  11  26  0  3      -3.0     5.7       67      1.3    123  ...   \n",
       "4  2021  11  26  0  4      -2.8     5.7       67      0.9    123  ...   \n",
       "\n",
       "   차열스크린(수평)  에너지스크린(수평)  에너지스크린(수직)  배기팬   천창  유동팬  팬코일 B동  환기온도(천창 제어온도)  \\\n",
       "0        0.0         0.0         0.0  0.0  0.0  1.0     0.0           28.0   \n",
       "1        0.0         0.0         0.0  0.0  0.0  1.0     0.0           28.0   \n",
       "2        0.0         0.0         0.0  0.0  0.0  1.0     1.0           28.0   \n",
       "3        0.0         0.0         0.0  0.0  0.0  1.0     1.0           28.0   \n",
       "4        0.0         0.0         0.0  0.0  0.0  1.0     1.0           28.0   \n",
       "\n",
       "   난방온도(설정온도)  열공급량(kWh)  \n",
       "0        18.0        0.9  \n",
       "1        18.0        0.9  \n",
       "2        18.0        0.9  \n",
       "3        18.0        0.8  \n",
       "4        18.0        1.0  \n",
       "\n",
       "[5 rows x 23 columns]"
      ]
     },
     "execution_count": 3,
     "metadata": {},
     "output_type": "execute_result"
    }
   ],
   "source": [
    "smart_farm.columns = list(columns[\"정의\"])\n",
    "smart_farm.head()"
   ]
  },
  {
   "cell_type": "markdown",
   "id": "6f995298",
   "metadata": {},
   "source": [
    "#### Datetime 생성하기"
   ]
  },
  {
   "cell_type": "code",
   "execution_count": 4,
   "id": "82af2f16",
   "metadata": {},
   "outputs": [],
   "source": [
    "time_lst = []\n",
    "ymd_lst = []\n",
    "\n",
    "for idx, row in smart_farm.iterrows():\n",
    "    date = datetime(int(row[\"년도\"]), int(row[\"월\"]), int(row[\"일\"]), int(row[\"시\"]), int(row[\"분\"]))\n",
    "    time_lst.append(date)\n",
    "    \n",
    "    ymd = datetime(int(row[\"년도\"]), int(row[\"월\"]), int(row[\"일\"]))\n",
    "    ymd_lst.append(ymd)\n",
    "    \n",
    "smart_farm[\"시간\"] = time_lst\n",
    "smart_farm[\"년월일\"] = ymd_lst"
   ]
  },
  {
   "cell_type": "code",
   "execution_count": 5,
   "id": "83b6be0b",
   "metadata": {},
   "outputs": [],
   "source": [
    "smart_farm = smart_farm[[\"시간\",\"년월일\",\"년도\",'월', '일', '시', '분', '일사량(W/㎡)', '외기온(℃)', '외기습도(%)', '풍속(m/s)',\n",
    "       '풍향(º)', '내부 온도', '내부 습도', '차광스크린(수평)', '차열스크린(수평)', '에너지스크린(수평)',\n",
    "       '에너지스크린(수직)', '배기팬', '천창', '유동팬', '팬코일 B동', '환기온도(천창 제어온도)',\n",
    "       '난방온도(설정온도)', '열공급량(kWh)']]"
   ]
  },
  {
   "cell_type": "markdown",
   "id": "1a30e84c",
   "metadata": {},
   "source": [
    "#### 학습데이터와 검증데이터분리"
   ]
  },
  {
   "cell_type": "code",
   "execution_count": 6,
   "id": "ee83f6f7",
   "metadata": {},
   "outputs": [],
   "source": [
    "smart_farm[smart_farm[\"시간\"].duplicated()]\n",
    "\n",
    "smart_farm_df = smart_farm.set_index(\"시간\")"
   ]
  },
  {
   "cell_type": "code",
   "execution_count": 7,
   "id": "90f992c1",
   "metadata": {},
   "outputs": [],
   "source": [
    "range1 = pd.date_range(start=\"2022-03-04\",end=\"2022-03-13\")\n",
    "range2 = pd.date_range(start=\"2022-03-18\",end=\"2022-03-23\")\n",
    "\n",
    "smart_farm_df = smart_farm_df.reset_index()"
   ]
  },
  {
   "cell_type": "code",
   "execution_count": 8,
   "id": "c3be158d",
   "metadata": {},
   "outputs": [],
   "source": [
    "test_df = smart_farm_df[(smart_farm_df[\"년월일\"].isin(range1)) | (smart_farm_df[\"년월일\"].isin(range2))]\n",
    "test_df.reset_index(drop=True,inplace=True)\n",
    "# 20160개의 데이터"
   ]
  },
  {
   "cell_type": "code",
   "execution_count": 9,
   "id": "cf693bb9",
   "metadata": {},
   "outputs": [],
   "source": [
    "train_df = smart_farm_df[(-smart_farm_df[\"년월일\"].isin(range1)) & (-smart_farm_df[\"년월일\"].isin(range2))]\n",
    "train_df.reset_index(drop=True,inplace=True)"
   ]
  },
  {
   "cell_type": "markdown",
   "id": "c7bf8957",
   "metadata": {},
   "source": [
    "#### 학습용 데이터에서 Y값 결측 제거하기"
   ]
  },
  {
   "cell_type": "code",
   "execution_count": 19,
   "id": "948227fe",
   "metadata": {},
   "outputs": [],
   "source": [
    "train_df = train_df[train_df[\"열공급량(kWh)\"].notnull()]"
   ]
  },
  {
   "cell_type": "markdown",
   "id": "1c0866f3",
   "metadata": {},
   "source": [
    "#### 내부온도가 null인 512개 데이터 제거하고 다시한번 null 확인"
   ]
  },
  {
   "cell_type": "code",
   "execution_count": 20,
   "id": "7e89519d",
   "metadata": {
    "scrolled": true
   },
   "outputs": [
    {
     "data": {
      "text/plain": [
       "시간                 0\n",
       "년월일                0\n",
       "년도                 0\n",
       "월                  0\n",
       "일                  0\n",
       "시                  0\n",
       "분                  0\n",
       "일사량(W/㎡)           0\n",
       "외기온(℃)             0\n",
       "외기습도(%)            0\n",
       "풍속(m/s)            0\n",
       "풍향(º)              0\n",
       "내부 온도              0\n",
       "내부 습도              0\n",
       "차광스크린(수평)          0\n",
       "차열스크린(수평)          0\n",
       "에너지스크린(수평)         0\n",
       "에너지스크린(수직)         0\n",
       "배기팬                0\n",
       "천창                 0\n",
       "유동팬                0\n",
       "팬코일 B동             0\n",
       "환기온도(천창 제어온도)    135\n",
       "난방온도(설정온도)       134\n",
       "열공급량(kWh)          0\n",
       "dtype: int64"
      ]
     },
     "execution_count": 20,
     "metadata": {},
     "output_type": "execute_result"
    }
   ],
   "source": [
    "train_df_2 = train_df[train_df[\"내부 온도\"].notnull()].reset_index(drop=True)\n",
    "\n",
    "train_df_2.isnull().sum()"
   ]
  },
  {
   "cell_type": "code",
   "execution_count": 21,
   "id": "8e1fc02c",
   "metadata": {},
   "outputs": [],
   "source": [
    "smart_farm_null = train_df_2.copy()\n",
    "\n",
    "# Y값 결측치는 drop해주기\n",
    "smart_farm_null = smart_farm_null[smart_farm_null[\"열공급량(kWh)\"].notnull()].reset_index(drop=True)"
   ]
  },
  {
   "cell_type": "markdown",
   "id": "e1c1d920",
   "metadata": {},
   "source": [
    "#### test데이터에 대한 보간\n",
    "- 앞뒤 평균으로 채워지지 않는 결측치 11개에 대해서는 직접 앞뒤 데이터 확인해서 보간하기"
   ]
  },
  {
   "cell_type": "code",
   "execution_count": 24,
   "id": "05d5647d",
   "metadata": {},
   "outputs": [],
   "source": [
    "def get_결측치(data):\n",
    "    \n",
    "    측정목록 = ['내부 온도', '내부 습도', '차광스크린(수평)', '차열스크린(수평)',\n",
    "       '에너지스크린(수평)', '에너지스크린(수직)', '배기팬', '천창', '유동팬', '팬코일 B동',\n",
    "       '환기온도(천창 제어온도)', '난방온도(설정온도)']\n",
    "    결과리스트 = []\n",
    "\n",
    "    # 데이터프레임 copy하기\n",
    "    df = data.copy()\n",
    "    \n",
    "    for 항목 in 측정목록:\n",
    "        for idx,row in df[df[항목].isnull()].iterrows():\n",
    "            if df.loc[idx+1,항목] != np.nan:\n",
    "                if df.loc[idx-1,항목] != np.nan:\n",
    "                    df.loc[idx,항목] = ( df.loc[idx+1,항목]+df.loc[idx-1,항목] ) / 2\n",
    "    결과리스트.append(df)\n",
    "    \n",
    "    return pd.concat(결과리스트,axis=0,ignore_index = True)"
   ]
  },
  {
   "cell_type": "code",
   "execution_count": 25,
   "id": "8b6262ed",
   "metadata": {},
   "outputs": [],
   "source": [
    "test_df_nonull = get_결측치(test_df)"
   ]
  },
  {
   "cell_type": "code",
   "execution_count": 26,
   "id": "663c5116",
   "metadata": {},
   "outputs": [],
   "source": [
    "test_df_nonull.to_csv(\"test_df.csv\",encoding=\"utf-8-sig\",index=False)"
   ]
  },
  {
   "cell_type": "markdown",
   "id": "0e468753",
   "metadata": {},
   "source": [
    "#### 결측치 직접 처리하기...\n",
    "- test_df_null.csv : 결측치 직접 처리한 데이터\n",
    "- 환기온도만 결측치가 271개 정도 존재함\n",
    "\n",
    "\n",
    "- 연속된 시간에 존재하는 3월7일, 3월8일을 제외하고 나머지는 평균으로 보간하기\n",
    "- 3월 8일 11시 4분 ~ 3월 8일 11시 23분 앞뒤의 환기온도가 모두 30도 이기에 30도로 보간하기\n",
    "- 환기온도 데이터의 특성과 앞뒤 데이터를 적절하게 판단해서 보간한 것"
   ]
  },
  {
   "cell_type": "code",
   "execution_count": 27,
   "id": "bc350ef6",
   "metadata": {},
   "outputs": [],
   "source": [
    "test_df_nonull2 = pd.read_csv(\"test_df_null.csv\",encoding=\"cp949\")\n",
    "\n",
    "test_df_nonull2[\"시간\"] = test_df_nonull[\"시간\"]\n",
    "test_df_nonull2[\"년월일\"] = test_df_nonull[\"년월일\"]"
   ]
  },
  {
   "cell_type": "code",
   "execution_count": 28,
   "id": "645c3984",
   "metadata": {},
   "outputs": [],
   "source": [
    "def get_온도_결측치(data):\n",
    "    \n",
    "    측정목록 = [\"환기온도(천창 제어온도)\",\"난방온도(설정온도)\"]\n",
    "    결과리스트 = []\n",
    "\n",
    "    # 데이터프레임 copy하기\n",
    "    df = data.copy()\n",
    "    \n",
    "    for 항목 in 측정목록:\n",
    "        for idx,row in df[df[항목].isnull()].iterrows():\n",
    "            if df.loc[idx+1,항목] != np.nan:\n",
    "                if df.loc[idx-1,항목] != np.nan:\n",
    "                    df.loc[idx,항목] = ( df.loc[idx+1,항목]+df.loc[idx-1,항목] ) / 2\n",
    "    결과리스트.append(df)\n",
    "    \n",
    "    return pd.concat(결과리스트,axis=0,ignore_index = True)"
   ]
  },
  {
   "cell_type": "code",
   "execution_count": 29,
   "id": "3d6512e7",
   "metadata": {},
   "outputs": [],
   "source": [
    "smart_farm_nonull = get_온도_결측치(smart_farm_null)"
   ]
  },
  {
   "cell_type": "code",
   "execution_count": 30,
   "id": "8d61a38d",
   "metadata": {},
   "outputs": [
    {
     "name": "stdout",
     "output_type": "stream",
     "text": [
      "결측치 처리 이전 269\n",
      "결측치 처리 이후 231\n"
     ]
    }
   ],
   "source": [
    "print(\"결측치 처리 이전\",smart_farm_null.isnull().sum().sum())\n",
    "print(\"결측치 처리 이후\",smart_farm_nonull.isnull().sum().sum())"
   ]
  },
  {
   "cell_type": "code",
   "execution_count": 32,
   "id": "0d0bec60",
   "metadata": {},
   "outputs": [
    {
     "data": {
      "text/html": [
       "<div>\n",
       "<style scoped>\n",
       "    .dataframe tbody tr th:only-of-type {\n",
       "        vertical-align: middle;\n",
       "    }\n",
       "\n",
       "    .dataframe tbody tr th {\n",
       "        vertical-align: top;\n",
       "    }\n",
       "\n",
       "    .dataframe thead th {\n",
       "        text-align: right;\n",
       "    }\n",
       "</style>\n",
       "<table border=\"1\" class=\"dataframe\">\n",
       "  <thead>\n",
       "    <tr style=\"text-align: right;\">\n",
       "      <th></th>\n",
       "      <th>시간</th>\n",
       "      <th>년월일</th>\n",
       "      <th>년도</th>\n",
       "      <th>월</th>\n",
       "      <th>일</th>\n",
       "      <th>시</th>\n",
       "      <th>분</th>\n",
       "      <th>일사량(W/㎡)</th>\n",
       "      <th>외기온(℃)</th>\n",
       "      <th>외기습도(%)</th>\n",
       "      <th>...</th>\n",
       "      <th>차열스크린(수평)</th>\n",
       "      <th>에너지스크린(수평)</th>\n",
       "      <th>에너지스크린(수직)</th>\n",
       "      <th>배기팬</th>\n",
       "      <th>천창</th>\n",
       "      <th>유동팬</th>\n",
       "      <th>팬코일 B동</th>\n",
       "      <th>환기온도(천창 제어온도)</th>\n",
       "      <th>난방온도(설정온도)</th>\n",
       "      <th>열공급량(kWh)</th>\n",
       "    </tr>\n",
       "  </thead>\n",
       "  <tbody>\n",
       "    <tr>\n",
       "      <th>5282</th>\n",
       "      <td>2021-11-29 17:32:00</td>\n",
       "      <td>2021-11-29</td>\n",
       "      <td>2021</td>\n",
       "      <td>11</td>\n",
       "      <td>29</td>\n",
       "      <td>17</td>\n",
       "      <td>32</td>\n",
       "      <td>-2.7</td>\n",
       "      <td>13.4</td>\n",
       "      <td>44</td>\n",
       "      <td>...</td>\n",
       "      <td>100.0</td>\n",
       "      <td>0.0</td>\n",
       "      <td>0.0</td>\n",
       "      <td>0.0</td>\n",
       "      <td>0.0</td>\n",
       "      <td>1.0</td>\n",
       "      <td>0.0</td>\n",
       "      <td>27.0</td>\n",
       "      <td>18.4</td>\n",
       "      <td>0.0</td>\n",
       "    </tr>\n",
       "    <tr>\n",
       "      <th>5283</th>\n",
       "      <td>2021-11-29 17:34:00</td>\n",
       "      <td>2021-11-29</td>\n",
       "      <td>2021</td>\n",
       "      <td>11</td>\n",
       "      <td>29</td>\n",
       "      <td>17</td>\n",
       "      <td>34</td>\n",
       "      <td>-2.7</td>\n",
       "      <td>13.4</td>\n",
       "      <td>44</td>\n",
       "      <td>...</td>\n",
       "      <td>100.0</td>\n",
       "      <td>0.0</td>\n",
       "      <td>0.0</td>\n",
       "      <td>0.0</td>\n",
       "      <td>0.0</td>\n",
       "      <td>1.0</td>\n",
       "      <td>0.0</td>\n",
       "      <td>NaN</td>\n",
       "      <td>NaN</td>\n",
       "      <td>0.0</td>\n",
       "    </tr>\n",
       "    <tr>\n",
       "      <th>5284</th>\n",
       "      <td>2021-11-29 17:36:00</td>\n",
       "      <td>2021-11-29</td>\n",
       "      <td>2021</td>\n",
       "      <td>11</td>\n",
       "      <td>29</td>\n",
       "      <td>17</td>\n",
       "      <td>36</td>\n",
       "      <td>-2.7</td>\n",
       "      <td>13.4</td>\n",
       "      <td>45</td>\n",
       "      <td>...</td>\n",
       "      <td>100.0</td>\n",
       "      <td>0.0</td>\n",
       "      <td>0.0</td>\n",
       "      <td>0.0</td>\n",
       "      <td>0.0</td>\n",
       "      <td>1.0</td>\n",
       "      <td>0.0</td>\n",
       "      <td>27.0</td>\n",
       "      <td>18.2</td>\n",
       "      <td>0.0</td>\n",
       "    </tr>\n",
       "    <tr>\n",
       "      <th>5492</th>\n",
       "      <td>2021-11-29 21:04:00</td>\n",
       "      <td>2021-11-29</td>\n",
       "      <td>2021</td>\n",
       "      <td>11</td>\n",
       "      <td>29</td>\n",
       "      <td>21</td>\n",
       "      <td>4</td>\n",
       "      <td>-2.8</td>\n",
       "      <td>6.3</td>\n",
       "      <td>72</td>\n",
       "      <td>...</td>\n",
       "      <td>0.0</td>\n",
       "      <td>0.0</td>\n",
       "      <td>0.0</td>\n",
       "      <td>0.0</td>\n",
       "      <td>0.0</td>\n",
       "      <td>1.0</td>\n",
       "      <td>1.0</td>\n",
       "      <td>28.0</td>\n",
       "      <td>16.7</td>\n",
       "      <td>0.5</td>\n",
       "    </tr>\n",
       "    <tr>\n",
       "      <th>5493</th>\n",
       "      <td>2021-11-29 21:05:00</td>\n",
       "      <td>2021-11-29</td>\n",
       "      <td>2021</td>\n",
       "      <td>11</td>\n",
       "      <td>29</td>\n",
       "      <td>21</td>\n",
       "      <td>5</td>\n",
       "      <td>-2.8</td>\n",
       "      <td>6.3</td>\n",
       "      <td>72</td>\n",
       "      <td>...</td>\n",
       "      <td>0.0</td>\n",
       "      <td>0.0</td>\n",
       "      <td>0.0</td>\n",
       "      <td>0.0</td>\n",
       "      <td>0.0</td>\n",
       "      <td>1.0</td>\n",
       "      <td>1.0</td>\n",
       "      <td>NaN</td>\n",
       "      <td>NaN</td>\n",
       "      <td>1.5</td>\n",
       "    </tr>\n",
       "    <tr>\n",
       "      <th>5495</th>\n",
       "      <td>2021-11-29 21:07:00</td>\n",
       "      <td>2021-11-29</td>\n",
       "      <td>2021</td>\n",
       "      <td>11</td>\n",
       "      <td>29</td>\n",
       "      <td>21</td>\n",
       "      <td>7</td>\n",
       "      <td>-3.0</td>\n",
       "      <td>6.3</td>\n",
       "      <td>72</td>\n",
       "      <td>...</td>\n",
       "      <td>0.0</td>\n",
       "      <td>0.0</td>\n",
       "      <td>0.0</td>\n",
       "      <td>0.0</td>\n",
       "      <td>0.0</td>\n",
       "      <td>1.0</td>\n",
       "      <td>1.0</td>\n",
       "      <td>28.0</td>\n",
       "      <td>16.8</td>\n",
       "      <td>0.2</td>\n",
       "    </tr>\n",
       "  </tbody>\n",
       "</table>\n",
       "<p>6 rows × 25 columns</p>\n",
       "</div>"
      ],
      "text/plain": [
       "                      시간        년월일    년도   월   일   시   분  일사량(W/㎡)  외기온(℃)  \\\n",
       "5282 2021-11-29 17:32:00 2021-11-29  2021  11  29  17  32      -2.7    13.4   \n",
       "5283 2021-11-29 17:34:00 2021-11-29  2021  11  29  17  34      -2.7    13.4   \n",
       "5284 2021-11-29 17:36:00 2021-11-29  2021  11  29  17  36      -2.7    13.4   \n",
       "5492 2021-11-29 21:04:00 2021-11-29  2021  11  29  21   4      -2.8     6.3   \n",
       "5493 2021-11-29 21:05:00 2021-11-29  2021  11  29  21   5      -2.8     6.3   \n",
       "5495 2021-11-29 21:07:00 2021-11-29  2021  11  29  21   7      -3.0     6.3   \n",
       "\n",
       "      외기습도(%)  ...  차열스크린(수평)  에너지스크린(수평)  에너지스크린(수직)  배기팬   천창  유동팬  팬코일 B동  \\\n",
       "5282       44  ...      100.0         0.0         0.0  0.0  0.0  1.0     0.0   \n",
       "5283       44  ...      100.0         0.0         0.0  0.0  0.0  1.0     0.0   \n",
       "5284       45  ...      100.0         0.0         0.0  0.0  0.0  1.0     0.0   \n",
       "5492       72  ...        0.0         0.0         0.0  0.0  0.0  1.0     1.0   \n",
       "5493       72  ...        0.0         0.0         0.0  0.0  0.0  1.0     1.0   \n",
       "5495       72  ...        0.0         0.0         0.0  0.0  0.0  1.0     1.0   \n",
       "\n",
       "      환기온도(천창 제어온도)  난방온도(설정온도)  열공급량(kWh)  \n",
       "5282           27.0        18.4        0.0  \n",
       "5283            NaN         NaN        0.0  \n",
       "5284           27.0        18.2        0.0  \n",
       "5492           28.0        16.7        0.5  \n",
       "5493            NaN         NaN        1.5  \n",
       "5495           28.0        16.8        0.2  \n",
       "\n",
       "[6 rows x 25 columns]"
      ]
     },
     "execution_count": 32,
     "metadata": {},
     "output_type": "execute_result"
    }
   ],
   "source": [
    "# 결측치 처리 전\n",
    "smart_farm_null.iloc[[5282,5283,5284,5492,5493,5495],:]"
   ]
  },
  {
   "cell_type": "code",
   "execution_count": 33,
   "id": "e4d1de51",
   "metadata": {},
   "outputs": [
    {
     "data": {
      "text/html": [
       "<div>\n",
       "<style scoped>\n",
       "    .dataframe tbody tr th:only-of-type {\n",
       "        vertical-align: middle;\n",
       "    }\n",
       "\n",
       "    .dataframe tbody tr th {\n",
       "        vertical-align: top;\n",
       "    }\n",
       "\n",
       "    .dataframe thead th {\n",
       "        text-align: right;\n",
       "    }\n",
       "</style>\n",
       "<table border=\"1\" class=\"dataframe\">\n",
       "  <thead>\n",
       "    <tr style=\"text-align: right;\">\n",
       "      <th></th>\n",
       "      <th>시간</th>\n",
       "      <th>년월일</th>\n",
       "      <th>년도</th>\n",
       "      <th>월</th>\n",
       "      <th>일</th>\n",
       "      <th>시</th>\n",
       "      <th>분</th>\n",
       "      <th>일사량(W/㎡)</th>\n",
       "      <th>외기온(℃)</th>\n",
       "      <th>외기습도(%)</th>\n",
       "      <th>...</th>\n",
       "      <th>차열스크린(수평)</th>\n",
       "      <th>에너지스크린(수평)</th>\n",
       "      <th>에너지스크린(수직)</th>\n",
       "      <th>배기팬</th>\n",
       "      <th>천창</th>\n",
       "      <th>유동팬</th>\n",
       "      <th>팬코일 B동</th>\n",
       "      <th>환기온도(천창 제어온도)</th>\n",
       "      <th>난방온도(설정온도)</th>\n",
       "      <th>열공급량(kWh)</th>\n",
       "    </tr>\n",
       "  </thead>\n",
       "  <tbody>\n",
       "    <tr>\n",
       "      <th>5282</th>\n",
       "      <td>2021-11-29 17:32:00</td>\n",
       "      <td>2021-11-29</td>\n",
       "      <td>2021</td>\n",
       "      <td>11</td>\n",
       "      <td>29</td>\n",
       "      <td>17</td>\n",
       "      <td>32</td>\n",
       "      <td>-2.7</td>\n",
       "      <td>13.4</td>\n",
       "      <td>44</td>\n",
       "      <td>...</td>\n",
       "      <td>100.0</td>\n",
       "      <td>0.0</td>\n",
       "      <td>0.0</td>\n",
       "      <td>0.0</td>\n",
       "      <td>0.0</td>\n",
       "      <td>1.0</td>\n",
       "      <td>0.0</td>\n",
       "      <td>27.0</td>\n",
       "      <td>18.40</td>\n",
       "      <td>0.0</td>\n",
       "    </tr>\n",
       "    <tr>\n",
       "      <th>5283</th>\n",
       "      <td>2021-11-29 17:34:00</td>\n",
       "      <td>2021-11-29</td>\n",
       "      <td>2021</td>\n",
       "      <td>11</td>\n",
       "      <td>29</td>\n",
       "      <td>17</td>\n",
       "      <td>34</td>\n",
       "      <td>-2.7</td>\n",
       "      <td>13.4</td>\n",
       "      <td>44</td>\n",
       "      <td>...</td>\n",
       "      <td>100.0</td>\n",
       "      <td>0.0</td>\n",
       "      <td>0.0</td>\n",
       "      <td>0.0</td>\n",
       "      <td>0.0</td>\n",
       "      <td>1.0</td>\n",
       "      <td>0.0</td>\n",
       "      <td>27.0</td>\n",
       "      <td>18.30</td>\n",
       "      <td>0.0</td>\n",
       "    </tr>\n",
       "    <tr>\n",
       "      <th>5284</th>\n",
       "      <td>2021-11-29 17:36:00</td>\n",
       "      <td>2021-11-29</td>\n",
       "      <td>2021</td>\n",
       "      <td>11</td>\n",
       "      <td>29</td>\n",
       "      <td>17</td>\n",
       "      <td>36</td>\n",
       "      <td>-2.7</td>\n",
       "      <td>13.4</td>\n",
       "      <td>45</td>\n",
       "      <td>...</td>\n",
       "      <td>100.0</td>\n",
       "      <td>0.0</td>\n",
       "      <td>0.0</td>\n",
       "      <td>0.0</td>\n",
       "      <td>0.0</td>\n",
       "      <td>1.0</td>\n",
       "      <td>0.0</td>\n",
       "      <td>27.0</td>\n",
       "      <td>18.20</td>\n",
       "      <td>0.0</td>\n",
       "    </tr>\n",
       "    <tr>\n",
       "      <th>5492</th>\n",
       "      <td>2021-11-29 21:04:00</td>\n",
       "      <td>2021-11-29</td>\n",
       "      <td>2021</td>\n",
       "      <td>11</td>\n",
       "      <td>29</td>\n",
       "      <td>21</td>\n",
       "      <td>4</td>\n",
       "      <td>-2.8</td>\n",
       "      <td>6.3</td>\n",
       "      <td>72</td>\n",
       "      <td>...</td>\n",
       "      <td>0.0</td>\n",
       "      <td>0.0</td>\n",
       "      <td>0.0</td>\n",
       "      <td>0.0</td>\n",
       "      <td>0.0</td>\n",
       "      <td>1.0</td>\n",
       "      <td>1.0</td>\n",
       "      <td>28.0</td>\n",
       "      <td>16.70</td>\n",
       "      <td>0.5</td>\n",
       "    </tr>\n",
       "    <tr>\n",
       "      <th>5493</th>\n",
       "      <td>2021-11-29 21:05:00</td>\n",
       "      <td>2021-11-29</td>\n",
       "      <td>2021</td>\n",
       "      <td>11</td>\n",
       "      <td>29</td>\n",
       "      <td>21</td>\n",
       "      <td>5</td>\n",
       "      <td>-2.8</td>\n",
       "      <td>6.3</td>\n",
       "      <td>72</td>\n",
       "      <td>...</td>\n",
       "      <td>0.0</td>\n",
       "      <td>0.0</td>\n",
       "      <td>0.0</td>\n",
       "      <td>0.0</td>\n",
       "      <td>0.0</td>\n",
       "      <td>1.0</td>\n",
       "      <td>1.0</td>\n",
       "      <td>28.0</td>\n",
       "      <td>16.75</td>\n",
       "      <td>1.5</td>\n",
       "    </tr>\n",
       "    <tr>\n",
       "      <th>5495</th>\n",
       "      <td>2021-11-29 21:07:00</td>\n",
       "      <td>2021-11-29</td>\n",
       "      <td>2021</td>\n",
       "      <td>11</td>\n",
       "      <td>29</td>\n",
       "      <td>21</td>\n",
       "      <td>7</td>\n",
       "      <td>-3.0</td>\n",
       "      <td>6.3</td>\n",
       "      <td>72</td>\n",
       "      <td>...</td>\n",
       "      <td>0.0</td>\n",
       "      <td>0.0</td>\n",
       "      <td>0.0</td>\n",
       "      <td>0.0</td>\n",
       "      <td>0.0</td>\n",
       "      <td>1.0</td>\n",
       "      <td>1.0</td>\n",
       "      <td>28.0</td>\n",
       "      <td>16.80</td>\n",
       "      <td>0.2</td>\n",
       "    </tr>\n",
       "  </tbody>\n",
       "</table>\n",
       "<p>6 rows × 25 columns</p>\n",
       "</div>"
      ],
      "text/plain": [
       "                      시간        년월일    년도   월   일   시   분  일사량(W/㎡)  외기온(℃)  \\\n",
       "5282 2021-11-29 17:32:00 2021-11-29  2021  11  29  17  32      -2.7    13.4   \n",
       "5283 2021-11-29 17:34:00 2021-11-29  2021  11  29  17  34      -2.7    13.4   \n",
       "5284 2021-11-29 17:36:00 2021-11-29  2021  11  29  17  36      -2.7    13.4   \n",
       "5492 2021-11-29 21:04:00 2021-11-29  2021  11  29  21   4      -2.8     6.3   \n",
       "5493 2021-11-29 21:05:00 2021-11-29  2021  11  29  21   5      -2.8     6.3   \n",
       "5495 2021-11-29 21:07:00 2021-11-29  2021  11  29  21   7      -3.0     6.3   \n",
       "\n",
       "      외기습도(%)  ...  차열스크린(수평)  에너지스크린(수평)  에너지스크린(수직)  배기팬   천창  유동팬  팬코일 B동  \\\n",
       "5282       44  ...      100.0         0.0         0.0  0.0  0.0  1.0     0.0   \n",
       "5283       44  ...      100.0         0.0         0.0  0.0  0.0  1.0     0.0   \n",
       "5284       45  ...      100.0         0.0         0.0  0.0  0.0  1.0     0.0   \n",
       "5492       72  ...        0.0         0.0         0.0  0.0  0.0  1.0     1.0   \n",
       "5493       72  ...        0.0         0.0         0.0  0.0  0.0  1.0     1.0   \n",
       "5495       72  ...        0.0         0.0         0.0  0.0  0.0  1.0     1.0   \n",
       "\n",
       "      환기온도(천창 제어온도)  난방온도(설정온도)  열공급량(kWh)  \n",
       "5282           27.0       18.40        0.0  \n",
       "5283           27.0       18.30        0.0  \n",
       "5284           27.0       18.20        0.0  \n",
       "5492           28.0       16.70        0.5  \n",
       "5493           28.0       16.75        1.5  \n",
       "5495           28.0       16.80        0.2  \n",
       "\n",
       "[6 rows x 25 columns]"
      ]
     },
     "execution_count": 33,
     "metadata": {},
     "output_type": "execute_result"
    }
   ],
   "source": [
    "# 결측치 처리 후\n",
    "smart_farm_nonull.iloc[[5282,5283,5284,5492,5493,5495],:]"
   ]
  },
  {
   "cell_type": "code",
   "execution_count": 34,
   "id": "806bddba",
   "metadata": {},
   "outputs": [],
   "source": [
    "smart_farm_nonull.to_csv(\"train_df.csv\", encoding=\"utf-8-sig\", index=False)"
   ]
  },
  {
   "cell_type": "markdown",
   "id": "cbaeba32",
   "metadata": {},
   "source": [
    "#### 결측치 직접 처리하기...\n",
    "- train_df.csv : 결측치 직접 처리할 데이터\n",
    "\n",
    "- train_df_null.csv : 결측치 직접 처리완료한 데이터"
   ]
  },
  {
   "cell_type": "code",
   "execution_count": 35,
   "id": "20682fc2",
   "metadata": {},
   "outputs": [],
   "source": [
    "train_df_null = pd.read_csv(\"train_df_null.csv\",encoding=\"cp949\")"
   ]
  },
  {
   "cell_type": "code",
   "execution_count": 36,
   "id": "24e204dd",
   "metadata": {},
   "outputs": [
    {
     "data": {
      "text/plain": [
       "시간                0\n",
       "년월일               0\n",
       "년도                0\n",
       "월                 0\n",
       "일                 0\n",
       "시                 0\n",
       "분                 0\n",
       "일사량(W/㎡)          0\n",
       "외기온(℃)            0\n",
       "외기습도(%)           0\n",
       "풍속(m/s)           0\n",
       "풍향(º)             0\n",
       "내부 온도             0\n",
       "내부 습도             0\n",
       "차광스크린(수평)         0\n",
       "차열스크린(수평)         0\n",
       "에너지스크린(수평)        0\n",
       "에너지스크린(수직)        0\n",
       "배기팬               0\n",
       "천창                0\n",
       "유동팬               0\n",
       "팬코일 B동            0\n",
       "환기온도(천창 제어온도)    37\n",
       "난방온도(설정온도)       65\n",
       "열공급량(kWh)         0\n",
       "dtype: int64"
      ]
     },
     "execution_count": 36,
     "metadata": {},
     "output_type": "execute_result"
    }
   ],
   "source": [
    "train_df_null.isnull().sum()"
   ]
  },
  {
   "cell_type": "markdown",
   "id": "6fc5eced",
   "metadata": {},
   "source": [
    "#### 난방온도 결측치 존재하는 것 다 제외\n",
    "- 난방온도는 적절한 보간이 어렵고, 충분히 개수가 되지 않기에 제거"
   ]
  },
  {
   "cell_type": "code",
   "execution_count": 37,
   "id": "97b82feb",
   "metadata": {},
   "outputs": [],
   "source": [
    "train_df_null = train_df_null[train_df_null[\"난방온도(설정온도)\"].notnull()]"
   ]
  },
  {
   "cell_type": "code",
   "execution_count": 38,
   "id": "34281916",
   "metadata": {
    "scrolled": true
   },
   "outputs": [
    {
     "data": {
      "text/plain": [
       "시간               0\n",
       "년월일              0\n",
       "년도               0\n",
       "월                0\n",
       "일                0\n",
       "시                0\n",
       "분                0\n",
       "일사량(W/㎡)         0\n",
       "외기온(℃)           0\n",
       "외기습도(%)          0\n",
       "풍속(m/s)          0\n",
       "풍향(º)            0\n",
       "내부 온도            0\n",
       "내부 습도            0\n",
       "차광스크린(수평)        0\n",
       "차열스크린(수평)        0\n",
       "에너지스크린(수평)       0\n",
       "에너지스크린(수직)       0\n",
       "배기팬              0\n",
       "천창               0\n",
       "유동팬              0\n",
       "팬코일 B동           0\n",
       "환기온도(천창 제어온도)    0\n",
       "난방온도(설정온도)       0\n",
       "열공급량(kWh)        0\n",
       "dtype: int64"
      ]
     },
     "execution_count": 38,
     "metadata": {},
     "output_type": "execute_result"
    }
   ],
   "source": [
    "train_df_null.isnull().sum()"
   ]
  },
  {
   "cell_type": "code",
   "execution_count": 39,
   "id": "eaf8a097",
   "metadata": {
    "scrolled": true
   },
   "outputs": [
    {
     "data": {
      "text/plain": [
       "시간                   0\n",
       "년월일                  0\n",
       "년도                   0\n",
       "월                    0\n",
       "일                    0\n",
       "시                    0\n",
       "분                    0\n",
       "일사량(W/㎡)             0\n",
       "외기온(℃)               0\n",
       "외기습도(%)              0\n",
       "풍속(m/s)              0\n",
       "풍향(º)                0\n",
       "내부 온도                0\n",
       "내부 습도                0\n",
       "차광스크린(수평)            0\n",
       "차열스크린(수평)            0\n",
       "에너지스크린(수평)           0\n",
       "에너지스크린(수직)           0\n",
       "배기팬                  0\n",
       "천창                   0\n",
       "유동팬                  0\n",
       "팬코일 B동               0\n",
       "환기온도(천창 제어온도)      241\n",
       "난방온도(설정온도)           0\n",
       "열공급량(kWh)        18720\n",
       "dtype: int64"
      ]
     },
     "execution_count": 39,
     "metadata": {},
     "output_type": "execute_result"
    }
   ],
   "source": [
    "test_df_nonull2.isnull().sum()"
   ]
  },
  {
   "cell_type": "code",
   "execution_count": 40,
   "id": "30fd2397",
   "metadata": {},
   "outputs": [],
   "source": [
    "train_test_df = pd.concat([train_df_null,test_df_nonull2],axis=0,ignore_index=True)"
   ]
  },
  {
   "cell_type": "markdown",
   "id": "b574f04e",
   "metadata": {},
   "source": [
    "#### 분류대체 방법\n",
    "- 예측용 데이터에 있는 환기온도 241개 데이터 결측치 해소\n",
    "- 범주형 값으로 매핑"
   ]
  },
  {
   "cell_type": "code",
   "execution_count": 41,
   "id": "e815be1d",
   "metadata": {},
   "outputs": [],
   "source": [
    "train_test_df_copy = train_test_df.copy()"
   ]
  },
  {
   "cell_type": "code",
   "execution_count": 42,
   "id": "f5688c04",
   "metadata": {
    "scrolled": true
   },
   "outputs": [
    {
     "data": {
      "text/plain": [
       "시간                   0\n",
       "년월일                  0\n",
       "년도                   0\n",
       "월                    0\n",
       "일                    0\n",
       "시                    0\n",
       "분                    0\n",
       "일사량(W/㎡)             0\n",
       "외기온(℃)               0\n",
       "외기습도(%)              0\n",
       "풍속(m/s)              0\n",
       "풍향(º)                0\n",
       "내부 온도                0\n",
       "내부 습도                0\n",
       "차광스크린(수평)            0\n",
       "차열스크린(수평)            0\n",
       "에너지스크린(수평)           0\n",
       "에너지스크린(수직)           0\n",
       "배기팬                  0\n",
       "천창                   0\n",
       "유동팬                  0\n",
       "팬코일 B동               0\n",
       "환기온도(천창 제어온도)      241\n",
       "난방온도(설정온도)           0\n",
       "열공급량(kWh)        18720\n",
       "dtype: int64"
      ]
     },
     "execution_count": 42,
     "metadata": {},
     "output_type": "execute_result"
    }
   ],
   "source": [
    "train_test_df_copy.isnull().sum()"
   ]
  },
  {
   "cell_type": "code",
   "execution_count": 43,
   "id": "b1f4323a",
   "metadata": {},
   "outputs": [],
   "source": [
    "def to_categorical(x):\n",
    "    if 27 <= x < 27.5:\n",
    "        return 27\n",
    "    elif 27.5 <= x < 29:\n",
    "        return 28\n",
    "    elif 29 <= x:\n",
    "        return 30  "
   ]
  },
  {
   "cell_type": "code",
   "execution_count": 44,
   "id": "f74a43db",
   "metadata": {},
   "outputs": [],
   "source": [
    "# 27, 28, 30으로 매핑하기\n",
    "train_test_df_copy[\"환기온도(천창 제어온도)\"] = train_test_df_copy[\"환기온도(천창 제어온도)\"].apply(lambda x : to_categorical(x))"
   ]
  },
  {
   "cell_type": "markdown",
   "id": "0fa453d9",
   "metadata": {},
   "source": [
    "#### 환기온도 결측\n",
    "- 회귀대체로 처리하기"
   ]
  },
  {
   "cell_type": "code",
   "execution_count": 45,
   "id": "5e401a00",
   "metadata": {},
   "outputs": [],
   "source": [
    "train_test_df_copy_all_nonull = train_test_df_copy.dropna(axis=0,how=\"any\")\n",
    "\n",
    "vent_temp = train_test_df_copy[train_test_df_copy[\"환기온도(천창 제어온도)\"].isnull()]\n",
    "# vent_temp(환기 온도) : 환기온도(천창 제어온도)만 null인 데이터"
   ]
  },
  {
   "cell_type": "code",
   "execution_count": 46,
   "id": "37572c51",
   "metadata": {},
   "outputs": [],
   "source": [
    "col_lst = ['일사량(W/㎡)', '외기온(℃)', '외기습도(%)',\n",
    "       '풍속(m/s)', '풍향(º)', '내부 온도', '내부 습도', '차광스크린(수평)', '차열스크린(수평)',\n",
    "       '에너지스크린(수평)', '에너지스크린(수직)', '배기팬', '천창', '유동팬', '팬코일 B동',\n",
    "                   '난방온도(설정온도)',\"열공급량(kWh)\"]\n",
    "\n",
    "X = train_test_df_copy_all_nonull[col_lst]\n",
    "\n",
    "y = train_test_df_copy_all_nonull[\"환기온도(천창 제어온도)\"]"
   ]
  },
  {
   "cell_type": "code",
   "execution_count": 47,
   "id": "f07543b5",
   "metadata": {},
   "outputs": [],
   "source": [
    "import lightgbm as lgbm\n",
    "clf = lgbm.LGBMClassifier()\n",
    "clf.fit(X=X,y=y)\n",
    "predicted = clf.predict(vent_temp[col_lst])"
   ]
  },
  {
   "cell_type": "code",
   "execution_count": 48,
   "id": "edec6a7c",
   "metadata": {},
   "outputs": [
    {
     "data": {
      "text/plain": [
       "array([30., 30., 30., 30., 30., 30., 30., 30., 30., 30., 30., 30., 30.,\n",
       "       30., 30., 30., 30., 30., 30., 30., 27., 30., 30., 30., 30., 30.,\n",
       "       30., 30., 30., 30., 30., 30., 30., 30., 30., 30., 30., 30., 30.,\n",
       "       30., 30., 30., 30., 30., 30., 30., 30., 27., 27., 27., 27., 30.,\n",
       "       27., 27., 27., 27., 27., 27., 27., 27., 27., 27., 27., 27., 27.,\n",
       "       27., 27., 27., 27., 27., 27., 27., 27., 27., 27., 27., 27., 27.,\n",
       "       27., 27., 27., 27., 27., 27., 27., 27., 27., 27., 27., 27., 27.,\n",
       "       27., 27., 27., 27., 27., 27., 27., 27., 27., 27., 27., 27., 27.,\n",
       "       27., 27., 27., 27., 27., 27., 27., 27., 27., 27., 27., 27., 27.,\n",
       "       27., 27., 27., 27., 27., 27., 27., 27., 27., 27., 27., 27., 27.,\n",
       "       27., 27., 27., 27., 27., 27., 27., 27., 27., 27., 27., 27., 27.,\n",
       "       27., 27., 27., 27., 27., 27., 27., 27., 27., 27., 27., 27., 27.,\n",
       "       27., 27., 27., 27., 27., 27., 27., 27., 27., 27., 27., 27., 27.,\n",
       "       27., 27., 27., 27., 27., 27., 27., 27., 27., 27., 27., 27., 27.,\n",
       "       27., 27., 27., 27., 27., 27., 27., 27., 27., 27., 27., 27., 27.,\n",
       "       27., 27., 27., 27., 27., 27., 27., 27., 27., 27., 27., 27., 27.,\n",
       "       27., 27., 27., 27., 27., 28., 27., 27., 27., 27., 27., 27., 27.,\n",
       "       27., 27., 27., 27., 27., 27., 27., 27., 27., 27., 27., 27., 27.,\n",
       "       27., 27., 27., 27., 27., 27., 27.])"
      ]
     },
     "execution_count": 48,
     "metadata": {},
     "output_type": "execute_result"
    }
   ],
   "source": [
    "predicted"
   ]
  },
  {
   "cell_type": "code",
   "execution_count": 49,
   "id": "9b0bcda7",
   "metadata": {},
   "outputs": [
    {
     "name": "stderr",
     "output_type": "stream",
     "text": [
      "<ipython-input-49-cc3e098fc56e>:1: SettingWithCopyWarning: \n",
      "A value is trying to be set on a copy of a slice from a DataFrame.\n",
      "Try using .loc[row_indexer,col_indexer] = value instead\n",
      "\n",
      "See the caveats in the documentation: https://pandas.pydata.org/pandas-docs/stable/user_guide/indexing.html#returning-a-view-versus-a-copy\n",
      "  vent_temp['환기온도(천창 제어온도)'] = predicted\n"
     ]
    }
   ],
   "source": [
    "vent_temp['환기온도(천창 제어온도)'] = predicted"
   ]
  },
  {
   "cell_type": "code",
   "execution_count": 50,
   "id": "3ae29cc7",
   "metadata": {},
   "outputs": [],
   "source": [
    "# 예측한 값들 채우기\n",
    "train_test_df_copy.loc[vent_temp.index,\"환기온도(천창 제어온도)\"] = train_test_df_copy.loc[vent_temp.index,\n",
    "                                                   \"환기온도(천창 제어온도)\"].fillna(vent_temp[\"환기온도(천창 제어온도)\"])"
   ]
  },
  {
   "cell_type": "code",
   "execution_count": 51,
   "id": "9144ce61",
   "metadata": {},
   "outputs": [],
   "source": [
    "train_test_df_copy.iloc[:130886,:].to_csv(\"smart_farm_train.csv\",encoding=\"utf-8-sig\",index=False)"
   ]
  },
  {
   "cell_type": "code",
   "execution_count": 52,
   "id": "305f4cd0",
   "metadata": {},
   "outputs": [],
   "source": [
    "train_test_df_copy.iloc[130886:,:].reset_index(drop=True).to_csv(\"smart_farm_test.csv\",encoding=\"utf-8-sig\",index=False)"
   ]
  },
  {
   "cell_type": "markdown",
   "id": "be801875",
   "metadata": {},
   "source": [
    "------------------------------------------------------------ 구분선 ---------------------------------------------------------------------"
   ]
  }
 ],
 "metadata": {
  "kernelspec": {
   "display_name": "Python 3",
   "language": "python",
   "name": "python3"
  },
  "language_info": {
   "codemirror_mode": {
    "name": "ipython",
    "version": 3
   },
   "file_extension": ".py",
   "mimetype": "text/x-python",
   "name": "python",
   "nbconvert_exporter": "python",
   "pygments_lexer": "ipython3",
   "version": "3.8.8"
  }
 },
 "nbformat": 4,
 "nbformat_minor": 5
}
