{
 "cells": [
  {
   "cell_type": "code",
   "execution_count": 1,
   "metadata": {},
   "outputs": [],
   "source": [
    "import pandas as pd\n",
    "import numpy as np\n",
    "from datetime import datetime\n",
    "import matplotlib.pyplot as plt\n",
    "from sklearn import metrics # for the evaluation\n",
    "from sklearn.preprocessing import MinMaxScaler, StandardScaler\n",
    "import tensorflow as tf\n",
    "pd.set_option('display.max_columns', None)\n",
    "pd.set_option('display.max_rows', None)\n",
    "import math\n",
    "from keras.models import Sequential\n",
    "from keras.layers import LSTM, Dense, Dropout\n",
    "\n",
    "import matplotlib.pyplot as plt\n",
    "\n",
    "###### predict date range ######\n",
    "# pd.date_range(start=\"2021-12-26\",end=\"2022-01-01\")\n",
    "# pd.date_range(start=\"2022-01-23\",end=\"2022-01-29\")"
   ]
  },
  {
   "cell_type": "code",
   "execution_count": 2,
   "metadata": {},
   "outputs": [],
   "source": [
    "def custom_ts_multi_data_prep(dataset, target, start, end, window, horizon):\n",
    "  X = []\n",
    "  y = []\n",
    "  start = start + window\n",
    "  if end is None:\n",
    "    end = len(dataset) - horizon\n",
    "  for i in range(start, end):\n",
    "    indices = range(i-window, i)\n",
    "    X.append(dataset[indices])\n",
    "    indicey = range(i+1, i+1+horizon)\n",
    "    y.append(target[indicey])\n",
    "  return np.array(X), np.array(y)"
   ]
  },
  {
   "cell_type": "code",
   "execution_count": 3,
   "metadata": {},
   "outputs": [],
   "source": [
    "f1 = pd.concat([pd.read_csv('../Data/ground_temp_train.csv'), pd.read_csv('../Data/ground_temp_test.csv')])\n",
    "f2 = pd.concat([pd.read_csv('../Data/sunrise_sunset_train.csv'), pd.read_csv('../Data/sunrise_sunset_test.csv')])\n",
    "\n",
    "f1['년도'] = pd.to_datetime(f1['일시']).apply(lambda x: x.year)\n",
    "f1['월'] = pd.to_datetime(f1['일시']).apply(lambda x: x.month)\n",
    "f1['일'] = pd.to_datetime(f1['일시']).apply(lambda x: x.day)\n",
    "f1['시'] = pd.to_datetime(f1['일시']).apply(lambda x: x.hour)\n",
    "\n",
    "f1.drop(columns=['일시'],inplace=True)\n",
    "\n",
    "f2['Unnamed: 0'] = f2['Unnamed: 0'].apply(lambda x: datetime.strptime(str(x), '%Y%m%d'))\n",
    "f2['년도'] = pd.to_datetime(f2['Unnamed: 0']).apply(lambda x: x.year)\n",
    "f2['월'] = pd.to_datetime(f2['Unnamed: 0']).apply(lambda x: x.month)\n",
    "f2['일'] = pd.to_datetime(f2['Unnamed: 0']).apply(lambda x: x.day)\n",
    "\n",
    "f2.drop(columns=['Unnamed: 0'],inplace=True)"
   ]
  },
  {
   "cell_type": "code",
   "execution_count": 4,
   "metadata": {},
   "outputs": [
    {
     "data": {
      "text/plain": [
       "<AxesSubplot:xlabel='년월일'>"
      ]
     },
     "execution_count": 4,
     "metadata": {},
     "output_type": "execute_result"
    },
    {
     "name": "stderr",
     "output_type": "stream",
     "text": [
      "/Users/hongjiwon/miniforge3/envs/tf/lib/python3.8/site-packages/IPython/core/pylabtools.py:151: UserWarning: Glyph 45380 (\\N{HANGUL SYLLABLE NYEON}) missing from current font.\n",
      "  fig.canvas.print_figure(bytes_io, **kw)\n",
      "/Users/hongjiwon/miniforge3/envs/tf/lib/python3.8/site-packages/IPython/core/pylabtools.py:151: UserWarning: Glyph 50900 (\\N{HANGUL SYLLABLE WEOL}) missing from current font.\n",
      "  fig.canvas.print_figure(bytes_io, **kw)\n",
      "/Users/hongjiwon/miniforge3/envs/tf/lib/python3.8/site-packages/IPython/core/pylabtools.py:151: UserWarning: Glyph 51068 (\\N{HANGUL SYLLABLE IL}) missing from current font.\n",
      "  fig.canvas.print_figure(bytes_io, **kw)\n"
     ]
    },
    {
     "data": {
      "image/png": "[encoded data removed]",
      "text/plain": [
       "<Figure size 432x288 with 1 Axes>"
      ]
     },
     "metadata": {
      "needs_background": "light"
     },
     "output_type": "display_data"
    }
   ],
   "source": [
    "test_idx = 129448\n",
    "valid_idx = 89936\n",
    "\n",
    "df = pd.read_csv('../Data/smart_farm_final.csv')\n",
    "df['열공급량(kWh'] = df['열공급량(kWh)'].fillna(0)\n",
    "# df['열공급량(kWh)'] = df['열공급량(kWh)'] * 1000\n",
    "\n",
    "df.iloc[:test_idx].groupby('년월일')['열공급량(kWh)'].sum().plot()"
   ]
  },
  {
   "cell_type": "code",
   "execution_count": 5,
   "metadata": {},
   "outputs": [
    {
     "name": "stdout",
     "output_type": "stream",
     "text": [
      "total data:  (148168, 54)\n",
      "train data:  (129448, 54)\n",
      "test data:  (18720, 54)\n"
     ]
    }
   ],
   "source": [
    "\n",
    "# f1 merge\n",
    "df = pd.merge(df,f1, on=['년도','월','일','시'], how='left')\n",
    "# f2 merge\n",
    "df = pd.merge(df,f2, on=['년도','월','일'], how='left')\n",
    "\n",
    "df.set_index('시간',inplace=True)\n",
    "df.drop(columns=['년월일', '년도', '월', '일', '시', '분'],inplace=True)\n",
    "print(\"total data: \",df.shape)\n",
    "\n",
    "print(\"train data: \",df.iloc[:test_idx].shape)\n",
    "print(\"test data: \",df.iloc[test_idx:].shape)"
   ]
  },
  {
   "cell_type": "code",
   "execution_count": 6,
   "metadata": {},
   "outputs": [
    {
     "name": "stdout",
     "output_type": "stream",
     "text": [
      "dummy x data shape: (148168, 39)\n"
     ]
    }
   ],
   "source": [
    "dummy_lst = ['차광스크린_광도조절','차광스크린_개방조절', '차열스크린_온도조절', '차열스크린_광도조절', '차열스크린_개방조절', '시간범주', '일몰전후', '일출일몰', '오존등급', '아황산가스등급', '이산화질소등급', 'PM10등급', 'PM25등급', '배기팬',\n",
    "             '유동팬','팬코일 B동', '환기온도(천창 제어온도)', '차광스크린_개방']\n",
    "\n",
    "X_dummy = pd.get_dummies(df[dummy_lst])\n",
    "print(\"dummy x data shape:\",X_dummy.shape)"
   ]
  },
  {
   "cell_type": "code",
   "execution_count": 7,
   "metadata": {},
   "outputs": [
    {
     "name": "stdout",
     "output_type": "stream",
     "text": [
      "train x data shape: (129448, 35)\n",
      "test x data shape: (18751, 35)\n"
     ]
    }
   ],
   "source": [
    "dummy_lst.append('열공급량(kWh)')\n",
    "\n",
    "X_scaler = MinMaxScaler()\n",
    "Y_scaler = MinMaxScaler()\n",
    "\n",
    "X_train_data = X_scaler.fit_transform(df.iloc[:test_idx,~df.columns.isin(dummy_lst)]) \n",
    "Y_train_data = Y_scaler.fit_transform(df.iloc[:test_idx][['열공급량(kWh)']])\n",
    "print(\"train x data shape:\",X_train_data.shape)\n",
    "\n",
    "X_test_data = X_scaler.transform(df.iloc[test_idx-31:,~df.columns.isin(dummy_lst)])\n",
    "Y_test_data = Y_scaler.transform(df.iloc[test_idx-31:][['열공급량(kWh)']])\n",
    "print(\"test x data shape:\",X_test_data.shape)\n",
    "\n",
    "# X_data = df.iloc[:,~df.columns.isin(dummy_lst)]\n",
    "# X_train_data = np.log1p(np.array(X_data.iloc[:test_idx,~X_data.columns.isin(['열공급량(kWh'])]))\n",
    "# Y_train_data = np.log1p(np.array(X_data.iloc[:test_idx][['열공급량(kWh']]))\n",
    "# X_test_data = np.log1p(np.array(X_data.iloc[test_idx-31:,~X_data.columns.isin(['열공급량(kWh'])]))\n",
    "# Y_test_data = np.log1p(np.array(X_data.iloc[test_idx-31:][['열공급량(kWh']]))\n"
   ]
  },
  {
   "cell_type": "code",
   "execution_count": 8,
   "metadata": {},
   "outputs": [
    {
     "name": "stdout",
     "output_type": "stream",
     "text": [
      "dummy train x data shape: (129448, 39)\n",
      "train x data shape: (129448, 74)\n",
      "dummy test x data shape: (18751, 39)\n",
      "test x data shape: (18751, 74)\n"
     ]
    }
   ],
   "source": [
    "X_dummy_train = np.array(X_dummy.iloc[:test_idx])\n",
    "print(\"dummy train x data shape:\",X_dummy_train.shape)\n",
    "X_train_data = np.concatenate((X_train_data, X_dummy_train),axis=1)\n",
    "print(\"train x data shape:\",X_train_data.shape)\n",
    "\n",
    "X_dummy_test = np.array(X_dummy.iloc[test_idx-31:])\n",
    "print(\"dummy test x data shape:\",X_dummy_test.shape)\n",
    "X_test_data = np.concatenate((X_test_data, X_dummy_test),axis=1)\n",
    "print(\"test x data shape:\",X_test_data.shape)"
   ]
  },
  {
   "cell_type": "code",
   "execution_count": 9,
   "metadata": {},
   "outputs": [
    {
     "name": "stdout",
     "output_type": "stream",
     "text": [
      "before train x data shape: (129448, 74)\n",
      "before train y data shape: (129448, 1)\n"
     ]
    }
   ],
   "source": [
    "print(\"before train x data shape:\",X_train_data.shape)\n",
    "print(\"before train y data shape:\",Y_train_data.shape)"
   ]
  },
  {
   "cell_type": "code",
   "execution_count": 10,
   "metadata": {},
   "outputs": [
    {
     "name": "stdout",
     "output_type": "stream",
     "text": [
      "before test x data shape: (18751, 74)\n",
      "before test y data shape: (18751, 1)\n"
     ]
    }
   ],
   "source": [
    "print(\"before test x data shape:\",X_test_data.shape)\n",
    "print(\"before test y data shape:\",Y_test_data.shape)"
   ]
  },
  {
   "cell_type": "code",
   "execution_count": 11,
   "metadata": {},
   "outputs": [],
   "source": [
    "# As we are doing multiple-step forecasting, let’s allow the model to see past 48 hours of data and forecast the 10 hrs after data\n",
    "# hist_window = 48 / horizon = 10\n",
    "\n",
    "# row : min -> 분단위 예측~\n",
    "hist_window = 30\n",
    "horizon = 1\n",
    "x_train, y_train = custom_ts_multi_data_prep(X_train_data, Y_train_data, 0, valid_idx, hist_window, horizon)\n",
    "x_vali, y_vali = custom_ts_multi_data_prep(X_train_data, Y_train_data, valid_idx, None, hist_window, horizon)\n",
    "x_test, y_test = custom_ts_multi_data_prep(X_test_data, Y_test_data, 0, None, hist_window, horizon)"
   ]
  },
  {
   "cell_type": "code",
   "execution_count": 12,
   "metadata": {},
   "outputs": [
    {
     "name": "stdout",
     "output_type": "stream",
     "text": [
      "transformed train x data shape: (89906, 30, 74)\n",
      "transformed train y data shape: (89906, 1, 1)\n"
     ]
    }
   ],
   "source": [
    "print(\"transformed train x data shape:\",x_train.shape) # (data length, hist_window, n_features)\n",
    "print(\"transformed train y data shape:\",y_train.shape) # (data length, horizon, n_features)"
   ]
  },
  {
   "cell_type": "code",
   "execution_count": 13,
   "metadata": {},
   "outputs": [
    {
     "name": "stdout",
     "output_type": "stream",
     "text": [
      "transformed validation x data shape: (39481, 30, 74)\n",
      "transformed validation y data shape: (39481, 1, 1)\n"
     ]
    }
   ],
   "source": [
    "print(\"transformed validation x data shape:\",x_vali.shape) # (data length, hist_window, n_features)\n",
    "print(\"transformed validation y data shape:\",y_vali.shape) # (data length, horizon, n_features)"
   ]
  },
  {
   "cell_type": "code",
   "execution_count": 14,
   "metadata": {},
   "outputs": [
    {
     "name": "stdout",
     "output_type": "stream",
     "text": [
      "transformed test x data shape: (18720, 30, 74)\n"
     ]
    }
   ],
   "source": [
    "print(\"transformed test x data shape:\",x_test.shape) # (data length, hist_window, n_features)"
   ]
  },
  {
   "cell_type": "code",
   "execution_count": 15,
   "metadata": {},
   "outputs": [],
   "source": [
    "# batch_size = 64\n",
    "# buffer_size = 150\n",
    "# train_data = tf.data.Dataset.from_tensor_slices((x_train, y_train))\n",
    "# train_data = train_data.cache().batch(batch_size)\n",
    "# val_data = tf.data.Dataset.from_tensor_slices((x_vali, y_vali))\n",
    "# val_data = val_data.batch(batch_size)"
   ]
  },
  {
   "cell_type": "code",
   "execution_count": 24,
   "metadata": {},
   "outputs": [
    {
     "name": "stdout",
     "output_type": "stream",
     "text": [
      "Model: \"sequential_2\"\n",
      "_________________________________________________________________\n",
      " Layer (type)                Output Shape              Param #   \n",
      "=================================================================\n",
      " lstm_4 (LSTM)               (None, 30, 200)           220000    \n",
      "                                                                 \n",
      " lstm_5 (LSTM)               (None, 200)               320800    \n",
      "                                                                 \n",
      " dense_5 (Dense)             (None, 128)               25728     \n",
      "                                                                 \n",
      " dropout_3 (Dropout)         (None, 128)               0         \n",
      "                                                                 \n",
      " dense_6 (Dense)             (None, 1)                 129       \n",
      "                                                                 \n",
      "=================================================================\n",
      "Total params: 566,657\n",
      "Trainable params: 566,657\n",
      "Non-trainable params: 0\n",
      "_________________________________________________________________\n"
     ]
    }
   ],
   "source": [
    "lstm_model = tf.keras.models.Sequential([\n",
    "    LSTM(200, return_sequences=True, input_shape=x_train.shape[-2:]),\n",
    "    LSTM(200),\n",
    "    Dense(128, activation='relu'),\n",
    "    Dropout(0.3),\n",
    "    Dense(units=horizon),\n",
    "])\n",
    "lstm_model.compile(optimizer=tf.keras.optimizers.RMSprop(learning_rate=0.005), loss=tf.keras.metrics.mean_squared_error, metrics=[tf.keras.metrics.RootMeanSquaredError(name='rmse')])\n",
    "lstm_model.summary() "
   ]
  },
  {
   "cell_type": "code",
   "execution_count": 25,
   "metadata": {},
   "outputs": [
    {
     "name": "stdout",
     "output_type": "stream",
     "text": [
      "Epoch 1/100\n",
      "50/50 [==============================] - 43s 837ms/step - loss: 2.0499 - rmse: 1.4317 - val_loss: 0.0237 - val_rmse: 0.1540\n",
      "Epoch 2/100\n",
      "50/50 [==============================] - 40s 797ms/step - loss: 0.0156 - rmse: 0.1251 - val_loss: 0.0102 - val_rmse: 0.1012\n",
      "Epoch 3/100\n",
      "50/50 [==============================] - 40s 794ms/step - loss: 0.0105 - rmse: 0.1024 - val_loss: 0.0103 - val_rmse: 0.1013\n",
      "Epoch 4/100\n",
      "50/50 [==============================] - 39s 791ms/step - loss: 0.0105 - rmse: 0.1023 - val_loss: 0.0103 - val_rmse: 0.1013\n",
      "Epoch 5/100\n",
      "50/50 [==============================] - 39s 790ms/step - loss: 0.0105 - rmse: 0.1023 - val_loss: 0.0103 - val_rmse: 0.1013\n",
      "Epoch 6/100\n",
      "50/50 [==============================] - 40s 792ms/step - loss: 0.0105 - rmse: 0.1023 - val_loss: 0.0103 - val_rmse: 0.1013\n",
      "Epoch 7/100\n",
      "50/50 [==============================] - 40s 793ms/step - loss: 0.0105 - rmse: 0.1023 - val_loss: 0.0103 - val_rmse: 0.1013\n",
      "Epoch 8/100\n",
      "50/50 [==============================] - 40s 808ms/step - loss: 0.0105 - rmse: 0.1023 - val_loss: 0.0103 - val_rmse: 0.1013\n",
      "Epoch 9/100\n",
      "50/50 [==============================] - 41s 827ms/step - loss: 0.0105 - rmse: 0.1023 - val_loss: 0.0103 - val_rmse: 0.1013\n",
      "Epoch 10/100\n",
      "50/50 [==============================] - 42s 851ms/step - loss: 0.0105 - rmse: 0.1023 - val_loss: 0.0103 - val_rmse: 0.1013\n",
      "Epoch 11/100\n",
      "50/50 [==============================] - 42s 850ms/step - loss: 0.0105 - rmse: 0.1023 - val_loss: 0.0103 - val_rmse: 0.1013\n",
      "Epoch 12/100\n",
      "50/50 [==============================] - 43s 871ms/step - loss: 0.0105 - rmse: 0.1023 - val_loss: 0.0103 - val_rmse: 0.1013\n",
      "Epoch 13/100\n",
      "50/50 [==============================] - 43s 863ms/step - loss: 0.0105 - rmse: 0.1023 - val_loss: 0.0103 - val_rmse: 0.1013\n",
      "Epoch 14/100\n",
      "50/50 [==============================] - 43s 854ms/step - loss: 0.0105 - rmse: 0.1023 - val_loss: 0.0103 - val_rmse: 0.1013\n",
      "Epoch 15/100\n",
      "50/50 [==============================] - 43s 860ms/step - loss: 0.0105 - rmse: 0.1023 - val_loss: 0.0103 - val_rmse: 0.1013\n",
      "Epoch 16/100\n",
      "50/50 [==============================] - 42s 844ms/step - loss: 0.0105 - rmse: 0.1023 - val_loss: 0.0103 - val_rmse: 0.1013\n",
      "Epoch 17/100\n",
      "50/50 [==============================] - 44s 880ms/step - loss: 0.0105 - rmse: 0.1023 - val_loss: 0.0103 - val_rmse: 0.1013\n",
      "Epoch 00017: early stopping\n"
     ]
    }
   ],
   "source": [
    "model_path = 'LSTM_Multivariate_real.h5'\n",
    "early_stopings = tf.keras.callbacks.EarlyStopping(monitor='val_rmse', min_delta=0, patience=15, verbose=1, mode='min')\n",
    "checkpoint =  tf.keras.callbacks.ModelCheckpoint(model_path, monitor='val_rmse', save_best_only=True, mode='min', verbose=0)\n",
    "callbacks=[early_stopings,checkpoint]\n",
    "history = lstm_model.fit(x_train, y_train,epochs=100,steps_per_epoch=50,validation_data=(x_vali,y_vali),validation_steps=20,verbose=1,callbacks=callbacks, shuffle=False)"
   ]
  },
  {
   "cell_type": "code",
   "execution_count": 26,
   "metadata": {},
   "outputs": [
    {
     "data": {
      "image/png": "[encoded data removed]",
      "text/plain": [
       "<Figure size 1152x648 with 1 Axes>"
      ]
     },
     "metadata": {
      "needs_background": "light"
     },
     "output_type": "display_data"
    }
   ],
   "source": [
    "plt.figure(figsize=(16,9))\n",
    "plt.plot(history.history['rmse'])\n",
    "plt.plot(history.history['val_rmse'])\n",
    "plt.title('Model rmse')\n",
    "plt.ylabel('rmse')\n",
    "plt.xlabel('epoch')\n",
    "plt.legend(['train rmse', 'validation rmse'])\n",
    "plt.show()"
   ]
  },
  {
   "cell_type": "code",
   "execution_count": 27,
   "metadata": {},
   "outputs": [
    {
     "name": "stdout",
     "output_type": "stream",
     "text": [
      "(18720, 1)\n"
     ]
    }
   ],
   "source": [
    "pred = lstm_model.predict(x_test)\n",
    "pred_Inverse = Y_scaler.inverse_transform(pred)\n",
    "print(pred_Inverse.shape)"
   ]
  },
  {
   "cell_type": "code",
   "execution_count": 28,
   "metadata": {},
   "outputs": [
    {
     "data": {
      "text/plain": [
       "array([[0.36925718],\n",
       "       [0.36925718],\n",
       "       [0.36925718],\n",
       "       ...,\n",
       "       [0.36925718],\n",
       "       [0.36925718],\n",
       "       [0.36925718]], dtype=float32)"
      ]
     },
     "execution_count": 28,
     "metadata": {},
     "output_type": "execute_result"
    }
   ],
   "source": [
    "pred_Inverse"
   ]
  },
  {
   "cell_type": "code",
   "execution_count": 20,
   "metadata": {},
   "outputs": [
    {
     "data": {
      "text/plain": [
       "[<matplotlib.lines.Line2D at 0x17433b310>]"
      ]
     },
     "execution_count": 20,
     "metadata": {},
     "output_type": "execute_result"
    },
    {
     "data": {
      "image/png": "[encoded data removed]",
      "text/plain": [
       "<Figure size 432x288 with 1 Axes>"
      ]
     },
     "metadata": {
      "needs_background": "light"
     },
     "output_type": "display_data"
    }
   ],
   "source": [
    "plt.plot(pred_Inverse)"
   ]
  },
  {
   "cell_type": "code",
   "execution_count": 144,
   "metadata": {},
   "outputs": [
    {
     "data": {
      "text/html": [
       "<div>\n",
       "<style scoped>\n",
       "    .dataframe tbody tr th:only-of-type {\n",
       "        vertical-align: middle;\n",
       "    }\n",
       "\n",
       "    .dataframe tbody tr th {\n",
       "        vertical-align: top;\n",
       "    }\n",
       "\n",
       "    .dataframe thead th {\n",
       "        text-align: right;\n",
       "    }\n",
       "</style>\n",
       "<table border=\"1\" class=\"dataframe\">\n",
       "  <thead>\n",
       "    <tr style=\"text-align: right;\">\n",
       "      <th></th>\n",
       "      <th>yy</th>\n",
       "      <th>mm</th>\n",
       "      <th>dd</th>\n",
       "      <th>heat_supply_day</th>\n",
       "    </tr>\n",
       "  </thead>\n",
       "  <tbody>\n",
       "    <tr>\n",
       "      <th>0</th>\n",
       "      <td>2022</td>\n",
       "      <td>03</td>\n",
       "      <td>04</td>\n",
       "      <td>164.457596</td>\n",
       "    </tr>\n",
       "    <tr>\n",
       "      <th>1</th>\n",
       "      <td>2022</td>\n",
       "      <td>03</td>\n",
       "      <td>05</td>\n",
       "      <td>164.470459</td>\n",
       "    </tr>\n",
       "    <tr>\n",
       "      <th>2</th>\n",
       "      <td>2022</td>\n",
       "      <td>03</td>\n",
       "      <td>06</td>\n",
       "      <td>164.477280</td>\n",
       "    </tr>\n",
       "    <tr>\n",
       "      <th>3</th>\n",
       "      <td>2022</td>\n",
       "      <td>03</td>\n",
       "      <td>07</td>\n",
       "      <td>164.459152</td>\n",
       "    </tr>\n",
       "    <tr>\n",
       "      <th>4</th>\n",
       "      <td>2022</td>\n",
       "      <td>03</td>\n",
       "      <td>08</td>\n",
       "      <td>164.460236</td>\n",
       "    </tr>\n",
       "    <tr>\n",
       "      <th>5</th>\n",
       "      <td>2022</td>\n",
       "      <td>03</td>\n",
       "      <td>09</td>\n",
       "      <td>164.461105</td>\n",
       "    </tr>\n",
       "    <tr>\n",
       "      <th>6</th>\n",
       "      <td>2022</td>\n",
       "      <td>03</td>\n",
       "      <td>10</td>\n",
       "      <td>164.459854</td>\n",
       "    </tr>\n",
       "    <tr>\n",
       "      <th>7</th>\n",
       "      <td>2022</td>\n",
       "      <td>03</td>\n",
       "      <td>11</td>\n",
       "      <td>164.458313</td>\n",
       "    </tr>\n",
       "    <tr>\n",
       "      <th>8</th>\n",
       "      <td>2022</td>\n",
       "      <td>03</td>\n",
       "      <td>12</td>\n",
       "      <td>164.463013</td>\n",
       "    </tr>\n",
       "    <tr>\n",
       "      <th>9</th>\n",
       "      <td>2022</td>\n",
       "      <td>03</td>\n",
       "      <td>13</td>\n",
       "      <td>164.467545</td>\n",
       "    </tr>\n",
       "    <tr>\n",
       "      <th>10</th>\n",
       "      <td>2022</td>\n",
       "      <td>03</td>\n",
       "      <td>18</td>\n",
       "      <td>164.472900</td>\n",
       "    </tr>\n",
       "    <tr>\n",
       "      <th>11</th>\n",
       "      <td>2022</td>\n",
       "      <td>03</td>\n",
       "      <td>19</td>\n",
       "      <td>164.469894</td>\n",
       "    </tr>\n",
       "    <tr>\n",
       "      <th>12</th>\n",
       "      <td>2022</td>\n",
       "      <td>03</td>\n",
       "      <td>20</td>\n",
       "      <td>164.470535</td>\n",
       "    </tr>\n",
       "  </tbody>\n",
       "</table>\n",
       "</div>"
      ],
      "text/plain": [
       "      yy  mm  dd  heat_supply_day\n",
       "0   2022  03  04       164.457596\n",
       "1   2022  03  05       164.470459\n",
       "2   2022  03  06       164.477280\n",
       "3   2022  03  07       164.459152\n",
       "4   2022  03  08       164.460236\n",
       "5   2022  03  09       164.461105\n",
       "6   2022  03  10       164.459854\n",
       "7   2022  03  11       164.458313\n",
       "8   2022  03  12       164.463013\n",
       "9   2022  03  13       164.467545\n",
       "10  2022  03  18       164.472900\n",
       "11  2022  03  19       164.469894\n",
       "12  2022  03  20       164.470535"
      ]
     },
     "execution_count": 144,
     "metadata": {},
     "output_type": "execute_result"
    }
   ],
   "source": [
    "temp = pd.concat([df[test_idx:].reset_index()[['시간']], pd.DataFrame(pred_Inverse)],axis=1)\n",
    "temp['일자'] = temp['시간'].apply(lambda x: str(x)[:10])\n",
    "\n",
    "temp['yy'] = temp['일자'].apply(lambda x : x.split('-')[0])\n",
    "temp['mm'] = temp['일자'].apply(lambda x : x.split('-')[1])\n",
    "temp['dd'] = temp['일자'].apply(lambda x : x.split('-')[2])\n",
    "\n",
    "temp.groupby(['yy','mm','dd'])[0].sum().reset_index().rename(columns={0:'heat_supply_day'})\n",
    "# np.round(temp.groupby(['yy','mm','dd'])[0].sum(),1).reset_index().rename(columns={0:'heat_supply_day'}).to_csv('../result_lstm.csv',index=False)"
   ]
  },
  {
   "cell_type": "markdown",
   "metadata": {},
   "source": [
    "-----------"
   ]
  },
  {
   "cell_type": "code",
   "execution_count": 168,
   "metadata": {},
   "outputs": [],
   "source": [
    "new_model = tf.keras.models.load_model('LSTM_Multivariate_real.h5')\n",
    "pred = new_model.predict(x_test)"
   ]
  },
  {
   "cell_type": "code",
   "execution_count": 170,
   "metadata": {},
   "outputs": [
    {
     "data": {
      "text/plain": [
       "array([[0.3030883],\n",
       "       [0.3030883],\n",
       "       [0.3030883],\n",
       "       ...,\n",
       "       [0.3030883],\n",
       "       [0.3030883],\n",
       "       [0.3030883]], dtype=float32)"
      ]
     },
     "execution_count": 170,
     "metadata": {},
     "output_type": "execute_result"
    }
   ],
   "source": [
    "# pred_Inverse = Y_scaler.inverse_transform(pred)\n",
    "pred_Inverse = np.expm1(pred)\n",
    "pred_Inverse"
   ]
  },
  {
   "cell_type": "code",
   "execution_count": 145,
   "metadata": {},
   "outputs": [
    {
     "data": {
      "text/html": [
       "<div>\n",
       "<style scoped>\n",
       "    .dataframe tbody tr th:only-of-type {\n",
       "        vertical-align: middle;\n",
       "    }\n",
       "\n",
       "    .dataframe tbody tr th {\n",
       "        vertical-align: top;\n",
       "    }\n",
       "\n",
       "    .dataframe thead th {\n",
       "        text-align: right;\n",
       "    }\n",
       "</style>\n",
       "<table border=\"1\" class=\"dataframe\">\n",
       "  <thead>\n",
       "    <tr style=\"text-align: right;\">\n",
       "      <th></th>\n",
       "      <th>yy</th>\n",
       "      <th>mm</th>\n",
       "      <th>dd</th>\n",
       "      <th>heat_supply_day</th>\n",
       "    </tr>\n",
       "  </thead>\n",
       "  <tbody>\n",
       "    <tr>\n",
       "      <th>0</th>\n",
       "      <td>2022</td>\n",
       "      <td>03</td>\n",
       "      <td>04</td>\n",
       "      <td>432.831635</td>\n",
       "    </tr>\n",
       "    <tr>\n",
       "      <th>1</th>\n",
       "      <td>2022</td>\n",
       "      <td>03</td>\n",
       "      <td>05</td>\n",
       "      <td>432.831635</td>\n",
       "    </tr>\n",
       "    <tr>\n",
       "      <th>2</th>\n",
       "      <td>2022</td>\n",
       "      <td>03</td>\n",
       "      <td>06</td>\n",
       "      <td>432.831635</td>\n",
       "    </tr>\n",
       "    <tr>\n",
       "      <th>3</th>\n",
       "      <td>2022</td>\n",
       "      <td>03</td>\n",
       "      <td>07</td>\n",
       "      <td>432.831635</td>\n",
       "    </tr>\n",
       "    <tr>\n",
       "      <th>4</th>\n",
       "      <td>2022</td>\n",
       "      <td>03</td>\n",
       "      <td>08</td>\n",
       "      <td>432.831635</td>\n",
       "    </tr>\n",
       "    <tr>\n",
       "      <th>5</th>\n",
       "      <td>2022</td>\n",
       "      <td>03</td>\n",
       "      <td>09</td>\n",
       "      <td>432.831635</td>\n",
       "    </tr>\n",
       "    <tr>\n",
       "      <th>6</th>\n",
       "      <td>2022</td>\n",
       "      <td>03</td>\n",
       "      <td>10</td>\n",
       "      <td>432.831635</td>\n",
       "    </tr>\n",
       "    <tr>\n",
       "      <th>7</th>\n",
       "      <td>2022</td>\n",
       "      <td>03</td>\n",
       "      <td>11</td>\n",
       "      <td>432.831635</td>\n",
       "    </tr>\n",
       "    <tr>\n",
       "      <th>8</th>\n",
       "      <td>2022</td>\n",
       "      <td>03</td>\n",
       "      <td>12</td>\n",
       "      <td>432.831635</td>\n",
       "    </tr>\n",
       "    <tr>\n",
       "      <th>9</th>\n",
       "      <td>2022</td>\n",
       "      <td>03</td>\n",
       "      <td>13</td>\n",
       "      <td>432.831635</td>\n",
       "    </tr>\n",
       "    <tr>\n",
       "      <th>10</th>\n",
       "      <td>2022</td>\n",
       "      <td>03</td>\n",
       "      <td>18</td>\n",
       "      <td>432.831635</td>\n",
       "    </tr>\n",
       "    <tr>\n",
       "      <th>11</th>\n",
       "      <td>2022</td>\n",
       "      <td>03</td>\n",
       "      <td>19</td>\n",
       "      <td>432.831635</td>\n",
       "    </tr>\n",
       "    <tr>\n",
       "      <th>12</th>\n",
       "      <td>2022</td>\n",
       "      <td>03</td>\n",
       "      <td>20</td>\n",
       "      <td>432.831635</td>\n",
       "    </tr>\n",
       "  </tbody>\n",
       "</table>\n",
       "</div>"
      ],
      "text/plain": [
       "      yy  mm  dd  heat_supply_day\n",
       "0   2022  03  04       432.831635\n",
       "1   2022  03  05       432.831635\n",
       "2   2022  03  06       432.831635\n",
       "3   2022  03  07       432.831635\n",
       "4   2022  03  08       432.831635\n",
       "5   2022  03  09       432.831635\n",
       "6   2022  03  10       432.831635\n",
       "7   2022  03  11       432.831635\n",
       "8   2022  03  12       432.831635\n",
       "9   2022  03  13       432.831635\n",
       "10  2022  03  18       432.831635\n",
       "11  2022  03  19       432.831635\n",
       "12  2022  03  20       432.831635"
      ]
     },
     "execution_count": 145,
     "metadata": {},
     "output_type": "execute_result"
    }
   ],
   "source": [
    "temp = pd.concat([df[test_idx:].reset_index()[['시간']], pd.DataFrame(pred_Inverse)],axis=1)\n",
    "temp['일자'] = temp['시간'].apply(lambda x: x[:10])\n",
    "\n",
    "temp['yy'] = temp['일자'].apply(lambda x : x.split('-')[0])\n",
    "temp['mm'] = temp['일자'].apply(lambda x : x.split('-')[1])\n",
    "temp['dd'] = temp['일자'].apply(lambda x : x.split('-')[2])\n",
    "temp.groupby(['yy','mm','dd'])[0].sum().reset_index().rename(columns={0:'heat_supply_day'})"
   ]
  },
  {
   "cell_type": "code",
   "execution_count": 171,
   "metadata": {},
   "outputs": [],
   "source": [
    "import matplotlib.pyplot as plt"
   ]
  },
  {
   "cell_type": "code",
   "execution_count": 172,
   "metadata": {},
   "outputs": [
    {
     "data": {
      "text/plain": [
       "[<matplotlib.lines.Line2D at 0x179f42730>]"
      ]
     },
     "execution_count": 172,
     "metadata": {},
     "output_type": "execute_result"
    },
    {
     "data": {
      "image/png": "[encoded data removed]",
      "text/plain": [
       "<Figure size 432x288 with 1 Axes>"
      ]
     },
     "metadata": {
      "needs_background": "light"
     },
     "output_type": "display_data"
    }
   ],
   "source": [
    "plt.plot(pred_Inverse)"
   ]
  },
  {
   "cell_type": "code",
   "execution_count": null,
   "metadata": {},
   "outputs": [],
   "source": []
  }
 ],
 "metadata": {
  "interpreter": {
   "hash": "85e66d92da2da1d9c52e6643af4432019a7cabcaa5312128595953109b4858d1"
  },
  "kernelspec": {
   "display_name": "Python 3.8.13 ('tf')",
   "language": "python",
   "name": "python3"
  },
  "language_info": {
   "codemirror_mode": {
    "name": "ipython",
    "version": 3
   },
   "file_extension": ".py",
   "mimetype": "text/x-python",
   "name": "python",
   "nbconvert_exporter": "python",
   "pygments_lexer": "ipython3",
   "version": "3.8.13"
  },
  "orig_nbformat": 4
 },
 "nbformat": 4,
 "nbformat_minor": 2
}
