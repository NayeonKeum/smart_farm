{
 "cells": [
  {
   "cell_type": "code",
   "execution_count": 1,
   "id": "a8932339",
   "metadata": {},
   "outputs": [],
   "source": [
    "import pandas as pd\n",
    "import numpy as np\n",
    "import seaborn as sns\n",
    "import statsmodels.api as sm\n",
    "import matplotlib.pyplot as plt\n",
    "import matplotlib\n",
    "from datetime import datetime, timedelta\n",
    "\n",
    "from sklearn.model_selection import train_test_split\n",
    "import glob\n",
    "import os\n",
    "import time\n",
    "import random\n",
    "import warnings; warnings.filterwarnings(\"ignore\")\n",
    "from IPython.display import Image\n",
    "import pickle\n",
    "from tqdm import tqdm\n",
    "import platform\n",
    "from itertools import combinations\n",
    "from scipy.stats.mstats import gmean\n",
    "\n",
    "from tqdm.notebook import tqdm\n",
    "from pycaret.regression import *\n",
    "from sklearn.metrics import mean_squared_error\n",
    "from sklearn.metrics import r2_score"
   ]
  },
  {
   "cell_type": "markdown",
   "id": "78af386a",
   "metadata": {},
   "source": [
    "# 스마트팜 배출량에 대한 예측\n",
    "- smart_farm_final.csv"
   ]
  },
  {
   "cell_type": "markdown",
   "id": "bd3ad50b",
   "metadata": {},
   "source": [
    "## Feature Engineering\n",
    "- Q. 시간 데이터를 효과적으로 모델에 포함시킬 수 있는 방법이 없나?\n",
    "- A. hour,minute을 합해서 float으로 변환하기, sin_time, cos_time을 추가하기\n",
    "- Q. 온도와 습도가 결국 스마트팜에 있어서 중요한 요인이기에 파생변수를 추가하기\n",
    "- A. 온도와 습도를 통해서 만들 수 있는 이슬점 데이터를 추가하기\n",
    "- Q. 일출시간, 일몰시간을 기반으로 zenith(태양의 고도) 계산하기\n",
    "- A. 태양의 고도가 곧, 일사량과 태양 복사 에너지에 주된, 요인이기에 핵심적인 요인으로 이용될 수도 있음"
   ]
  },
  {
   "cell_type": "code",
   "execution_count": 2,
   "id": "e36d60ea",
   "metadata": {},
   "outputs": [
    {
     "data": {
      "text/plain": [
       "(148168, 57)"
      ]
     },
     "execution_count": 2,
     "metadata": {},
     "output_type": "execute_result"
    }
   ],
   "source": [
    "#data = pd.read_csv(\"smart_farm_final.csv\")\n",
    "org_data = pd.read_csv(\"smart_farm_final.csv\")\n",
    "org_data.shape"
   ]
  },
  {
   "cell_type": "markdown",
   "id": "957bb918",
   "metadata": {},
   "source": [
    "- 이슬점 데이터 생성하기"
   ]
  },
  {
   "cell_type": "code",
   "execution_count": 3,
   "id": "f1749467",
   "metadata": {},
   "outputs": [],
   "source": [
    "c = 243.12\n",
    "b = 17.62\n",
    "gamma = (b * (org_data['내부 온도']) / (c + (org_data['내부 온도']))) + np.log(org_data['내부 습도'] / 100)\n",
    "dp = ( c * gamma) / (b - gamma)\n",
    "org_data['이슬점'] = dp"
   ]
  },
  {
   "cell_type": "markdown",
   "id": "d0e5d2d8",
   "metadata": {},
   "source": [
    "- merge hour and minute feature into 1"
   ]
  },
  {
   "cell_type": "code",
   "execution_count": 4,
   "id": "2cc94959",
   "metadata": {},
   "outputs": [],
   "source": [
    "org_data[\"hour_float\"] = org_data.시 + org_data.분/60"
   ]
  },
  {
   "cell_type": "markdown",
   "id": "b616589b",
   "metadata": {},
   "source": [
    "- add cyclical encoded time feature\n",
    "- continueous time feature"
   ]
  },
  {
   "cell_type": "code",
   "execution_count": 5,
   "id": "d182abd1",
   "metadata": {},
   "outputs": [],
   "source": [
    "org_data['cos_time'] = np.cos(2*np.pi*(org_data.hour_float/24))\n",
    "org_data['sin_time'] = np.sin(2*np.pi*(org_data.hour_float/24))"
   ]
  },
  {
   "cell_type": "markdown",
   "id": "a6cbad16",
   "metadata": {},
   "source": [
    "일출 일몰 시간에 따른 년간, 일별 계절성(seasonality)를 고려한 일별 2차 함수 근사를 통해 zenith angle 산출\n",
    "- zenith angle (태양의 고도)"
   ]
  },
  {
   "cell_type": "code",
   "execution_count": 6,
   "id": "e0b624cd",
   "metadata": {},
   "outputs": [],
   "source": [
    "import numpy as np\n",
    "import os\n",
    "\n",
    "import random\n",
    "import math\n",
    "from scipy.optimize import curve_fit"
   ]
  },
  {
   "cell_type": "code",
   "execution_count": 7,
   "id": "65d5c13a",
   "metadata": {},
   "outputs": [],
   "source": [
    "def obj_curve(x, a, b, c):\n",
    "    return a*(x-b)**2+c"
   ]
  },
  {
   "cell_type": "markdown",
   "id": "ce604152",
   "metadata": {},
   "source": [
    "일출, 일몰시간 데이터 다루기\n",
    "- float 형태로 변환해주기"
   ]
  },
  {
   "cell_type": "code",
   "execution_count": 8,
   "id": "7e1488b5",
   "metadata": {},
   "outputs": [
    {
     "data": {
      "text/plain": [
       "75"
      ]
     },
     "execution_count": 8,
     "metadata": {},
     "output_type": "execute_result"
    }
   ],
   "source": [
    "import gc\n",
    "\n",
    "gc.collect()"
   ]
  },
  {
   "cell_type": "markdown",
   "id": "a2bf8ba0",
   "metadata": {},
   "source": [
    "#### 시,분 string 을 float으로 변경하는 함수 : hour_str_to_float"
   ]
  },
  {
   "cell_type": "code",
   "execution_count": 9,
   "id": "69c73896",
   "metadata": {},
   "outputs": [],
   "source": [
    "def hour_str_to_float(x):\n",
    "    hour = int(str(x)[:-2])\n",
    "    minute = int(str(x)[-2:])\n",
    "    \n",
    "    return hour + minute/60"
   ]
  },
  {
   "cell_type": "code",
   "execution_count": 10,
   "id": "f56da83d",
   "metadata": {},
   "outputs": [],
   "source": [
    "sunrise_data = org_data[[\"시간\",\"일출시간\",\"일몰시간\",\"hour_float\"]].copy()\n",
    "\n",
    "sunrise_data[\"일출시간_float\"] = sunrise_data[\"일출시간\"].apply(lambda x : hour_str_to_float(x))\n",
    "sunrise_data[\"일몰시간_float\"] = sunrise_data[\"일몰시간\"].apply(lambda x : hour_str_to_float(x))"
   ]
  },
  {
   "cell_type": "code",
   "execution_count": 11,
   "id": "f73ae8e1",
   "metadata": {},
   "outputs": [
    {
     "data": {
      "text/html": [
       "<div>\n",
       "<style scoped>\n",
       "    .dataframe tbody tr th:only-of-type {\n",
       "        vertical-align: middle;\n",
       "    }\n",
       "\n",
       "    .dataframe tbody tr th {\n",
       "        vertical-align: top;\n",
       "    }\n",
       "\n",
       "    .dataframe thead th {\n",
       "        text-align: right;\n",
       "    }\n",
       "</style>\n",
       "<table border=\"1\" class=\"dataframe\">\n",
       "  <thead>\n",
       "    <tr style=\"text-align: right;\">\n",
       "      <th></th>\n",
       "      <th>시간</th>\n",
       "      <th>일출시간</th>\n",
       "      <th>일몰시간</th>\n",
       "      <th>hour_float</th>\n",
       "      <th>일출시간_float</th>\n",
       "      <th>일몰시간_float</th>\n",
       "    </tr>\n",
       "  </thead>\n",
       "  <tbody>\n",
       "    <tr>\n",
       "      <th>0</th>\n",
       "      <td>2021-11-26 00:00:00</td>\n",
       "      <td>713</td>\n",
       "      <td>1717</td>\n",
       "      <td>0.000000</td>\n",
       "      <td>7.216667</td>\n",
       "      <td>17.283333</td>\n",
       "    </tr>\n",
       "    <tr>\n",
       "      <th>1</th>\n",
       "      <td>2021-11-26 00:01:00</td>\n",
       "      <td>713</td>\n",
       "      <td>1717</td>\n",
       "      <td>0.016667</td>\n",
       "      <td>7.216667</td>\n",
       "      <td>17.283333</td>\n",
       "    </tr>\n",
       "    <tr>\n",
       "      <th>2</th>\n",
       "      <td>2021-11-26 00:02:00</td>\n",
       "      <td>713</td>\n",
       "      <td>1717</td>\n",
       "      <td>0.033333</td>\n",
       "      <td>7.216667</td>\n",
       "      <td>17.283333</td>\n",
       "    </tr>\n",
       "  </tbody>\n",
       "</table>\n",
       "</div>"
      ],
      "text/plain": [
       "                    시간  일출시간  일몰시간  hour_float  일출시간_float  일몰시간_float\n",
       "0  2021-11-26 00:00:00   713  1717    0.000000    7.216667   17.283333\n",
       "1  2021-11-26 00:01:00   713  1717    0.016667    7.216667   17.283333\n",
       "2  2021-11-26 00:02:00   713  1717    0.033333    7.216667   17.283333"
      ]
     },
     "execution_count": 11,
     "metadata": {},
     "output_type": "execute_result"
    }
   ],
   "source": [
    "sunrise_data.head(3)"
   ]
  },
  {
   "cell_type": "code",
   "execution_count": 12,
   "id": "4270c905",
   "metadata": {},
   "outputs": [],
   "source": [
    "zenith_lst = np.load(\"zenith.npy\")"
   ]
  },
  {
   "cell_type": "code",
   "execution_count": 13,
   "id": "2f651571",
   "metadata": {},
   "outputs": [],
   "source": [
    "sunrise_data[\"zenith\"] = zenith_lst"
   ]
  },
  {
   "cell_type": "markdown",
   "id": "56469532",
   "metadata": {},
   "source": [
    "- altutude of sun is added"
   ]
  },
  {
   "cell_type": "code",
   "execution_count": 14,
   "id": "d88038ab",
   "metadata": {},
   "outputs": [],
   "source": [
    "sunrise_data['altitude'] = 90-sunrise_data.zenith"
   ]
  },
  {
   "cell_type": "code",
   "execution_count": 15,
   "id": "ed5d81d8",
   "metadata": {},
   "outputs": [
    {
     "data": {
      "text/html": [
       "<div>\n",
       "<style scoped>\n",
       "    .dataframe tbody tr th:only-of-type {\n",
       "        vertical-align: middle;\n",
       "    }\n",
       "\n",
       "    .dataframe tbody tr th {\n",
       "        vertical-align: top;\n",
       "    }\n",
       "\n",
       "    .dataframe thead th {\n",
       "        text-align: right;\n",
       "    }\n",
       "</style>\n",
       "<table border=\"1\" class=\"dataframe\">\n",
       "  <thead>\n",
       "    <tr style=\"text-align: right;\">\n",
       "      <th></th>\n",
       "      <th>시간</th>\n",
       "      <th>일출시간</th>\n",
       "      <th>일몰시간</th>\n",
       "      <th>hour_float</th>\n",
       "      <th>일출시간_float</th>\n",
       "      <th>일몰시간_float</th>\n",
       "      <th>zenith</th>\n",
       "      <th>altitude</th>\n",
       "    </tr>\n",
       "  </thead>\n",
       "  <tbody>\n",
       "    <tr>\n",
       "      <th>0</th>\n",
       "      <td>2021-11-26 00:00:00</td>\n",
       "      <td>713</td>\n",
       "      <td>1717</td>\n",
       "      <td>0.000000</td>\n",
       "      <td>7.216667</td>\n",
       "      <td>17.283333</td>\n",
       "      <td>231.228926</td>\n",
       "      <td>-141.228926</td>\n",
       "    </tr>\n",
       "    <tr>\n",
       "      <th>1</th>\n",
       "      <td>2021-11-26 00:01:00</td>\n",
       "      <td>713</td>\n",
       "      <td>1717</td>\n",
       "      <td>0.016667</td>\n",
       "      <td>7.216667</td>\n",
       "      <td>17.283333</td>\n",
       "      <td>230.739259</td>\n",
       "      <td>-140.739259</td>\n",
       "    </tr>\n",
       "    <tr>\n",
       "      <th>2</th>\n",
       "      <td>2021-11-26 00:02:00</td>\n",
       "      <td>713</td>\n",
       "      <td>1717</td>\n",
       "      <td>0.033333</td>\n",
       "      <td>7.216667</td>\n",
       "      <td>17.283333</td>\n",
       "      <td>230.250259</td>\n",
       "      <td>-140.250259</td>\n",
       "    </tr>\n",
       "  </tbody>\n",
       "</table>\n",
       "</div>"
      ],
      "text/plain": [
       "                    시간  일출시간  일몰시간  hour_float  일출시간_float  일몰시간_float  \\\n",
       "0  2021-11-26 00:00:00   713  1717    0.000000    7.216667   17.283333   \n",
       "1  2021-11-26 00:01:00   713  1717    0.016667    7.216667   17.283333   \n",
       "2  2021-11-26 00:02:00   713  1717    0.033333    7.216667   17.283333   \n",
       "\n",
       "       zenith    altitude  \n",
       "0  231.228926 -141.228926  \n",
       "1  230.739259 -140.739259  \n",
       "2  230.250259 -140.250259  "
      ]
     },
     "execution_count": 15,
     "metadata": {},
     "output_type": "execute_result"
    }
   ],
   "source": [
    "sunrise_data.head(3)"
   ]
  },
  {
   "cell_type": "code",
   "execution_count": 16,
   "id": "993d977e",
   "metadata": {},
   "outputs": [],
   "source": [
    "data = pd.merge(org_data.drop([\"일출시간\",\"일몰시간\"],axis=1),\n",
    "                sunrise_data[[\"일출시간_float\",\"일몰시간_float\",\"zenith\",\"altitude\",\"시간\"]],\n",
    "                on=\"시간\", how = \"inner\")"
   ]
  },
  {
   "cell_type": "markdown",
   "id": "3cee0571",
   "metadata": {},
   "source": [
    "시간 데이터 처리하기\n",
    "- 연도 : numerical\n",
    "- 월 : non numerical\n",
    "- 일 : non numerical\n",
    "- 시 : non numerical\n",
    "- 분 : non numerical"
   ]
  },
  {
   "cell_type": "code",
   "execution_count": 17,
   "id": "fe698110",
   "metadata": {},
   "outputs": [],
   "source": [
    "data = data.drop([\"년월일\",\"일\",\"분\"],axis=1)"
   ]
  },
  {
   "cell_type": "markdown",
   "id": "b7f26c9e",
   "metadata": {},
   "source": [
    "#### 일출,일몰 3시간, 1시간반 데이터 처리하기"
   ]
  },
  {
   "cell_type": "code",
   "execution_count": 18,
   "id": "09bec144",
   "metadata": {},
   "outputs": [],
   "source": [
    "data[\"일출3시간후_float\"] = data[\"일출3시간후\"].apply(lambda x : hour_str_to_float(x))\n",
    "data[\"일몰3시간후_float\"] = data[\"일몰3시간후\"].apply(lambda x : hour_str_to_float(x))\n",
    "data[\"일출1시간후_float\"] = data[\"일출1시간후\"].apply(lambda x : hour_str_to_float(x))\n",
    "data[\"일몰1시간반전_float\"] = data[\"일몰1시간반전\"].apply(lambda x : hour_str_to_float(x))"
   ]
  },
  {
   "cell_type": "code",
   "execution_count": 19,
   "id": "656d4145",
   "metadata": {},
   "outputs": [],
   "source": [
    "data = data.drop([\"일출3시간후_float\",\"일몰3시간후_float\",\"일출1시간후_float\",\"일몰1시간반전_float\"],axis=1)"
   ]
  },
  {
   "cell_type": "markdown",
   "id": "44a86d4b",
   "metadata": {},
   "source": [
    "#### 팬코일 B동 데이터\n",
    "- 0과 1이 아닌, 0.5 발견\n",
    "- 반올림 처리하기"
   ]
  },
  {
   "cell_type": "code",
   "execution_count": 20,
   "id": "dfc7c48d",
   "metadata": {},
   "outputs": [],
   "source": [
    "data[\"팬코일 B동\"] = data[\"팬코일 B동\"].apply(lambda x : 1 if x == 0.5 else x )"
   ]
  },
  {
   "cell_type": "code",
   "execution_count": 21,
   "id": "00bf9aee",
   "metadata": {},
   "outputs": [],
   "source": [
    "data.drop([\"차열스크린_광도조절\",\"차광스크린_광도조절\"],axis=1,inplace=True)"
   ]
  },
  {
   "cell_type": "markdown",
   "id": "bb0ee77f",
   "metadata": {},
   "source": [
    "발전량 시간대별 평균, 표준편차 파생변수 추가하기"
   ]
  },
  {
   "cell_type": "code",
   "execution_count": 22,
   "id": "5215ee84",
   "metadata": {},
   "outputs": [],
   "source": [
    "train = data.iloc[:129448,:]\n",
    "test = data.iloc[129448:,:]"
   ]
  },
  {
   "cell_type": "code",
   "execution_count": 23,
   "id": "dfa6d43f",
   "metadata": {},
   "outputs": [
    {
     "data": {
      "text/plain": [
       "129448   NaN\n",
       "129449   NaN\n",
       "129450   NaN\n",
       "129451   NaN\n",
       "129452   NaN\n",
       "          ..\n",
       "148163   NaN\n",
       "148164   NaN\n",
       "148165   NaN\n",
       "148166   NaN\n",
       "148167   NaN\n",
       "Name: 열공급량(kWh), Length: 18720, dtype: float64"
      ]
     },
     "execution_count": 23,
     "metadata": {},
     "output_type": "execute_result"
    }
   ],
   "source": [
    "test[\"열공급량(kWh)\"]"
   ]
  },
  {
   "cell_type": "code",
   "execution_count": 24,
   "id": "a5b505dd",
   "metadata": {},
   "outputs": [],
   "source": [
    "## 시간대별 열공급량 평균 넣어주기\n",
    "power_hour_mean = pd.pivot_table(train, values = '열공급량(kWh)', index = ['시'], aggfunc = np.mean).reset_index()\n",
    "power_hour_mean.columns = [\"시\",\"시간대별_평균열공급량\"]\n",
    "\n",
    "power_hour_std = pd.pivot_table(train, values = '열공급량(kWh)', index = ['시'], aggfunc = np.std).reset_index()\n",
    "power_hour_std.columns = [\"시\",\"시간대별_열공급량표준편차\"]"
   ]
  },
  {
   "cell_type": "code",
   "execution_count": 25,
   "id": "fe786f03",
   "metadata": {},
   "outputs": [],
   "source": [
    "# 데이터 연결하가\n",
    "\n",
    "data = pd.merge(data,power_hour_mean,on=\"시\",how=\"left\")\n",
    "data = pd.merge(data,power_hour_std,on=\"시\",how=\"left\")"
   ]
  },
  {
   "cell_type": "code",
   "execution_count": 26,
   "id": "a76eb516",
   "metadata": {},
   "outputs": [],
   "source": [
    "train = data.iloc[:129448,:]\n",
    "test = data.iloc[129448:,:]"
   ]
  },
  {
   "cell_type": "markdown",
   "id": "d0695b43",
   "metadata": {},
   "source": [
    "#### 광도조절 데이터 제거하기\n",
    "- 데이터가 다 똑같음"
   ]
  },
  {
   "cell_type": "code",
   "execution_count": 27,
   "id": "edbb738e",
   "metadata": {},
   "outputs": [
    {
     "data": {
      "text/plain": [
       "0         0.9\n",
       "1         0.9\n",
       "2         0.9\n",
       "3         0.8\n",
       "4         1.0\n",
       "         ... \n",
       "129443    0.9\n",
       "129444    0.8\n",
       "129445    0.8\n",
       "129446    0.8\n",
       "129447    0.8\n",
       "Name: 열공급량(kWh), Length: 129448, dtype: float64"
      ]
     },
     "execution_count": 27,
     "metadata": {},
     "output_type": "execute_result"
    }
   ],
   "source": [
    "train[\"열공급량(kWh)\"]"
   ]
  },
  {
   "cell_type": "markdown",
   "id": "a8398d46",
   "metadata": {},
   "source": [
    "문자열 칼럼 추출"
   ]
  },
  {
   "cell_type": "code",
   "execution_count": 28,
   "id": "e115e134",
   "metadata": {},
   "outputs": [],
   "source": [
    "# 문자열 형식의 컬럼만 추출하기\n",
    "object_lst = []\n",
    "\n",
    "# 숫자 형식의 컬럼만 추출하기\n",
    "num_lst = []\n",
    "\n",
    "for col in data.columns:\n",
    "    if data[col].dtype == \"object\":\n",
    "        object_lst.append(col)\n",
    "    \n",
    "    else:\n",
    "        num_lst.append(col)"
   ]
  },
  {
   "cell_type": "code",
   "execution_count": 29,
   "id": "d2e85f4b",
   "metadata": {},
   "outputs": [],
   "source": [
    "# 카테고리열 제거한 numerical\n",
    "# 진짜 숫자 관련 열만 존재\n",
    "\n",
    "num_lst_real = [x for x in num_lst if x not in [\"월\",\"일\",\"시\",'배기팬','유동팬','팬코일 B동',\"차광스크린_개방\",\n",
    "                                                \"열공급량(kWh)\",\"환기온도(천창 제어온도)\"]]\n",
    "\n",
    "object_lst_real = object_lst + ['배기팬','유동팬','팬코일 B동', \"차광스크린_개방\",\"환기온도(천창 제어온도)\"]\n",
    "\n",
    "object_no_binary = [x for x in object_lst_real if x not in [\"배기팬\",\"유동팬\",\"팬코일 B동\",\"차광스크린_개방\",\"환기온도(천창 제어온도)\"]]"
   ]
  },
  {
   "cell_type": "markdown",
   "id": "d3eef6c1",
   "metadata": {},
   "source": [
    "#### MeanEncoding을 하기 위한 EDA 작업하기\n",
    "- object_lst_real : categorial data\n",
    "- num_lst_real : numeric data"
   ]
  },
  {
   "cell_type": "code",
   "execution_count": 30,
   "id": "0adc82d2",
   "metadata": {},
   "outputs": [
    {
     "data": {
      "text/plain": [
       "['시간',\n",
       " '차광스크린_개방조절',\n",
       " '차열스크린_온도조절',\n",
       " '차열스크린_개방조절',\n",
       " '시간범주',\n",
       " '일몰전후',\n",
       " '일출일몰',\n",
       " '오존등급',\n",
       " '아황산가스등급',\n",
       " '이산화질소등급',\n",
       " 'PM10등급',\n",
       " 'PM25등급',\n",
       " '배기팬',\n",
       " '유동팬',\n",
       " '팬코일 B동',\n",
       " '차광스크린_개방',\n",
       " '환기온도(천창 제어온도)']"
      ]
     },
     "execution_count": 30,
     "metadata": {},
     "output_type": "execute_result"
    }
   ],
   "source": [
    "object_lst_real"
   ]
  },
  {
   "cell_type": "markdown",
   "id": "0eef2563",
   "metadata": {},
   "source": [
    "#### Object 데이터\n",
    "- 차광스크린 광도조절\n",
    "- 차열스크린 광도조절\n",
    "- 데이터 제거하기"
   ]
  },
  {
   "cell_type": "markdown",
   "id": "03a1fcbc",
   "metadata": {},
   "source": [
    "## MeanEncoding 대신 One Hot 이나 Ordinary로 만들기\n",
    "- 해당 버전은 Mean Encoding 적용하지 않기"
   ]
  },
  {
   "cell_type": "code",
   "execution_count": 31,
   "id": "4c4caac9",
   "metadata": {},
   "outputs": [],
   "source": [
    "data = pd.concat([train,test],axis=0)"
   ]
  },
  {
   "cell_type": "code",
   "execution_count": 32,
   "id": "e320bdb0",
   "metadata": {},
   "outputs": [
    {
     "data": {
      "text/plain": [
       "0         0.9\n",
       "1         0.9\n",
       "2         0.9\n",
       "3         0.8\n",
       "4         1.0\n",
       "         ... \n",
       "129443    0.9\n",
       "129444    0.8\n",
       "129445    0.8\n",
       "129446    0.8\n",
       "129447    0.8\n",
       "Name: 열공급량(kWh), Length: 129448, dtype: float64"
      ]
     },
     "execution_count": 32,
     "metadata": {},
     "output_type": "execute_result"
    }
   ],
   "source": [
    "data.loc[:129447,\"열공급량(kWh)\"]"
   ]
  },
  {
   "cell_type": "markdown",
   "id": "f3e925df",
   "metadata": {},
   "source": [
    "Object로 확인된 모든 데이터"
   ]
  },
  {
   "cell_type": "code",
   "execution_count": 33,
   "id": "4c6c4ab6",
   "metadata": {
    "scrolled": true
   },
   "outputs": [
    {
     "data": {
      "text/html": [
       "<div>\n",
       "<style scoped>\n",
       "    .dataframe tbody tr th:only-of-type {\n",
       "        vertical-align: middle;\n",
       "    }\n",
       "\n",
       "    .dataframe tbody tr th {\n",
       "        vertical-align: top;\n",
       "    }\n",
       "\n",
       "    .dataframe thead th {\n",
       "        text-align: right;\n",
       "    }\n",
       "</style>\n",
       "<table border=\"1\" class=\"dataframe\">\n",
       "  <thead>\n",
       "    <tr style=\"text-align: right;\">\n",
       "      <th></th>\n",
       "      <th>시간</th>\n",
       "      <th>차광스크린_개방조절</th>\n",
       "      <th>차열스크린_온도조절</th>\n",
       "      <th>차열스크린_개방조절</th>\n",
       "      <th>시간범주</th>\n",
       "      <th>일몰전후</th>\n",
       "      <th>일출일몰</th>\n",
       "      <th>오존등급</th>\n",
       "      <th>아황산가스등급</th>\n",
       "      <th>이산화질소등급</th>\n",
       "      <th>PM10등급</th>\n",
       "      <th>PM25등급</th>\n",
       "    </tr>\n",
       "  </thead>\n",
       "  <tbody>\n",
       "    <tr>\n",
       "      <th>0</th>\n",
       "      <td>2021-11-26 00:00:00</td>\n",
       "      <td>0%~30%개방</td>\n",
       "      <td>23도미만</td>\n",
       "      <td>0%~30%개방</td>\n",
       "      <td>야간</td>\n",
       "      <td>일몰1시간반_후</td>\n",
       "      <td>일몰</td>\n",
       "      <td>좋음</td>\n",
       "      <td>좋음</td>\n",
       "      <td>좋음</td>\n",
       "      <td>보통</td>\n",
       "      <td>보통</td>\n",
       "    </tr>\n",
       "    <tr>\n",
       "      <th>1</th>\n",
       "      <td>2021-11-26 00:01:00</td>\n",
       "      <td>0%~30%개방</td>\n",
       "      <td>23도미만</td>\n",
       "      <td>0%~30%개방</td>\n",
       "      <td>야간</td>\n",
       "      <td>일몰1시간반_후</td>\n",
       "      <td>일몰</td>\n",
       "      <td>좋음</td>\n",
       "      <td>좋음</td>\n",
       "      <td>좋음</td>\n",
       "      <td>보통</td>\n",
       "      <td>보통</td>\n",
       "    </tr>\n",
       "    <tr>\n",
       "      <th>2</th>\n",
       "      <td>2021-11-26 00:02:00</td>\n",
       "      <td>0%~30%개방</td>\n",
       "      <td>23도미만</td>\n",
       "      <td>0%~30%개방</td>\n",
       "      <td>야간</td>\n",
       "      <td>일몰1시간반_후</td>\n",
       "      <td>일몰</td>\n",
       "      <td>좋음</td>\n",
       "      <td>좋음</td>\n",
       "      <td>좋음</td>\n",
       "      <td>보통</td>\n",
       "      <td>보통</td>\n",
       "    </tr>\n",
       "    <tr>\n",
       "      <th>3</th>\n",
       "      <td>2021-11-26 00:03:00</td>\n",
       "      <td>0%~30%개방</td>\n",
       "      <td>23도미만</td>\n",
       "      <td>0%~30%개방</td>\n",
       "      <td>야간</td>\n",
       "      <td>일몰1시간반_후</td>\n",
       "      <td>일몰</td>\n",
       "      <td>좋음</td>\n",
       "      <td>좋음</td>\n",
       "      <td>좋음</td>\n",
       "      <td>보통</td>\n",
       "      <td>보통</td>\n",
       "    </tr>\n",
       "    <tr>\n",
       "      <th>4</th>\n",
       "      <td>2021-11-26 00:04:00</td>\n",
       "      <td>0%~30%개방</td>\n",
       "      <td>23도미만</td>\n",
       "      <td>0%~30%개방</td>\n",
       "      <td>야간</td>\n",
       "      <td>일몰1시간반_후</td>\n",
       "      <td>일몰</td>\n",
       "      <td>좋음</td>\n",
       "      <td>좋음</td>\n",
       "      <td>좋음</td>\n",
       "      <td>보통</td>\n",
       "      <td>보통</td>\n",
       "    </tr>\n",
       "    <tr>\n",
       "      <th>...</th>\n",
       "      <td>...</td>\n",
       "      <td>...</td>\n",
       "      <td>...</td>\n",
       "      <td>...</td>\n",
       "      <td>...</td>\n",
       "      <td>...</td>\n",
       "      <td>...</td>\n",
       "      <td>...</td>\n",
       "      <td>...</td>\n",
       "      <td>...</td>\n",
       "      <td>...</td>\n",
       "      <td>...</td>\n",
       "    </tr>\n",
       "    <tr>\n",
       "      <th>148163</th>\n",
       "      <td>2022-03-20 23:55:00</td>\n",
       "      <td>0%~30%개방</td>\n",
       "      <td>23도미만</td>\n",
       "      <td>0%~30%개방</td>\n",
       "      <td>야간</td>\n",
       "      <td>일몰1시간반_후</td>\n",
       "      <td>일몰</td>\n",
       "      <td>보통</td>\n",
       "      <td>좋음</td>\n",
       "      <td>좋음</td>\n",
       "      <td>좋음</td>\n",
       "      <td>좋음</td>\n",
       "    </tr>\n",
       "    <tr>\n",
       "      <th>148164</th>\n",
       "      <td>2022-03-20 23:56:00</td>\n",
       "      <td>0%~30%개방</td>\n",
       "      <td>23도미만</td>\n",
       "      <td>0%~30%개방</td>\n",
       "      <td>야간</td>\n",
       "      <td>일몰1시간반_후</td>\n",
       "      <td>일몰</td>\n",
       "      <td>보통</td>\n",
       "      <td>좋음</td>\n",
       "      <td>좋음</td>\n",
       "      <td>좋음</td>\n",
       "      <td>좋음</td>\n",
       "    </tr>\n",
       "    <tr>\n",
       "      <th>148165</th>\n",
       "      <td>2022-03-20 23:57:00</td>\n",
       "      <td>0%~30%개방</td>\n",
       "      <td>23도미만</td>\n",
       "      <td>0%~30%개방</td>\n",
       "      <td>야간</td>\n",
       "      <td>일몰1시간반_후</td>\n",
       "      <td>일몰</td>\n",
       "      <td>보통</td>\n",
       "      <td>좋음</td>\n",
       "      <td>좋음</td>\n",
       "      <td>좋음</td>\n",
       "      <td>좋음</td>\n",
       "    </tr>\n",
       "    <tr>\n",
       "      <th>148166</th>\n",
       "      <td>2022-03-20 23:58:00</td>\n",
       "      <td>0%~30%개방</td>\n",
       "      <td>23도미만</td>\n",
       "      <td>0%~30%개방</td>\n",
       "      <td>야간</td>\n",
       "      <td>일몰1시간반_후</td>\n",
       "      <td>일몰</td>\n",
       "      <td>보통</td>\n",
       "      <td>좋음</td>\n",
       "      <td>좋음</td>\n",
       "      <td>좋음</td>\n",
       "      <td>좋음</td>\n",
       "    </tr>\n",
       "    <tr>\n",
       "      <th>148167</th>\n",
       "      <td>2022-03-20 23:59:00</td>\n",
       "      <td>0%~30%개방</td>\n",
       "      <td>23도미만</td>\n",
       "      <td>0%~30%개방</td>\n",
       "      <td>야간</td>\n",
       "      <td>일몰1시간반_후</td>\n",
       "      <td>일몰</td>\n",
       "      <td>보통</td>\n",
       "      <td>좋음</td>\n",
       "      <td>좋음</td>\n",
       "      <td>좋음</td>\n",
       "      <td>좋음</td>\n",
       "    </tr>\n",
       "  </tbody>\n",
       "</table>\n",
       "<p>148168 rows × 12 columns</p>\n",
       "</div>"
      ],
      "text/plain": [
       "                         시간 차광스크린_개방조절 차열스크린_온도조절 차열스크린_개방조절 시간범주      일몰전후  \\\n",
       "0       2021-11-26 00:00:00   0%~30%개방      23도미만   0%~30%개방   야간  일몰1시간반_후   \n",
       "1       2021-11-26 00:01:00   0%~30%개방      23도미만   0%~30%개방   야간  일몰1시간반_후   \n",
       "2       2021-11-26 00:02:00   0%~30%개방      23도미만   0%~30%개방   야간  일몰1시간반_후   \n",
       "3       2021-11-26 00:03:00   0%~30%개방      23도미만   0%~30%개방   야간  일몰1시간반_후   \n",
       "4       2021-11-26 00:04:00   0%~30%개방      23도미만   0%~30%개방   야간  일몰1시간반_후   \n",
       "...                     ...        ...        ...        ...  ...       ...   \n",
       "148163  2022-03-20 23:55:00   0%~30%개방      23도미만   0%~30%개방   야간  일몰1시간반_후   \n",
       "148164  2022-03-20 23:56:00   0%~30%개방      23도미만   0%~30%개방   야간  일몰1시간반_후   \n",
       "148165  2022-03-20 23:57:00   0%~30%개방      23도미만   0%~30%개방   야간  일몰1시간반_후   \n",
       "148166  2022-03-20 23:58:00   0%~30%개방      23도미만   0%~30%개방   야간  일몰1시간반_후   \n",
       "148167  2022-03-20 23:59:00   0%~30%개방      23도미만   0%~30%개방   야간  일몰1시간반_후   \n",
       "\n",
       "       일출일몰 오존등급 아황산가스등급 이산화질소등급 PM10등급 PM25등급  \n",
       "0        일몰   좋음      좋음      좋음     보통     보통  \n",
       "1        일몰   좋음      좋음      좋음     보통     보통  \n",
       "2        일몰   좋음      좋음      좋음     보통     보통  \n",
       "3        일몰   좋음      좋음      좋음     보통     보통  \n",
       "4        일몰   좋음      좋음      좋음     보통     보통  \n",
       "...     ...  ...     ...     ...    ...    ...  \n",
       "148163   일몰   보통      좋음      좋음     좋음     좋음  \n",
       "148164   일몰   보통      좋음      좋음     좋음     좋음  \n",
       "148165   일몰   보통      좋음      좋음     좋음     좋음  \n",
       "148166   일몰   보통      좋음      좋음     좋음     좋음  \n",
       "148167   일몰   보통      좋음      좋음     좋음     좋음  \n",
       "\n",
       "[148168 rows x 12 columns]"
      ]
     },
     "execution_count": 33,
     "metadata": {},
     "output_type": "execute_result"
    }
   ],
   "source": [
    "data[object_no_binary]"
   ]
  },
  {
   "cell_type": "markdown",
   "id": "75fd99a3",
   "metadata": {},
   "source": [
    "### Ordinary 한 Categorical Data Encoding\n",
    "- Ordinary : 차광스크린_개방조절, 차열스크린_온도조절, 차열스크린_개방조절, 오존등급, 아황산가스등급\n",
    "- 나머지 Object 데이터인 시간범주, 일몰전후, 일출일몰은 원핫인코딩"
   ]
  },
  {
   "cell_type": "code",
   "execution_count": 34,
   "id": "04427f4b",
   "metadata": {},
   "outputs": [],
   "source": [
    "data_encode = data.copy()\n",
    "\n",
    "for col in [\"차열스크린_개방조절\"]:\n",
    "    \n",
    "    map_df = pd.DataFrame(index = ['0%~30%개방', '30%~70%개방', '70%~100%개방','100%개방'],\n",
    "                             data = [0,1,2,3],\n",
    "                             columns = [col])[col]\n",
    "    # 인코딩 진행\n",
    "    data_encode[col] = data_encode[col].map(map_df)\n",
    "    \n",
    "for col in [\"차광스크린_개방조절\"]:\n",
    "    \n",
    "    map_df = pd.DataFrame(index = ['0%~30%개방', '30%~80%개방', '80%~100%개방','100%개방'],\n",
    "                             data = [0,1,2,3],\n",
    "                             columns = [col])[col]\n",
    "    # 인코딩 진행\n",
    "    data_encode[col] = data_encode[col].map(map_df)\n",
    "    \n",
    "    \n",
    "for col in [\"차열스크린_온도조절\"]:\n",
    "    \n",
    "    map_df = pd.DataFrame(index = ['23도미만','23도~25도', '25도~26도', '26도이상'],\n",
    "                             data = [0,1,2,3],\n",
    "                             columns = [col])[col]\n",
    "    \n",
    "    # 인코딩 진행\n",
    "    data_encode[col] = data_encode[col].map(map_df)\n",
    "    \n",
    "for col in [\"오존등급\", \"아황산가스등급\",\"이산화질소등급\",\"PM10등급\",\"PM25등급\"]:\n",
    "    \n",
    "    # mapping 하기 위한 DataFrame\n",
    "    map_df = pd.DataFrame(index = sorted(data_encode[col].value_counts().index.values),\n",
    "             data = [i for i in range(len(data_encode[col].value_counts()))],\n",
    "             columns = [col])[col]\n",
    "\n",
    "    # 인코딩 진행\n",
    "    data_encode[col] = data_encode[col].map(map_df)"
   ]
  },
  {
   "cell_type": "code",
   "execution_count": 35,
   "id": "faf08662",
   "metadata": {},
   "outputs": [],
   "source": [
    "data = data_encode.copy()"
   ]
  },
  {
   "cell_type": "code",
   "execution_count": 36,
   "id": "7655cfe2",
   "metadata": {},
   "outputs": [],
   "source": [
    "train = data.iloc[:129448,:]\n",
    "test = data.iloc[129448:,:]"
   ]
  },
  {
   "cell_type": "code",
   "execution_count": 37,
   "id": "e974f1bb",
   "metadata": {},
   "outputs": [
    {
     "data": {
      "text/plain": [
       "0         0.9\n",
       "1         0.9\n",
       "2         0.9\n",
       "3         0.8\n",
       "4         1.0\n",
       "         ... \n",
       "129443    0.9\n",
       "129444    0.8\n",
       "129445    0.8\n",
       "129446    0.8\n",
       "129447    0.8\n",
       "Name: 열공급량(kWh), Length: 129448, dtype: float64"
      ]
     },
     "execution_count": 37,
     "metadata": {},
     "output_type": "execute_result"
    }
   ],
   "source": [
    "train[\"열공급량(kWh)\"]"
   ]
  },
  {
   "cell_type": "markdown",
   "id": "2738dd0b",
   "metadata": {},
   "source": [
    "##### binary categorial 은 원핫인코딩(get_dummies)하지 않기\n",
    "- 희소행렬이 만들어지는 것을 방지하기 위함\n",
    "- 환기온도도 categorical처럼 보이지만 크기 자체에 의미가 있어서 numerical로"
   ]
  },
  {
   "cell_type": "markdown",
   "id": "0da0c512",
   "metadata": {},
   "source": [
    "## 변수 선택 이전 스케일링, 로그변환, 이상치 처리"
   ]
  },
  {
   "cell_type": "markdown",
   "id": "ac292fa7",
   "metadata": {},
   "source": [
    "#### 이상치 대체하기\n",
    "- 스크린 계열 데이터 0 ~ 100이니까 처리하지 않기"
   ]
  },
  {
   "cell_type": "code",
   "execution_count": 38,
   "id": "6e2beb02",
   "metadata": {},
   "outputs": [],
   "source": [
    "def replace_outlier_zscore(df,columns,n):\n",
    "    data = df.copy()\n",
    "    mean = np.mean(data[columns])\n",
    "    std = np.std(data[columns])\n",
    "    score_top = int(n)*std + mean\n",
    "    score_bot = -1*n*std + mean\n",
    "    \n",
    "    def cond1(x):\n",
    "        if x > score_top:\n",
    "            return score_top\n",
    "        if x < score_bot:\n",
    "            return score_bot\n",
    "        else:\n",
    "            return x\n",
    "    data[columns] = data[columns].apply(cond1)\n",
    "    \n",
    "    return data[columns]"
   ]
  },
  {
   "cell_type": "markdown",
   "id": "f2a40aba",
   "metadata": {},
   "source": [
    "#### 일단 column별로 skew 값 먼저 확인하기\n",
    "- 강수량을 제외한 천창, 아황산가스_1시간 데이터만 log 변환해주기"
   ]
  },
  {
   "cell_type": "code",
   "execution_count": 39,
   "id": "783fb467",
   "metadata": {},
   "outputs": [
    {
     "name": "stdout",
     "output_type": "stream",
     "text": [
      "log1p 변환이전 :  4.579098139125924\n",
      "천창\n",
      "log1p 변환이전 :  7.384725752483332\n",
      "누적강수량\n",
      "log1p 변환이전 :  3.13108520363669\n",
      "아황산가스_1시간\n"
     ]
    }
   ],
   "source": [
    "# 왜도 3인 설명변수 log1p 변환\n",
    "for val in ['일사량(W/㎡)','외기온(℃)','외기습도(%)','풍속(m/s)', '풍향(º)','내부 온도','내부 습도','차광스크린(수평)','차열스크린(수평)',\n",
    " '에너지스크린(수평)','에너지스크린(수직)','천창','난방온도(설정온도)','누적강수량','현지기압','해면기압','PM10_1시간','PM25_1시간',\n",
    " '오존_1시간','이산화질소_1시간','일산화탄소_1시간','아황산가스_1시간','지면온도']:\n",
    "    if abs(data[val].skew()) > 2:\n",
    "        print(\"log1p 변환이전 : \",abs(data[val].skew()))\n",
    "        print(val)\n"
   ]
  },
  {
   "cell_type": "markdown",
   "id": "fb594637",
   "metadata": {},
   "source": [
    "log 변환해주기"
   ]
  },
  {
   "cell_type": "code",
   "execution_count": 40,
   "id": "371e9626",
   "metadata": {},
   "outputs": [],
   "source": [
    "for val in [\"천창\",\"아황산가스_1시간\"]:\n",
    "    data[val] = np.log1p(data[val])"
   ]
  },
  {
   "cell_type": "markdown",
   "id": "6f017da5",
   "metadata": {},
   "source": [
    "이상치 대체하는 함수\n",
    "- 강수량는 제외하고 진행하기"
   ]
  },
  {
   "cell_type": "markdown",
   "id": "30c03922",
   "metadata": {},
   "source": [
    "for col in ['일사량(W/㎡)','외기온(℃)','외기습도(%)','풍속(m/s)', '풍향(º)','내부 온도','내부 습도',\n",
    "            '난방온도(설정온도)','현지기압','해면기압','PM10_1시간','PM25_1시간',\n",
    " '오존_1시간','이산화질소_1시간','일산화탄소_1시간','아황산가스_1시간','지면온도']:\n",
    "    \n",
    "    data[col+\"_scale\"] = data[col]"
   ]
  },
  {
   "cell_type": "markdown",
   "id": "7c5c5405",
   "metadata": {},
   "source": [
    "for col in ['일사량(W/㎡)','외기온(℃)','외기습도(%)','풍속(m/s)', '풍향(º)','내부 온도','내부 습도',\n",
    "            '난방온도(설정온도)','현지기압','해면기압','PM10_1시간','PM25_1시간',\n",
    " '오존_1시간','이산화질소_1시간','일산화탄소_1시간','아황산가스_1시간','지면온도']:\n",
    "    \n",
    "    data[col+\"_scale\"] = replace_outlier_zscore(data,col+\"_scale\",3)"
   ]
  },
  {
   "cell_type": "markdown",
   "id": "07f0ffb1",
   "metadata": {},
   "source": [
    "len(['일사량(W/㎡)','외기온(℃)','외기습도(%)','풍속(m/s)', '풍향(º)','내부 온도','내부 습도',\n",
    "            '난방온도(설정온도)','누적강수량','현지기압','해면기압','PM10_1시간','PM25_1시간',\n",
    " '오존_1시간','이산화질소_1시간','일산화탄소_1시간','아황산가스_1시간','지면온도'])"
   ]
  },
  {
   "cell_type": "markdown",
   "id": "56fad0b3",
   "metadata": {},
   "source": [
    "이상치 개수 확인"
   ]
  },
  {
   "cell_type": "code",
   "execution_count": 108,
   "id": "04344ea8",
   "metadata": {
    "scrolled": true
   },
   "outputs": [
    {
     "name": "stdout",
     "output_type": "stream",
     "text": [
      "일사량(W/㎡)\n",
      "이상치 비율 :  0.35500242967442364\n",
      " ---------------------------------------------- \n",
      "외기온(℃)\n",
      "이상치 비율 :  0.22541979374763782\n",
      " ---------------------------------------------- \n",
      "풍속(m/s)\n",
      "이상치 비율 :  1.6596026132498245\n",
      " ---------------------------------------------- \n",
      "내부 온도\n",
      "이상치 비율 :  0.06816586577398628\n",
      " ---------------------------------------------- \n",
      "내부 습도\n",
      "이상치 비율 :  0.8773824307542789\n",
      " ---------------------------------------------- \n",
      "누적강수량\n",
      "이상치 비율 :  1.9565628205820422\n",
      " ---------------------------------------------- \n",
      "현지기압\n",
      "이상치 비율 :  0.6195669780249446\n",
      " ---------------------------------------------- \n",
      "해면기압\n",
      "이상치 비율 :  0.6087684250310459\n",
      " ---------------------------------------------- \n",
      "PM10_1시간\n",
      "이상치 비율 :  1.5705145510501592\n",
      " ---------------------------------------------- \n",
      "PM25_1시간\n",
      "이상치 비율 :  1.4071864370174396\n",
      " ---------------------------------------------- \n",
      "오존_1시간\n",
      "이상치 비율 :  0.20247286863560285\n",
      " ---------------------------------------------- \n",
      "이산화질소_1시간\n",
      "이상치 비율 :  0.3624264348577291\n",
      " ---------------------------------------------- \n",
      "일산화탄소_1시간\n",
      "이상치 비율 :  1.4578046541763403\n",
      " ---------------------------------------------- \n",
      "아황산가스_1시간\n",
      "이상치 비율 :  2.140813131040441\n",
      " ---------------------------------------------- \n",
      "지면온도\n",
      "이상치 비율 :  2.429674423627234\n",
      " ---------------------------------------------- \n"
     ]
    }
   ],
   "source": [
    "for col in ['일사량(W/㎡)','외기온(℃)','외기습도(%)','풍속(m/s)', '풍향(º)','내부 온도','내부 습도',\n",
    "            '난방온도(설정온도)','누적강수량','현지기압','해면기압','PM10_1시간','PM25_1시간',\n",
    " '오존_1시간','이산화질소_1시간','일산화탄소_1시간','아황산가스_1시간','지면온도']:\n",
    "    \n",
    "    if (data[col] == data[col+\"_scale\"]).sum() == 148168:\n",
    "        pass\n",
    "    else:\n",
    "        print(col)\n",
    "        print(\"이상치 비율 : \",(148168 - (data[col] == data[col+\"_scale\"]).sum()) / 148168 * 100)\n",
    "        print(\" ---------------------------------------------- \")\n",
    "        \n",
    "    data.drop([col+\"_scale\"],axis=1,inplace=True)"
   ]
  },
  {
   "cell_type": "markdown",
   "id": "b314f209",
   "metadata": {},
   "source": [
    "#### 1. 숫자형 데이터 스케일링 진행\n",
    "- 컬럼별로 스케일링 진행\n",
    "- 스크린 계열 데이터 스케일링 진행하기"
   ]
  },
  {
   "cell_type": "code",
   "execution_count": 41,
   "id": "b260112d",
   "metadata": {},
   "outputs": [],
   "source": [
    "from sklearn.preprocessing import StandardScaler, MinMaxScaler"
   ]
  },
  {
   "cell_type": "code",
   "execution_count": 42,
   "id": "65eb5fb6",
   "metadata": {},
   "outputs": [
    {
     "data": {
      "text/html": [
       "<div>\n",
       "<style scoped>\n",
       "    .dataframe tbody tr th:only-of-type {\n",
       "        vertical-align: middle;\n",
       "    }\n",
       "\n",
       "    .dataframe tbody tr th {\n",
       "        vertical-align: top;\n",
       "    }\n",
       "\n",
       "    .dataframe thead th {\n",
       "        text-align: right;\n",
       "    }\n",
       "</style>\n",
       "<table border=\"1\" class=\"dataframe\">\n",
       "  <thead>\n",
       "    <tr style=\"text-align: right;\">\n",
       "      <th></th>\n",
       "      <th>시간</th>\n",
       "      <th>년도</th>\n",
       "      <th>월</th>\n",
       "      <th>시</th>\n",
       "      <th>일사량(W/㎡)</th>\n",
       "      <th>외기온(℃)</th>\n",
       "      <th>외기습도(%)</th>\n",
       "      <th>풍속(m/s)</th>\n",
       "      <th>풍향(º)</th>\n",
       "      <th>내부 온도</th>\n",
       "      <th>내부 습도</th>\n",
       "      <th>차광스크린(수평)</th>\n",
       "      <th>차열스크린(수평)</th>\n",
       "      <th>에너지스크린(수평)</th>\n",
       "      <th>에너지스크린(수직)</th>\n",
       "      <th>배기팬</th>\n",
       "      <th>천창</th>\n",
       "      <th>유동팬</th>\n",
       "      <th>팬코일 B동</th>\n",
       "      <th>환기온도(천창 제어온도)</th>\n",
       "      <th>난방온도(설정온도)</th>\n",
       "      <th>열공급량(kWh)</th>\n",
       "      <th>누적강수량</th>\n",
       "      <th>현지기압</th>\n",
       "      <th>해면기압</th>\n",
       "      <th>일조</th>\n",
       "      <th>PM10_1시간</th>\n",
       "      <th>PM25_1시간</th>\n",
       "      <th>오존_1시간</th>\n",
       "      <th>이산화질소_1시간</th>\n",
       "      <th>일산화탄소_1시간</th>\n",
       "      <th>아황산가스_1시간</th>\n",
       "      <th>차광스크린_개방</th>\n",
       "      <th>차광스크린_개방조절</th>\n",
       "      <th>차열스크린_온도조절</th>\n",
       "      <th>차열스크린_개방조절</th>\n",
       "      <th>일출3시간후</th>\n",
       "      <th>일출1시간후</th>\n",
       "      <th>일몰3시간후</th>\n",
       "      <th>일몰1시간반전</th>\n",
       "      <th>하루길이</th>\n",
       "      <th>시간범주</th>\n",
       "      <th>일몰전후</th>\n",
       "      <th>일출일몰</th>\n",
       "      <th>지면온도</th>\n",
       "      <th>오존등급</th>\n",
       "      <th>아황산가스등급</th>\n",
       "      <th>이산화질소등급</th>\n",
       "      <th>PM10등급</th>\n",
       "      <th>PM25등급</th>\n",
       "      <th>이슬점</th>\n",
       "      <th>hour_float</th>\n",
       "      <th>cos_time</th>\n",
       "      <th>sin_time</th>\n",
       "      <th>일출시간_float</th>\n",
       "      <th>일몰시간_float</th>\n",
       "      <th>zenith</th>\n",
       "      <th>altitude</th>\n",
       "      <th>시간대별_평균열공급량</th>\n",
       "      <th>시간대별_열공급량표준편차</th>\n",
       "    </tr>\n",
       "  </thead>\n",
       "  <tbody>\n",
       "    <tr>\n",
       "      <th>0</th>\n",
       "      <td>2021-11-26 00:00:00</td>\n",
       "      <td>2021</td>\n",
       "      <td>11</td>\n",
       "      <td>0</td>\n",
       "      <td>0.0</td>\n",
       "      <td>5.8</td>\n",
       "      <td>67</td>\n",
       "      <td>0.0</td>\n",
       "      <td>325</td>\n",
       "      <td>18.3</td>\n",
       "      <td>62.0</td>\n",
       "      <td>0</td>\n",
       "      <td>0</td>\n",
       "      <td>0</td>\n",
       "      <td>0</td>\n",
       "      <td>0</td>\n",
       "      <td>0.0</td>\n",
       "      <td>1</td>\n",
       "      <td>0.0</td>\n",
       "      <td>28</td>\n",
       "      <td>18.0</td>\n",
       "      <td>0.9</td>\n",
       "      <td>0.0</td>\n",
       "      <td>1018.2</td>\n",
       "      <td>1021.9</td>\n",
       "      <td>29180.0</td>\n",
       "      <td>33.0</td>\n",
       "      <td>22.0</td>\n",
       "      <td>0.003</td>\n",
       "      <td>0.028</td>\n",
       "      <td>0.4</td>\n",
       "      <td>0.002996</td>\n",
       "      <td>0</td>\n",
       "      <td>0</td>\n",
       "      <td>0</td>\n",
       "      <td>0</td>\n",
       "      <td>1013</td>\n",
       "      <td>813</td>\n",
       "      <td>2017</td>\n",
       "      <td>1547</td>\n",
       "      <td>1004</td>\n",
       "      <td>야간</td>\n",
       "      <td>일몰1시간반_후</td>\n",
       "      <td>일몰</td>\n",
       "      <td>2.7</td>\n",
       "      <td>1</td>\n",
       "      <td>1</td>\n",
       "      <td>2</td>\n",
       "      <td>1</td>\n",
       "      <td>1</td>\n",
       "      <td>10.889913</td>\n",
       "      <td>0.000000</td>\n",
       "      <td>1.000000</td>\n",
       "      <td>0.000000</td>\n",
       "      <td>7.216667</td>\n",
       "      <td>17.283333</td>\n",
       "      <td>231.228926</td>\n",
       "      <td>-141.228926</td>\n",
       "      <td>0.473398</td>\n",
       "      <td>0.248416</td>\n",
       "    </tr>\n",
       "    <tr>\n",
       "      <th>1</th>\n",
       "      <td>2021-11-26 00:01:00</td>\n",
       "      <td>2021</td>\n",
       "      <td>11</td>\n",
       "      <td>0</td>\n",
       "      <td>0.0</td>\n",
       "      <td>5.8</td>\n",
       "      <td>67</td>\n",
       "      <td>0.4</td>\n",
       "      <td>344</td>\n",
       "      <td>18.1</td>\n",
       "      <td>63.4</td>\n",
       "      <td>0</td>\n",
       "      <td>0</td>\n",
       "      <td>0</td>\n",
       "      <td>0</td>\n",
       "      <td>0</td>\n",
       "      <td>0.0</td>\n",
       "      <td>1</td>\n",
       "      <td>0.0</td>\n",
       "      <td>28</td>\n",
       "      <td>18.0</td>\n",
       "      <td>0.9</td>\n",
       "      <td>0.0</td>\n",
       "      <td>1018.2</td>\n",
       "      <td>1021.9</td>\n",
       "      <td>0.0</td>\n",
       "      <td>33.0</td>\n",
       "      <td>22.0</td>\n",
       "      <td>0.003</td>\n",
       "      <td>0.028</td>\n",
       "      <td>0.4</td>\n",
       "      <td>0.002996</td>\n",
       "      <td>0</td>\n",
       "      <td>0</td>\n",
       "      <td>0</td>\n",
       "      <td>0</td>\n",
       "      <td>1013</td>\n",
       "      <td>813</td>\n",
       "      <td>2017</td>\n",
       "      <td>1547</td>\n",
       "      <td>1004</td>\n",
       "      <td>야간</td>\n",
       "      <td>일몰1시간반_후</td>\n",
       "      <td>일몰</td>\n",
       "      <td>2.7</td>\n",
       "      <td>1</td>\n",
       "      <td>1</td>\n",
       "      <td>2</td>\n",
       "      <td>1</td>\n",
       "      <td>1</td>\n",
       "      <td>11.037352</td>\n",
       "      <td>0.016667</td>\n",
       "      <td>0.999990</td>\n",
       "      <td>0.004363</td>\n",
       "      <td>7.216667</td>\n",
       "      <td>17.283333</td>\n",
       "      <td>230.739259</td>\n",
       "      <td>-140.739259</td>\n",
       "      <td>0.473398</td>\n",
       "      <td>0.248416</td>\n",
       "    </tr>\n",
       "    <tr>\n",
       "      <th>2</th>\n",
       "      <td>2021-11-26 00:02:00</td>\n",
       "      <td>2021</td>\n",
       "      <td>11</td>\n",
       "      <td>0</td>\n",
       "      <td>0.0</td>\n",
       "      <td>5.7</td>\n",
       "      <td>67</td>\n",
       "      <td>0.9</td>\n",
       "      <td>105</td>\n",
       "      <td>17.7</td>\n",
       "      <td>65.2</td>\n",
       "      <td>0</td>\n",
       "      <td>0</td>\n",
       "      <td>0</td>\n",
       "      <td>0</td>\n",
       "      <td>0</td>\n",
       "      <td>0.0</td>\n",
       "      <td>1</td>\n",
       "      <td>1.0</td>\n",
       "      <td>28</td>\n",
       "      <td>18.0</td>\n",
       "      <td>0.9</td>\n",
       "      <td>0.0</td>\n",
       "      <td>1018.1</td>\n",
       "      <td>1021.8</td>\n",
       "      <td>0.0</td>\n",
       "      <td>33.0</td>\n",
       "      <td>22.0</td>\n",
       "      <td>0.003</td>\n",
       "      <td>0.028</td>\n",
       "      <td>0.4</td>\n",
       "      <td>0.002996</td>\n",
       "      <td>0</td>\n",
       "      <td>0</td>\n",
       "      <td>0</td>\n",
       "      <td>0</td>\n",
       "      <td>1013</td>\n",
       "      <td>813</td>\n",
       "      <td>2017</td>\n",
       "      <td>1547</td>\n",
       "      <td>1004</td>\n",
       "      <td>야간</td>\n",
       "      <td>일몰1시간반_후</td>\n",
       "      <td>일몰</td>\n",
       "      <td>2.7</td>\n",
       "      <td>1</td>\n",
       "      <td>1</td>\n",
       "      <td>2</td>\n",
       "      <td>1</td>\n",
       "      <td>1</td>\n",
       "      <td>11.080268</td>\n",
       "      <td>0.033333</td>\n",
       "      <td>0.999962</td>\n",
       "      <td>0.008727</td>\n",
       "      <td>7.216667</td>\n",
       "      <td>17.283333</td>\n",
       "      <td>230.250259</td>\n",
       "      <td>-140.250259</td>\n",
       "      <td>0.473398</td>\n",
       "      <td>0.248416</td>\n",
       "    </tr>\n",
       "    <tr>\n",
       "      <th>3</th>\n",
       "      <td>2021-11-26 00:03:00</td>\n",
       "      <td>2021</td>\n",
       "      <td>11</td>\n",
       "      <td>0</td>\n",
       "      <td>0.0</td>\n",
       "      <td>5.7</td>\n",
       "      <td>67</td>\n",
       "      <td>1.3</td>\n",
       "      <td>123</td>\n",
       "      <td>17.7</td>\n",
       "      <td>63.9</td>\n",
       "      <td>0</td>\n",
       "      <td>0</td>\n",
       "      <td>0</td>\n",
       "      <td>0</td>\n",
       "      <td>0</td>\n",
       "      <td>0.0</td>\n",
       "      <td>1</td>\n",
       "      <td>1.0</td>\n",
       "      <td>28</td>\n",
       "      <td>18.0</td>\n",
       "      <td>0.8</td>\n",
       "      <td>0.0</td>\n",
       "      <td>1018.1</td>\n",
       "      <td>1021.8</td>\n",
       "      <td>0.0</td>\n",
       "      <td>33.0</td>\n",
       "      <td>22.0</td>\n",
       "      <td>0.003</td>\n",
       "      <td>0.028</td>\n",
       "      <td>0.4</td>\n",
       "      <td>0.002996</td>\n",
       "      <td>0</td>\n",
       "      <td>0</td>\n",
       "      <td>0</td>\n",
       "      <td>0</td>\n",
       "      <td>1013</td>\n",
       "      <td>813</td>\n",
       "      <td>2017</td>\n",
       "      <td>1547</td>\n",
       "      <td>1004</td>\n",
       "      <td>야간</td>\n",
       "      <td>일몰1시간반_후</td>\n",
       "      <td>일몰</td>\n",
       "      <td>2.7</td>\n",
       "      <td>1</td>\n",
       "      <td>1</td>\n",
       "      <td>2</td>\n",
       "      <td>1</td>\n",
       "      <td>1</td>\n",
       "      <td>10.776831</td>\n",
       "      <td>0.050000</td>\n",
       "      <td>0.999914</td>\n",
       "      <td>0.013090</td>\n",
       "      <td>7.216667</td>\n",
       "      <td>17.283333</td>\n",
       "      <td>229.761926</td>\n",
       "      <td>-139.761926</td>\n",
       "      <td>0.473398</td>\n",
       "      <td>0.248416</td>\n",
       "    </tr>\n",
       "    <tr>\n",
       "      <th>4</th>\n",
       "      <td>2021-11-26 00:04:00</td>\n",
       "      <td>2021</td>\n",
       "      <td>11</td>\n",
       "      <td>0</td>\n",
       "      <td>0.0</td>\n",
       "      <td>5.7</td>\n",
       "      <td>67</td>\n",
       "      <td>0.9</td>\n",
       "      <td>123</td>\n",
       "      <td>17.6</td>\n",
       "      <td>64.7</td>\n",
       "      <td>0</td>\n",
       "      <td>0</td>\n",
       "      <td>0</td>\n",
       "      <td>0</td>\n",
       "      <td>0</td>\n",
       "      <td>0.0</td>\n",
       "      <td>1</td>\n",
       "      <td>1.0</td>\n",
       "      <td>28</td>\n",
       "      <td>18.0</td>\n",
       "      <td>1.0</td>\n",
       "      <td>0.0</td>\n",
       "      <td>1018.1</td>\n",
       "      <td>1021.8</td>\n",
       "      <td>0.0</td>\n",
       "      <td>33.0</td>\n",
       "      <td>22.0</td>\n",
       "      <td>0.003</td>\n",
       "      <td>0.028</td>\n",
       "      <td>0.4</td>\n",
       "      <td>0.002996</td>\n",
       "      <td>0</td>\n",
       "      <td>0</td>\n",
       "      <td>0</td>\n",
       "      <td>0</td>\n",
       "      <td>1013</td>\n",
       "      <td>813</td>\n",
       "      <td>2017</td>\n",
       "      <td>1547</td>\n",
       "      <td>1004</td>\n",
       "      <td>야간</td>\n",
       "      <td>일몰1시간반_후</td>\n",
       "      <td>일몰</td>\n",
       "      <td>2.7</td>\n",
       "      <td>1</td>\n",
       "      <td>1</td>\n",
       "      <td>2</td>\n",
       "      <td>1</td>\n",
       "      <td>1</td>\n",
       "      <td>10.869295</td>\n",
       "      <td>0.066667</td>\n",
       "      <td>0.999848</td>\n",
       "      <td>0.017452</td>\n",
       "      <td>7.216667</td>\n",
       "      <td>17.283333</td>\n",
       "      <td>229.274259</td>\n",
       "      <td>-139.274259</td>\n",
       "      <td>0.473398</td>\n",
       "      <td>0.248416</td>\n",
       "    </tr>\n",
       "  </tbody>\n",
       "</table>\n",
       "</div>"
      ],
      "text/plain": [
       "                    시간    년도   월  시  일사량(W/㎡)  외기온(℃)  외기습도(%)  풍속(m/s)  \\\n",
       "0  2021-11-26 00:00:00  2021  11  0       0.0     5.8       67      0.0   \n",
       "1  2021-11-26 00:01:00  2021  11  0       0.0     5.8       67      0.4   \n",
       "2  2021-11-26 00:02:00  2021  11  0       0.0     5.7       67      0.9   \n",
       "3  2021-11-26 00:03:00  2021  11  0       0.0     5.7       67      1.3   \n",
       "4  2021-11-26 00:04:00  2021  11  0       0.0     5.7       67      0.9   \n",
       "\n",
       "   풍향(º)  내부 온도  내부 습도  차광스크린(수평)  차열스크린(수평)  에너지스크린(수평)  에너지스크린(수직)  배기팬  \\\n",
       "0    325   18.3   62.0          0          0           0           0    0   \n",
       "1    344   18.1   63.4          0          0           0           0    0   \n",
       "2    105   17.7   65.2          0          0           0           0    0   \n",
       "3    123   17.7   63.9          0          0           0           0    0   \n",
       "4    123   17.6   64.7          0          0           0           0    0   \n",
       "\n",
       "    천창  유동팬  팬코일 B동  환기온도(천창 제어온도)  난방온도(설정온도)  열공급량(kWh)  누적강수량    현지기압  \\\n",
       "0  0.0    1     0.0             28        18.0        0.9    0.0  1018.2   \n",
       "1  0.0    1     0.0             28        18.0        0.9    0.0  1018.2   \n",
       "2  0.0    1     1.0             28        18.0        0.9    0.0  1018.1   \n",
       "3  0.0    1     1.0             28        18.0        0.8    0.0  1018.1   \n",
       "4  0.0    1     1.0             28        18.0        1.0    0.0  1018.1   \n",
       "\n",
       "     해면기압       일조  PM10_1시간  PM25_1시간  오존_1시간  이산화질소_1시간  일산화탄소_1시간  \\\n",
       "0  1021.9  29180.0      33.0      22.0   0.003      0.028        0.4   \n",
       "1  1021.9      0.0      33.0      22.0   0.003      0.028        0.4   \n",
       "2  1021.8      0.0      33.0      22.0   0.003      0.028        0.4   \n",
       "3  1021.8      0.0      33.0      22.0   0.003      0.028        0.4   \n",
       "4  1021.8      0.0      33.0      22.0   0.003      0.028        0.4   \n",
       "\n",
       "   아황산가스_1시간  차광스크린_개방  차광스크린_개방조절  차열스크린_온도조절  차열스크린_개방조절  일출3시간후  일출1시간후  \\\n",
       "0   0.002996         0           0           0           0    1013     813   \n",
       "1   0.002996         0           0           0           0    1013     813   \n",
       "2   0.002996         0           0           0           0    1013     813   \n",
       "3   0.002996         0           0           0           0    1013     813   \n",
       "4   0.002996         0           0           0           0    1013     813   \n",
       "\n",
       "   일몰3시간후  일몰1시간반전  하루길이 시간범주      일몰전후 일출일몰  지면온도  오존등급  아황산가스등급  이산화질소등급  \\\n",
       "0    2017     1547  1004   야간  일몰1시간반_후   일몰   2.7     1        1        2   \n",
       "1    2017     1547  1004   야간  일몰1시간반_후   일몰   2.7     1        1        2   \n",
       "2    2017     1547  1004   야간  일몰1시간반_후   일몰   2.7     1        1        2   \n",
       "3    2017     1547  1004   야간  일몰1시간반_후   일몰   2.7     1        1        2   \n",
       "4    2017     1547  1004   야간  일몰1시간반_후   일몰   2.7     1        1        2   \n",
       "\n",
       "   PM10등급  PM25등급        이슬점  hour_float  cos_time  sin_time  일출시간_float  \\\n",
       "0       1       1  10.889913    0.000000  1.000000  0.000000    7.216667   \n",
       "1       1       1  11.037352    0.016667  0.999990  0.004363    7.216667   \n",
       "2       1       1  11.080268    0.033333  0.999962  0.008727    7.216667   \n",
       "3       1       1  10.776831    0.050000  0.999914  0.013090    7.216667   \n",
       "4       1       1  10.869295    0.066667  0.999848  0.017452    7.216667   \n",
       "\n",
       "   일몰시간_float      zenith    altitude  시간대별_평균열공급량  시간대별_열공급량표준편차  \n",
       "0   17.283333  231.228926 -141.228926     0.473398       0.248416  \n",
       "1   17.283333  230.739259 -140.739259     0.473398       0.248416  \n",
       "2   17.283333  230.250259 -140.250259     0.473398       0.248416  \n",
       "3   17.283333  229.761926 -139.761926     0.473398       0.248416  \n",
       "4   17.283333  229.274259 -139.274259     0.473398       0.248416  "
      ]
     },
     "execution_count": 42,
     "metadata": {},
     "output_type": "execute_result"
    }
   ],
   "source": [
    "data.head()"
   ]
  },
  {
   "cell_type": "markdown",
   "id": "a552fad4",
   "metadata": {},
   "source": [
    "MeanEncoding으로 모든 데이터가 numeric으로 변했으니 min,max?"
   ]
  },
  {
   "cell_type": "code",
   "execution_count": 43,
   "id": "49acd52a",
   "metadata": {},
   "outputs": [],
   "source": [
    "for val in [x for x in data.columns if x not in [\"열공급량(kWh)\",\"시간\",\"시간범주\",\"일출일몰\",\"일몰전후\"]]:\n",
    "\n",
    "    minmax = MinMaxScaler()\n",
    "    \n",
    "    data_scaled = minmax.fit_transform(data[val].values.reshape(-1,1))\n",
    "    data[val] = data_scaled"
   ]
  },
  {
   "cell_type": "code",
   "execution_count": 44,
   "id": "7b905293",
   "metadata": {},
   "outputs": [
    {
     "data": {
      "text/html": [
       "<div>\n",
       "<style scoped>\n",
       "    .dataframe tbody tr th:only-of-type {\n",
       "        vertical-align: middle;\n",
       "    }\n",
       "\n",
       "    .dataframe tbody tr th {\n",
       "        vertical-align: top;\n",
       "    }\n",
       "\n",
       "    .dataframe thead th {\n",
       "        text-align: right;\n",
       "    }\n",
       "</style>\n",
       "<table border=\"1\" class=\"dataframe\">\n",
       "  <thead>\n",
       "    <tr style=\"text-align: right;\">\n",
       "      <th></th>\n",
       "      <th>시간</th>\n",
       "      <th>년도</th>\n",
       "      <th>월</th>\n",
       "      <th>시</th>\n",
       "      <th>일사량(W/㎡)</th>\n",
       "      <th>외기온(℃)</th>\n",
       "      <th>외기습도(%)</th>\n",
       "      <th>풍속(m/s)</th>\n",
       "      <th>풍향(º)</th>\n",
       "      <th>내부 온도</th>\n",
       "      <th>내부 습도</th>\n",
       "      <th>차광스크린(수평)</th>\n",
       "      <th>차열스크린(수평)</th>\n",
       "      <th>에너지스크린(수평)</th>\n",
       "      <th>에너지스크린(수직)</th>\n",
       "      <th>배기팬</th>\n",
       "      <th>천창</th>\n",
       "      <th>유동팬</th>\n",
       "      <th>팬코일 B동</th>\n",
       "      <th>환기온도(천창 제어온도)</th>\n",
       "      <th>난방온도(설정온도)</th>\n",
       "      <th>열공급량(kWh)</th>\n",
       "      <th>누적강수량</th>\n",
       "      <th>현지기압</th>\n",
       "      <th>해면기압</th>\n",
       "      <th>일조</th>\n",
       "      <th>PM10_1시간</th>\n",
       "      <th>PM25_1시간</th>\n",
       "      <th>오존_1시간</th>\n",
       "      <th>이산화질소_1시간</th>\n",
       "      <th>일산화탄소_1시간</th>\n",
       "      <th>아황산가스_1시간</th>\n",
       "      <th>차광스크린_개방</th>\n",
       "      <th>차광스크린_개방조절</th>\n",
       "      <th>차열스크린_온도조절</th>\n",
       "      <th>차열스크린_개방조절</th>\n",
       "      <th>일출3시간후</th>\n",
       "      <th>일출1시간후</th>\n",
       "      <th>일몰3시간후</th>\n",
       "      <th>일몰1시간반전</th>\n",
       "      <th>하루길이</th>\n",
       "      <th>시간범주</th>\n",
       "      <th>일몰전후</th>\n",
       "      <th>일출일몰</th>\n",
       "      <th>지면온도</th>\n",
       "      <th>오존등급</th>\n",
       "      <th>아황산가스등급</th>\n",
       "      <th>이산화질소등급</th>\n",
       "      <th>PM10등급</th>\n",
       "      <th>PM25등급</th>\n",
       "      <th>이슬점</th>\n",
       "      <th>hour_float</th>\n",
       "      <th>cos_time</th>\n",
       "      <th>sin_time</th>\n",
       "      <th>일출시간_float</th>\n",
       "      <th>일몰시간_float</th>\n",
       "      <th>zenith</th>\n",
       "      <th>altitude</th>\n",
       "      <th>시간대별_평균열공급량</th>\n",
       "      <th>시간대별_열공급량표준편차</th>\n",
       "    </tr>\n",
       "  </thead>\n",
       "  <tbody>\n",
       "    <tr>\n",
       "      <th>0</th>\n",
       "      <td>2021-11-26 00:00:00</td>\n",
       "      <td>0.0</td>\n",
       "      <td>0.909091</td>\n",
       "      <td>0.0</td>\n",
       "      <td>0.0</td>\n",
       "      <td>0.495238</td>\n",
       "      <td>0.643678</td>\n",
       "      <td>0.000000</td>\n",
       "      <td>0.901408</td>\n",
       "      <td>0.359322</td>\n",
       "      <td>0.485804</td>\n",
       "      <td>0.0</td>\n",
       "      <td>0.0</td>\n",
       "      <td>0.0</td>\n",
       "      <td>0.0</td>\n",
       "      <td>0.0</td>\n",
       "      <td>0.0</td>\n",
       "      <td>1.0</td>\n",
       "      <td>0.0</td>\n",
       "      <td>0.333333</td>\n",
       "      <td>0.5</td>\n",
       "      <td>0.9</td>\n",
       "      <td>0.0</td>\n",
       "      <td>0.506494</td>\n",
       "      <td>0.506452</td>\n",
       "      <td>0.757607</td>\n",
       "      <td>0.264957</td>\n",
       "      <td>0.283784</td>\n",
       "      <td>0.02381</td>\n",
       "      <td>0.320513</td>\n",
       "      <td>0.142857</td>\n",
       "      <td>0.040477</td>\n",
       "      <td>0.0</td>\n",
       "      <td>0.0</td>\n",
       "      <td>0.0</td>\n",
       "      <td>0.0</td>\n",
       "      <td>0.771429</td>\n",
       "      <td>0.771429</td>\n",
       "      <td>0.016129</td>\n",
       "      <td>0.012195</td>\n",
       "      <td>0.219231</td>\n",
       "      <td>야간</td>\n",
       "      <td>일몰1시간반_후</td>\n",
       "      <td>일몰</td>\n",
       "      <td>0.254545</td>\n",
       "      <td>1.0</td>\n",
       "      <td>1.0</td>\n",
       "      <td>1.0</td>\n",
       "      <td>0.5</td>\n",
       "      <td>0.5</td>\n",
       "      <td>0.216039</td>\n",
       "      <td>0.000000</td>\n",
       "      <td>1.000000</td>\n",
       "      <td>0.500000</td>\n",
       "      <td>0.630769</td>\n",
       "      <td>0.02381</td>\n",
       "      <td>0.935993</td>\n",
       "      <td>0.064007</td>\n",
       "      <td>0.914205</td>\n",
       "      <td>0.332737</td>\n",
       "    </tr>\n",
       "    <tr>\n",
       "      <th>1</th>\n",
       "      <td>2021-11-26 00:01:00</td>\n",
       "      <td>0.0</td>\n",
       "      <td>0.909091</td>\n",
       "      <td>0.0</td>\n",
       "      <td>0.0</td>\n",
       "      <td>0.495238</td>\n",
       "      <td>0.643678</td>\n",
       "      <td>0.024242</td>\n",
       "      <td>0.954930</td>\n",
       "      <td>0.352542</td>\n",
       "      <td>0.507886</td>\n",
       "      <td>0.0</td>\n",
       "      <td>0.0</td>\n",
       "      <td>0.0</td>\n",
       "      <td>0.0</td>\n",
       "      <td>0.0</td>\n",
       "      <td>0.0</td>\n",
       "      <td>1.0</td>\n",
       "      <td>0.0</td>\n",
       "      <td>0.333333</td>\n",
       "      <td>0.5</td>\n",
       "      <td>0.9</td>\n",
       "      <td>0.0</td>\n",
       "      <td>0.506494</td>\n",
       "      <td>0.506452</td>\n",
       "      <td>0.000000</td>\n",
       "      <td>0.264957</td>\n",
       "      <td>0.283784</td>\n",
       "      <td>0.02381</td>\n",
       "      <td>0.320513</td>\n",
       "      <td>0.142857</td>\n",
       "      <td>0.040477</td>\n",
       "      <td>0.0</td>\n",
       "      <td>0.0</td>\n",
       "      <td>0.0</td>\n",
       "      <td>0.0</td>\n",
       "      <td>0.771429</td>\n",
       "      <td>0.771429</td>\n",
       "      <td>0.016129</td>\n",
       "      <td>0.012195</td>\n",
       "      <td>0.219231</td>\n",
       "      <td>야간</td>\n",
       "      <td>일몰1시간반_후</td>\n",
       "      <td>일몰</td>\n",
       "      <td>0.254545</td>\n",
       "      <td>1.0</td>\n",
       "      <td>1.0</td>\n",
       "      <td>1.0</td>\n",
       "      <td>0.5</td>\n",
       "      <td>0.5</td>\n",
       "      <td>0.221648</td>\n",
       "      <td>0.000695</td>\n",
       "      <td>0.999995</td>\n",
       "      <td>0.502182</td>\n",
       "      <td>0.630769</td>\n",
       "      <td>0.02381</td>\n",
       "      <td>0.933628</td>\n",
       "      <td>0.066372</td>\n",
       "      <td>0.914205</td>\n",
       "      <td>0.332737</td>\n",
       "    </tr>\n",
       "    <tr>\n",
       "      <th>2</th>\n",
       "      <td>2021-11-26 00:02:00</td>\n",
       "      <td>0.0</td>\n",
       "      <td>0.909091</td>\n",
       "      <td>0.0</td>\n",
       "      <td>0.0</td>\n",
       "      <td>0.492063</td>\n",
       "      <td>0.643678</td>\n",
       "      <td>0.054545</td>\n",
       "      <td>0.281690</td>\n",
       "      <td>0.338983</td>\n",
       "      <td>0.536278</td>\n",
       "      <td>0.0</td>\n",
       "      <td>0.0</td>\n",
       "      <td>0.0</td>\n",
       "      <td>0.0</td>\n",
       "      <td>0.0</td>\n",
       "      <td>0.0</td>\n",
       "      <td>1.0</td>\n",
       "      <td>1.0</td>\n",
       "      <td>0.333333</td>\n",
       "      <td>0.5</td>\n",
       "      <td>0.9</td>\n",
       "      <td>0.0</td>\n",
       "      <td>0.503247</td>\n",
       "      <td>0.503226</td>\n",
       "      <td>0.000000</td>\n",
       "      <td>0.264957</td>\n",
       "      <td>0.283784</td>\n",
       "      <td>0.02381</td>\n",
       "      <td>0.320513</td>\n",
       "      <td>0.142857</td>\n",
       "      <td>0.040477</td>\n",
       "      <td>0.0</td>\n",
       "      <td>0.0</td>\n",
       "      <td>0.0</td>\n",
       "      <td>0.0</td>\n",
       "      <td>0.771429</td>\n",
       "      <td>0.771429</td>\n",
       "      <td>0.016129</td>\n",
       "      <td>0.012195</td>\n",
       "      <td>0.219231</td>\n",
       "      <td>야간</td>\n",
       "      <td>일몰1시간반_후</td>\n",
       "      <td>일몰</td>\n",
       "      <td>0.254545</td>\n",
       "      <td>1.0</td>\n",
       "      <td>1.0</td>\n",
       "      <td>1.0</td>\n",
       "      <td>0.5</td>\n",
       "      <td>0.5</td>\n",
       "      <td>0.223281</td>\n",
       "      <td>0.001390</td>\n",
       "      <td>0.999981</td>\n",
       "      <td>0.504363</td>\n",
       "      <td>0.630769</td>\n",
       "      <td>0.02381</td>\n",
       "      <td>0.931266</td>\n",
       "      <td>0.068734</td>\n",
       "      <td>0.914205</td>\n",
       "      <td>0.332737</td>\n",
       "    </tr>\n",
       "  </tbody>\n",
       "</table>\n",
       "</div>"
      ],
      "text/plain": [
       "                    시간   년도         월    시  일사량(W/㎡)    외기온(℃)   외기습도(%)  \\\n",
       "0  2021-11-26 00:00:00  0.0  0.909091  0.0       0.0  0.495238  0.643678   \n",
       "1  2021-11-26 00:01:00  0.0  0.909091  0.0       0.0  0.495238  0.643678   \n",
       "2  2021-11-26 00:02:00  0.0  0.909091  0.0       0.0  0.492063  0.643678   \n",
       "\n",
       "    풍속(m/s)     풍향(º)     내부 온도     내부 습도  차광스크린(수평)  차열스크린(수평)  에너지스크린(수평)  \\\n",
       "0  0.000000  0.901408  0.359322  0.485804        0.0        0.0         0.0   \n",
       "1  0.024242  0.954930  0.352542  0.507886        0.0        0.0         0.0   \n",
       "2  0.054545  0.281690  0.338983  0.536278        0.0        0.0         0.0   \n",
       "\n",
       "   에너지스크린(수직)  배기팬   천창  유동팬  팬코일 B동  환기온도(천창 제어온도)  난방온도(설정온도)  열공급량(kWh)  \\\n",
       "0         0.0  0.0  0.0  1.0     0.0       0.333333         0.5        0.9   \n",
       "1         0.0  0.0  0.0  1.0     0.0       0.333333         0.5        0.9   \n",
       "2         0.0  0.0  0.0  1.0     1.0       0.333333         0.5        0.9   \n",
       "\n",
       "   누적강수량      현지기압      해면기압        일조  PM10_1시간  PM25_1시간   오존_1시간  \\\n",
       "0    0.0  0.506494  0.506452  0.757607  0.264957  0.283784  0.02381   \n",
       "1    0.0  0.506494  0.506452  0.000000  0.264957  0.283784  0.02381   \n",
       "2    0.0  0.503247  0.503226  0.000000  0.264957  0.283784  0.02381   \n",
       "\n",
       "   이산화질소_1시간  일산화탄소_1시간  아황산가스_1시간  차광스크린_개방  차광스크린_개방조절  차열스크린_온도조절  \\\n",
       "0   0.320513   0.142857   0.040477       0.0         0.0         0.0   \n",
       "1   0.320513   0.142857   0.040477       0.0         0.0         0.0   \n",
       "2   0.320513   0.142857   0.040477       0.0         0.0         0.0   \n",
       "\n",
       "   차열스크린_개방조절    일출3시간후    일출1시간후    일몰3시간후   일몰1시간반전      하루길이 시간범주  \\\n",
       "0         0.0  0.771429  0.771429  0.016129  0.012195  0.219231   야간   \n",
       "1         0.0  0.771429  0.771429  0.016129  0.012195  0.219231   야간   \n",
       "2         0.0  0.771429  0.771429  0.016129  0.012195  0.219231   야간   \n",
       "\n",
       "       일몰전후 일출일몰      지면온도  오존등급  아황산가스등급  이산화질소등급  PM10등급  PM25등급       이슬점  \\\n",
       "0  일몰1시간반_후   일몰  0.254545   1.0      1.0      1.0     0.5     0.5  0.216039   \n",
       "1  일몰1시간반_후   일몰  0.254545   1.0      1.0      1.0     0.5     0.5  0.221648   \n",
       "2  일몰1시간반_후   일몰  0.254545   1.0      1.0      1.0     0.5     0.5  0.223281   \n",
       "\n",
       "   hour_float  cos_time  sin_time  일출시간_float  일몰시간_float    zenith  altitude  \\\n",
       "0    0.000000  1.000000  0.500000    0.630769     0.02381  0.935993  0.064007   \n",
       "1    0.000695  0.999995  0.502182    0.630769     0.02381  0.933628  0.066372   \n",
       "2    0.001390  0.999981  0.504363    0.630769     0.02381  0.931266  0.068734   \n",
       "\n",
       "   시간대별_평균열공급량  시간대별_열공급량표준편차  \n",
       "0     0.914205       0.332737  \n",
       "1     0.914205       0.332737  \n",
       "2     0.914205       0.332737  "
      ]
     },
     "execution_count": 44,
     "metadata": {},
     "output_type": "execute_result"
    }
   ],
   "source": [
    "data.head(3)"
   ]
  },
  {
   "cell_type": "markdown",
   "id": "0613e8e2",
   "metadata": {},
   "source": [
    "------------------------------------------------------------------------------------------------------------------------------------"
   ]
  },
  {
   "cell_type": "markdown",
   "id": "7f01d231",
   "metadata": {},
   "source": [
    "\"배기팬\",\"유동팬\",\"팬코일 B동\",\"환기온도(천창 제어온도)\" 카테고리열 데이터로 스케일링 필요없음\n",
    "- 환기온도는 numerical로 보면 필요한 것 같기도..."
   ]
  },
  {
   "cell_type": "markdown",
   "id": "5f171f8f",
   "metadata": {},
   "source": [
    "#### 1.1 데이터 처리하기\n",
    "- 학습용 데이터 : ~2022.03\n",
    "- 예측용 데이터 : 2022.03~"
   ]
  },
  {
   "cell_type": "markdown",
   "id": "ded1cad9",
   "metadata": {},
   "source": [
    "X 데이터 처리하기\n",
    "- dummy 처리\n",
    "- 왜도 처리"
   ]
  },
  {
   "cell_type": "code",
   "execution_count": 45,
   "id": "154babbc",
   "metadata": {},
   "outputs": [],
   "source": [
    "data_scaled = data.copy()"
   ]
  },
  {
   "cell_type": "code",
   "execution_count": 46,
   "id": "1746261d",
   "metadata": {},
   "outputs": [
    {
     "data": {
      "text/plain": [
       "(148168, 60)"
      ]
     },
     "execution_count": 46,
     "metadata": {},
     "output_type": "execute_result"
    }
   ],
   "source": [
    "data_scaled.shape"
   ]
  },
  {
   "cell_type": "code",
   "execution_count": 47,
   "id": "0385cf93",
   "metadata": {},
   "outputs": [],
   "source": [
    "# 년도 데이터를 numerical로 처리하기\n",
    "Y = data_scaled[\"열공급량(kWh)\"]\n",
    "\n",
    "X_dummy = data_scaled.drop(\"열공급량(kWh)\",axis=1)\n",
    "X_dummy = X_dummy.drop([\"시간\"],axis=1)\n",
    "X_dummy = pd.get_dummies(X_dummy,columns = [\"일출일몰\",\"일몰전후\",\"시간범주\"])"
   ]
  },
  {
   "cell_type": "markdown",
   "id": "1f715270",
   "metadata": {},
   "source": [
    "Y값 맨끝으로 위치시키기"
   ]
  },
  {
   "cell_type": "markdown",
   "id": "1f8e0925",
   "metadata": {},
   "source": [
    "#### 등급 데이터 다 빼보기"
   ]
  },
  {
   "cell_type": "code",
   "execution_count": 71,
   "id": "6a3be142",
   "metadata": {},
   "outputs": [],
   "source": [
    "data_scaled_final = pd.concat([X_dummy, Y], axis = 1)"
   ]
  },
  {
   "cell_type": "code",
   "execution_count": 72,
   "id": "204e193a",
   "metadata": {},
   "outputs": [
    {
     "data": {
      "text/plain": [
       "Index(['년도', '월', '시', '일사량(W/㎡)', '외기온(℃)', '외기습도(%)', '풍속(m/s)', '풍향(º)',\n",
       "       '내부 온도', '내부 습도', '차광스크린(수평)', '차열스크린(수평)', '에너지스크린(수평)', '에너지스크린(수직)',\n",
       "       '배기팬', '천창', '유동팬', '팬코일 B동', '환기온도(천창 제어온도)', '난방온도(설정온도)', '누적강수량',\n",
       "       '현지기압', '해면기압', '일조', 'PM10_1시간', 'PM25_1시간', '오존_1시간', '이산화질소_1시간',\n",
       "       '일산화탄소_1시간', '아황산가스_1시간', '차광스크린_개방', '차광스크린_개방조절', '차열스크린_온도조절',\n",
       "       '차열스크린_개방조절', '일출3시간후', '일출1시간후', '일몰3시간후', '일몰1시간반전', '하루길이', '지면온도',\n",
       "       '오존등급', '아황산가스등급', '이산화질소등급', 'PM10등급', 'PM25등급', '이슬점', 'hour_float',\n",
       "       'cos_time', 'sin_time', '일출시간_float', '일몰시간_float', 'zenith',\n",
       "       'altitude', '시간대별_평균열공급량', '시간대별_열공급량표준편차', '일출일몰_일몰', '일출일몰_일출',\n",
       "       '일몰전후_일몰1시간반_전', '일몰전후_일몰1시간반_후', '시간범주_그외', '시간범주_야간', '시간범주_주간'],\n",
       "      dtype='object')"
      ]
     },
     "execution_count": 72,
     "metadata": {},
     "output_type": "execute_result"
    }
   ],
   "source": [
    "X_dummy.columns"
   ]
  },
  {
   "cell_type": "markdown",
   "id": "57416313",
   "metadata": {},
   "source": [
    "#### 범주 관련 변수들 다 제거해보기"
   ]
  },
  {
   "cell_type": "code",
   "execution_count": 73,
   "id": "efc7f132",
   "metadata": {},
   "outputs": [],
   "source": [
    "data_scaled_final = data_scaled_final.drop(['오존등급', '아황산가스등급', '이산화질소등급', 'PM10등급', 'PM25등급',\n",
    "                                           \"해면기압\",\"일출일몰_일출\",\"일몰전후_일몰1시간반_전\",\"일출일몰_일몰\",\n",
    "                                           \"일몰전후_일몰1시간반_후\",\"시간범주_그외\",\"시간범주_야간\",\n",
    "                                           \"시간범주_주간\",\"일출3시간후\",\"일출1시간후\",\"일몰3시간후\",\"일몰1시간반전\",\"시\",\n",
    "                                           \"해면기압\",\"일조\",\"altitude\"],axis=1)"
   ]
  },
  {
   "cell_type": "code",
   "execution_count": 74,
   "id": "1cb215a0",
   "metadata": {},
   "outputs": [],
   "source": [
    "train_data = data_scaled_final.iloc[:129448,:]\n",
    "\n",
    "test_data = data_scaled_final.iloc[129448:,:]"
   ]
  },
  {
   "cell_type": "markdown",
   "id": "592589e9",
   "metadata": {},
   "source": [
    "### VIF 수치확인해보기"
   ]
  },
  {
   "cell_type": "code",
   "execution_count": 75,
   "id": "b4db29c0",
   "metadata": {},
   "outputs": [
    {
     "data": {
      "text/html": [
       "<div>\n",
       "<style scoped>\n",
       "    .dataframe tbody tr th:only-of-type {\n",
       "        vertical-align: middle;\n",
       "    }\n",
       "\n",
       "    .dataframe tbody tr th {\n",
       "        vertical-align: top;\n",
       "    }\n",
       "\n",
       "    .dataframe thead th {\n",
       "        text-align: right;\n",
       "    }\n",
       "</style>\n",
       "<table border=\"1\" class=\"dataframe\">\n",
       "  <thead>\n",
       "    <tr style=\"text-align: right;\">\n",
       "      <th></th>\n",
       "      <th>년도</th>\n",
       "      <th>월</th>\n",
       "      <th>일사량(W/㎡)</th>\n",
       "      <th>외기온(℃)</th>\n",
       "      <th>외기습도(%)</th>\n",
       "      <th>풍속(m/s)</th>\n",
       "      <th>풍향(º)</th>\n",
       "      <th>내부 온도</th>\n",
       "      <th>내부 습도</th>\n",
       "      <th>차광스크린(수평)</th>\n",
       "      <th>...</th>\n",
       "      <th>이슬점</th>\n",
       "      <th>hour_float</th>\n",
       "      <th>cos_time</th>\n",
       "      <th>sin_time</th>\n",
       "      <th>일출시간_float</th>\n",
       "      <th>일몰시간_float</th>\n",
       "      <th>zenith</th>\n",
       "      <th>시간대별_평균열공급량</th>\n",
       "      <th>시간대별_열공급량표준편차</th>\n",
       "      <th>열공급량(kWh)</th>\n",
       "    </tr>\n",
       "  </thead>\n",
       "  <tbody>\n",
       "    <tr>\n",
       "      <th>0</th>\n",
       "      <td>0.0</td>\n",
       "      <td>0.909091</td>\n",
       "      <td>0.0</td>\n",
       "      <td>0.495238</td>\n",
       "      <td>0.643678</td>\n",
       "      <td>0.000000</td>\n",
       "      <td>0.901408</td>\n",
       "      <td>0.359322</td>\n",
       "      <td>0.485804</td>\n",
       "      <td>0.0</td>\n",
       "      <td>...</td>\n",
       "      <td>0.216039</td>\n",
       "      <td>0.000000</td>\n",
       "      <td>1.000000</td>\n",
       "      <td>0.500000</td>\n",
       "      <td>0.630769</td>\n",
       "      <td>0.02381</td>\n",
       "      <td>0.935993</td>\n",
       "      <td>0.914205</td>\n",
       "      <td>0.332737</td>\n",
       "      <td>0.9</td>\n",
       "    </tr>\n",
       "    <tr>\n",
       "      <th>1</th>\n",
       "      <td>0.0</td>\n",
       "      <td>0.909091</td>\n",
       "      <td>0.0</td>\n",
       "      <td>0.495238</td>\n",
       "      <td>0.643678</td>\n",
       "      <td>0.024242</td>\n",
       "      <td>0.954930</td>\n",
       "      <td>0.352542</td>\n",
       "      <td>0.507886</td>\n",
       "      <td>0.0</td>\n",
       "      <td>...</td>\n",
       "      <td>0.221648</td>\n",
       "      <td>0.000695</td>\n",
       "      <td>0.999995</td>\n",
       "      <td>0.502182</td>\n",
       "      <td>0.630769</td>\n",
       "      <td>0.02381</td>\n",
       "      <td>0.933628</td>\n",
       "      <td>0.914205</td>\n",
       "      <td>0.332737</td>\n",
       "      <td>0.9</td>\n",
       "    </tr>\n",
       "    <tr>\n",
       "      <th>2</th>\n",
       "      <td>0.0</td>\n",
       "      <td>0.909091</td>\n",
       "      <td>0.0</td>\n",
       "      <td>0.492063</td>\n",
       "      <td>0.643678</td>\n",
       "      <td>0.054545</td>\n",
       "      <td>0.281690</td>\n",
       "      <td>0.338983</td>\n",
       "      <td>0.536278</td>\n",
       "      <td>0.0</td>\n",
       "      <td>...</td>\n",
       "      <td>0.223281</td>\n",
       "      <td>0.001390</td>\n",
       "      <td>0.999981</td>\n",
       "      <td>0.504363</td>\n",
       "      <td>0.630769</td>\n",
       "      <td>0.02381</td>\n",
       "      <td>0.931266</td>\n",
       "      <td>0.914205</td>\n",
       "      <td>0.332737</td>\n",
       "      <td>0.9</td>\n",
       "    </tr>\n",
       "  </tbody>\n",
       "</table>\n",
       "<p>3 rows × 43 columns</p>\n",
       "</div>"
      ],
      "text/plain": [
       "    년도         월  일사량(W/㎡)    외기온(℃)   외기습도(%)   풍속(m/s)     풍향(º)     내부 온도  \\\n",
       "0  0.0  0.909091       0.0  0.495238  0.643678  0.000000  0.901408  0.359322   \n",
       "1  0.0  0.909091       0.0  0.495238  0.643678  0.024242  0.954930  0.352542   \n",
       "2  0.0  0.909091       0.0  0.492063  0.643678  0.054545  0.281690  0.338983   \n",
       "\n",
       "      내부 습도  차광스크린(수평)  ...       이슬점  hour_float  cos_time  sin_time  \\\n",
       "0  0.485804        0.0  ...  0.216039    0.000000  1.000000  0.500000   \n",
       "1  0.507886        0.0  ...  0.221648    0.000695  0.999995  0.502182   \n",
       "2  0.536278        0.0  ...  0.223281    0.001390  0.999981  0.504363   \n",
       "\n",
       "   일출시간_float  일몰시간_float    zenith  시간대별_평균열공급량  시간대별_열공급량표준편차  열공급량(kWh)  \n",
       "0    0.630769     0.02381  0.935993     0.914205       0.332737        0.9  \n",
       "1    0.630769     0.02381  0.933628     0.914205       0.332737        0.9  \n",
       "2    0.630769     0.02381  0.931266     0.914205       0.332737        0.9  \n",
       "\n",
       "[3 rows x 43 columns]"
      ]
     },
     "execution_count": 75,
     "metadata": {},
     "output_type": "execute_result"
    }
   ],
   "source": [
    "train_data.head(3)"
   ]
  },
  {
   "cell_type": "code",
   "execution_count": 76,
   "id": "8e9e4a7f",
   "metadata": {
    "scrolled": false
   },
   "outputs": [
    {
     "name": "stdout",
     "output_type": "stream",
     "text": [
      "    VIF_Factor        Feature\n",
      "0      1157.88             년도\n",
      "1       561.16              월\n",
      "2        19.86       일사량(W/㎡)\n",
      "3        49.51         외기온(℃)\n",
      "4        26.01        외기습도(%)\n",
      "5         2.97        풍속(m/s)\n",
      "6         4.25          풍향(º)\n",
      "7      2323.16          내부 온도\n",
      "8      1290.29          내부 습도\n",
      "9       331.66      차광스크린(수평)\n",
      "10      521.54      차열스크린(수평)\n",
      "11       15.51     에너지스크린(수평)\n",
      "12       19.45     에너지스크린(수직)\n",
      "13        2.46            배기팬\n",
      "14        4.70             천창\n",
      "15       30.31            유동팬\n",
      "16        4.87         팬코일 B동\n",
      "17       10.96  환기온도(천창 제어온도)\n",
      "18       77.88     난방온도(설정온도)\n",
      "19        1.30          누적강수량\n",
      "20       35.30           현지기압\n",
      "21       67.31       PM10_1시간\n",
      "22       60.41       PM25_1시간\n",
      "23       31.92         오존_1시간\n",
      "24       26.74      이산화질소_1시간\n",
      "25       12.46      일산화탄소_1시간\n",
      "26        3.73      아황산가스_1시간\n",
      "27        2.90       차광스크린_개방\n",
      "28      348.70     차광스크린_개방조절\n",
      "29       15.86     차열스크린_온도조절\n",
      "30      479.71     차열스크린_개방조절\n",
      "31       61.54           하루길이\n",
      "32       20.23           지면온도\n",
      "33     1306.40            이슬점\n",
      "34       17.97     hour_float\n",
      "35      222.47       cos_time\n",
      "36       52.79       sin_time\n",
      "37      226.58     일출시간_float\n",
      "38      119.50     일몰시간_float\n",
      "39      106.69         zenith\n",
      "40       60.33    시간대별_평균열공급량\n",
      "41       44.26  시간대별_열공급량표준편차\n"
     ]
    }
   ],
   "source": [
    "X_train = train_data.iloc[:129448,:].drop(\"열공급량(kWh)\",axis=1)\n",
    "\n",
    "from statsmodels.stats.outliers_influence import variance_inflation_factor\n",
    "def feature_engineering_XbyVIF(X_train):\n",
    "    vif = pd.DataFrame()\n",
    "    vif['VIF_Factor'] = [variance_inflation_factor(X_train.values, i)\n",
    "                         for i in range(X_train.shape[1])]\n",
    "    vif['Feature'] = X_train.columns\n",
    "    return vif\n",
    "\n",
    "vif = feature_engineering_XbyVIF(X_train)\n",
    "vif['VIF_Factor'] = vif['VIF_Factor'].apply(lambda x : round(x,2))\n",
    "print(vif)"
   ]
  },
  {
   "cell_type": "markdown",
   "id": "23b7623e",
   "metadata": {},
   "source": [
    "#### VIF 100 넘는 것들을 우선적으로 제외하고, VIF 수치에 개선이 있나봤는데 오히려 더 심하다\n",
    "- 그냥 10 넘는 것들을 제외하자"
   ]
  },
  {
   "cell_type": "code",
   "execution_count": 77,
   "id": "353095d4",
   "metadata": {},
   "outputs": [
    {
     "data": {
      "text/plain": [
       "array(['풍속(m/s)', '풍향(º)', '배기팬', '천창', '팬코일 B동', '누적강수량', '아황산가스_1시간',\n",
       "       '차광스크린_개방'], dtype=object)"
      ]
     },
     "execution_count": 77,
     "metadata": {},
     "output_type": "execute_result"
    }
   ],
   "source": [
    "vif_select_variables = vif[vif[\"VIF_Factor\"] < 10][\"Feature\"].values\n",
    "vif_select_variables"
   ]
  },
  {
   "cell_type": "markdown",
   "id": "018bd210",
   "metadata": {},
   "source": [
    "### 선택된 변수 기반의 예측"
   ]
  },
  {
   "cell_type": "markdown",
   "id": "c5c0dfc4",
   "metadata": {},
   "source": [
    "- selected_variables : backward로 변수선택\n",
    "- selected_variables : stepwise로 변수선택\n",
    "- 2가지 경우 존재"
   ]
  },
  {
   "cell_type": "code",
   "execution_count": 78,
   "id": "734a6d95",
   "metadata": {},
   "outputs": [],
   "source": [
    "# VIF 선택\n",
    "x_train = train_data.drop([\"열공급량(kWh)\"],axis=1)[vif_select_variables]\n",
    "y_train = train_data[\"열공급량(kWh)\"]\n",
    "\n",
    "x_test = test_data.drop([\"열공급량(kWh)\"],axis=1)[vif_select_variables]\n",
    "y_test = test_data[\"열공급량(kWh)\"]"
   ]
  },
  {
   "cell_type": "code",
   "execution_count": 79,
   "id": "e37edf7e",
   "metadata": {},
   "outputs": [
    {
     "data": {
      "text/html": [
       "<div>\n",
       "<style scoped>\n",
       "    .dataframe tbody tr th:only-of-type {\n",
       "        vertical-align: middle;\n",
       "    }\n",
       "\n",
       "    .dataframe tbody tr th {\n",
       "        vertical-align: top;\n",
       "    }\n",
       "\n",
       "    .dataframe thead th {\n",
       "        text-align: right;\n",
       "    }\n",
       "</style>\n",
       "<table border=\"1\" class=\"dataframe\">\n",
       "  <thead>\n",
       "    <tr style=\"text-align: right;\">\n",
       "      <th></th>\n",
       "      <th>풍속(m/s)</th>\n",
       "      <th>풍향(º)</th>\n",
       "      <th>배기팬</th>\n",
       "      <th>천창</th>\n",
       "      <th>팬코일 B동</th>\n",
       "      <th>누적강수량</th>\n",
       "      <th>아황산가스_1시간</th>\n",
       "      <th>차광스크린_개방</th>\n",
       "    </tr>\n",
       "  </thead>\n",
       "  <tbody>\n",
       "    <tr>\n",
       "      <th>0</th>\n",
       "      <td>0.000000</td>\n",
       "      <td>0.901408</td>\n",
       "      <td>0.0</td>\n",
       "      <td>0.0</td>\n",
       "      <td>0.0</td>\n",
       "      <td>0.0</td>\n",
       "      <td>0.040477</td>\n",
       "      <td>0.0</td>\n",
       "    </tr>\n",
       "    <tr>\n",
       "      <th>1</th>\n",
       "      <td>0.024242</td>\n",
       "      <td>0.954930</td>\n",
       "      <td>0.0</td>\n",
       "      <td>0.0</td>\n",
       "      <td>0.0</td>\n",
       "      <td>0.0</td>\n",
       "      <td>0.040477</td>\n",
       "      <td>0.0</td>\n",
       "    </tr>\n",
       "    <tr>\n",
       "      <th>2</th>\n",
       "      <td>0.054545</td>\n",
       "      <td>0.281690</td>\n",
       "      <td>0.0</td>\n",
       "      <td>0.0</td>\n",
       "      <td>1.0</td>\n",
       "      <td>0.0</td>\n",
       "      <td>0.040477</td>\n",
       "      <td>0.0</td>\n",
       "    </tr>\n",
       "  </tbody>\n",
       "</table>\n",
       "</div>"
      ],
      "text/plain": [
       "    풍속(m/s)     풍향(º)  배기팬   천창  팬코일 B동  누적강수량  아황산가스_1시간  차광스크린_개방\n",
       "0  0.000000  0.901408  0.0  0.0     0.0    0.0   0.040477       0.0\n",
       "1  0.024242  0.954930  0.0  0.0     0.0    0.0   0.040477       0.0\n",
       "2  0.054545  0.281690  0.0  0.0     1.0    0.0   0.040477       0.0"
      ]
     },
     "execution_count": 79,
     "metadata": {},
     "output_type": "execute_result"
    }
   ],
   "source": [
    "x_train.head(3)"
   ]
  },
  {
   "cell_type": "markdown",
   "id": "971863bc",
   "metadata": {},
   "source": [
    "년월일 데이터 붙이기"
   ]
  },
  {
   "cell_type": "markdown",
   "id": "7d983b38",
   "metadata": {},
   "source": [
    "#### log 변환도 한번 빼보기\n",
    "- log 변환은 해줘야할 듯"
   ]
  },
  {
   "cell_type": "code",
   "execution_count": 80,
   "id": "51d30033",
   "metadata": {},
   "outputs": [
    {
     "data": {
      "text/plain": [
       "(129448, 9)"
      ]
     },
     "execution_count": 80,
     "metadata": {},
     "output_type": "execute_result"
    }
   ],
   "source": [
    "data_transform = pd.concat([x_train,np.log1p(y_train)],axis=1)\n",
    "data_transform.shape"
   ]
  },
  {
   "cell_type": "code",
   "execution_count": 81,
   "id": "414b728a",
   "metadata": {},
   "outputs": [
    {
     "data": {
      "text/plain": [
       "Index(['풍속(m/s)', '풍향(º)', '배기팬', '천창', '팬코일 B동', '누적강수량', '아황산가스_1시간',\n",
       "       '차광스크린_개방', '열공급량(kWh)'],\n",
       "      dtype='object')"
      ]
     },
     "execution_count": 81,
     "metadata": {},
     "output_type": "execute_result"
    }
   ],
   "source": [
    "data_transform.columns"
   ]
  },
  {
   "cell_type": "code",
   "execution_count": 82,
   "id": "18504787",
   "metadata": {},
   "outputs": [
    {
     "data": {
      "text/html": [
       "<style  type=\"text/css\" >\n",
       "#T_978e8_row42_col1{\n",
       "            background-color:  lightgreen;\n",
       "        }</style><table id=\"T_978e8_\" ><thead>    <tr>        <th class=\"blank level0\" ></th>        <th class=\"col_heading level0 col0\" >Description</th>        <th class=\"col_heading level0 col1\" >Value</th>    </tr></thead><tbody>\n",
       "                <tr>\n",
       "                        <th id=\"T_978e8_level0_row0\" class=\"row_heading level0 row0\" >0</th>\n",
       "                        <td id=\"T_978e8_row0_col0\" class=\"data row0 col0\" >session_id</td>\n",
       "                        <td id=\"T_978e8_row0_col1\" class=\"data row0 col1\" >0</td>\n",
       "            </tr>\n",
       "            <tr>\n",
       "                        <th id=\"T_978e8_level0_row1\" class=\"row_heading level0 row1\" >1</th>\n",
       "                        <td id=\"T_978e8_row1_col0\" class=\"data row1 col0\" >Target</td>\n",
       "                        <td id=\"T_978e8_row1_col1\" class=\"data row1 col1\" >열공급량(kWh)</td>\n",
       "            </tr>\n",
       "            <tr>\n",
       "                        <th id=\"T_978e8_level0_row2\" class=\"row_heading level0 row2\" >2</th>\n",
       "                        <td id=\"T_978e8_row2_col0\" class=\"data row2 col0\" >Original Data</td>\n",
       "                        <td id=\"T_978e8_row2_col1\" class=\"data row2 col1\" >(129448, 9)</td>\n",
       "            </tr>\n",
       "            <tr>\n",
       "                        <th id=\"T_978e8_level0_row3\" class=\"row_heading level0 row3\" >3</th>\n",
       "                        <td id=\"T_978e8_row3_col0\" class=\"data row3 col0\" >Missing Values</td>\n",
       "                        <td id=\"T_978e8_row3_col1\" class=\"data row3 col1\" >False</td>\n",
       "            </tr>\n",
       "            <tr>\n",
       "                        <th id=\"T_978e8_level0_row4\" class=\"row_heading level0 row4\" >4</th>\n",
       "                        <td id=\"T_978e8_row4_col0\" class=\"data row4 col0\" >Numeric Features</td>\n",
       "                        <td id=\"T_978e8_row4_col1\" class=\"data row4 col1\" >5</td>\n",
       "            </tr>\n",
       "            <tr>\n",
       "                        <th id=\"T_978e8_level0_row5\" class=\"row_heading level0 row5\" >5</th>\n",
       "                        <td id=\"T_978e8_row5_col0\" class=\"data row5 col0\" >Categorical Features</td>\n",
       "                        <td id=\"T_978e8_row5_col1\" class=\"data row5 col1\" >3</td>\n",
       "            </tr>\n",
       "            <tr>\n",
       "                        <th id=\"T_978e8_level0_row6\" class=\"row_heading level0 row6\" >6</th>\n",
       "                        <td id=\"T_978e8_row6_col0\" class=\"data row6 col0\" >Ordinal Features</td>\n",
       "                        <td id=\"T_978e8_row6_col1\" class=\"data row6 col1\" >False</td>\n",
       "            </tr>\n",
       "            <tr>\n",
       "                        <th id=\"T_978e8_level0_row7\" class=\"row_heading level0 row7\" >7</th>\n",
       "                        <td id=\"T_978e8_row7_col0\" class=\"data row7 col0\" >High Cardinality Features</td>\n",
       "                        <td id=\"T_978e8_row7_col1\" class=\"data row7 col1\" >False</td>\n",
       "            </tr>\n",
       "            <tr>\n",
       "                        <th id=\"T_978e8_level0_row8\" class=\"row_heading level0 row8\" >8</th>\n",
       "                        <td id=\"T_978e8_row8_col0\" class=\"data row8 col0\" >High Cardinality Method</td>\n",
       "                        <td id=\"T_978e8_row8_col1\" class=\"data row8 col1\" >None</td>\n",
       "            </tr>\n",
       "            <tr>\n",
       "                        <th id=\"T_978e8_level0_row9\" class=\"row_heading level0 row9\" >9</th>\n",
       "                        <td id=\"T_978e8_row9_col0\" class=\"data row9 col0\" >Transformed Train Set</td>\n",
       "                        <td id=\"T_978e8_row9_col1\" class=\"data row9 col1\" >(103558, 8)</td>\n",
       "            </tr>\n",
       "            <tr>\n",
       "                        <th id=\"T_978e8_level0_row10\" class=\"row_heading level0 row10\" >10</th>\n",
       "                        <td id=\"T_978e8_row10_col0\" class=\"data row10 col0\" >Transformed Test Set</td>\n",
       "                        <td id=\"T_978e8_row10_col1\" class=\"data row10 col1\" >(25890, 8)</td>\n",
       "            </tr>\n",
       "            <tr>\n",
       "                        <th id=\"T_978e8_level0_row11\" class=\"row_heading level0 row11\" >11</th>\n",
       "                        <td id=\"T_978e8_row11_col0\" class=\"data row11 col0\" >Shuffle Train-Test</td>\n",
       "                        <td id=\"T_978e8_row11_col1\" class=\"data row11 col1\" >True</td>\n",
       "            </tr>\n",
       "            <tr>\n",
       "                        <th id=\"T_978e8_level0_row12\" class=\"row_heading level0 row12\" >12</th>\n",
       "                        <td id=\"T_978e8_row12_col0\" class=\"data row12 col0\" >Stratify Train-Test</td>\n",
       "                        <td id=\"T_978e8_row12_col1\" class=\"data row12 col1\" >False</td>\n",
       "            </tr>\n",
       "            <tr>\n",
       "                        <th id=\"T_978e8_level0_row13\" class=\"row_heading level0 row13\" >13</th>\n",
       "                        <td id=\"T_978e8_row13_col0\" class=\"data row13 col0\" >Fold Generator</td>\n",
       "                        <td id=\"T_978e8_row13_col1\" class=\"data row13 col1\" >TimeSeriesSplit</td>\n",
       "            </tr>\n",
       "            <tr>\n",
       "                        <th id=\"T_978e8_level0_row14\" class=\"row_heading level0 row14\" >14</th>\n",
       "                        <td id=\"T_978e8_row14_col0\" class=\"data row14 col0\" >Fold Number</td>\n",
       "                        <td id=\"T_978e8_row14_col1\" class=\"data row14 col1\" >5</td>\n",
       "            </tr>\n",
       "            <tr>\n",
       "                        <th id=\"T_978e8_level0_row15\" class=\"row_heading level0 row15\" >15</th>\n",
       "                        <td id=\"T_978e8_row15_col0\" class=\"data row15 col0\" >CPU Jobs</td>\n",
       "                        <td id=\"T_978e8_row15_col1\" class=\"data row15 col1\" >-1</td>\n",
       "            </tr>\n",
       "            <tr>\n",
       "                        <th id=\"T_978e8_level0_row16\" class=\"row_heading level0 row16\" >16</th>\n",
       "                        <td id=\"T_978e8_row16_col0\" class=\"data row16 col0\" >Use GPU</td>\n",
       "                        <td id=\"T_978e8_row16_col1\" class=\"data row16 col1\" >False</td>\n",
       "            </tr>\n",
       "            <tr>\n",
       "                        <th id=\"T_978e8_level0_row17\" class=\"row_heading level0 row17\" >17</th>\n",
       "                        <td id=\"T_978e8_row17_col0\" class=\"data row17 col0\" >Log Experiment</td>\n",
       "                        <td id=\"T_978e8_row17_col1\" class=\"data row17 col1\" >False</td>\n",
       "            </tr>\n",
       "            <tr>\n",
       "                        <th id=\"T_978e8_level0_row18\" class=\"row_heading level0 row18\" >18</th>\n",
       "                        <td id=\"T_978e8_row18_col0\" class=\"data row18 col0\" >Experiment Name</td>\n",
       "                        <td id=\"T_978e8_row18_col1\" class=\"data row18 col1\" >reg-default-name</td>\n",
       "            </tr>\n",
       "            <tr>\n",
       "                        <th id=\"T_978e8_level0_row19\" class=\"row_heading level0 row19\" >19</th>\n",
       "                        <td id=\"T_978e8_row19_col0\" class=\"data row19 col0\" >USI</td>\n",
       "                        <td id=\"T_978e8_row19_col1\" class=\"data row19 col1\" >1186</td>\n",
       "            </tr>\n",
       "            <tr>\n",
       "                        <th id=\"T_978e8_level0_row20\" class=\"row_heading level0 row20\" >20</th>\n",
       "                        <td id=\"T_978e8_row20_col0\" class=\"data row20 col0\" >Imputation Type</td>\n",
       "                        <td id=\"T_978e8_row20_col1\" class=\"data row20 col1\" >simple</td>\n",
       "            </tr>\n",
       "            <tr>\n",
       "                        <th id=\"T_978e8_level0_row21\" class=\"row_heading level0 row21\" >21</th>\n",
       "                        <td id=\"T_978e8_row21_col0\" class=\"data row21 col0\" >Iterative Imputation Iteration</td>\n",
       "                        <td id=\"T_978e8_row21_col1\" class=\"data row21 col1\" >None</td>\n",
       "            </tr>\n",
       "            <tr>\n",
       "                        <th id=\"T_978e8_level0_row22\" class=\"row_heading level0 row22\" >22</th>\n",
       "                        <td id=\"T_978e8_row22_col0\" class=\"data row22 col0\" >Numeric Imputer</td>\n",
       "                        <td id=\"T_978e8_row22_col1\" class=\"data row22 col1\" >mean</td>\n",
       "            </tr>\n",
       "            <tr>\n",
       "                        <th id=\"T_978e8_level0_row23\" class=\"row_heading level0 row23\" >23</th>\n",
       "                        <td id=\"T_978e8_row23_col0\" class=\"data row23 col0\" >Iterative Imputation Numeric Model</td>\n",
       "                        <td id=\"T_978e8_row23_col1\" class=\"data row23 col1\" >None</td>\n",
       "            </tr>\n",
       "            <tr>\n",
       "                        <th id=\"T_978e8_level0_row24\" class=\"row_heading level0 row24\" >24</th>\n",
       "                        <td id=\"T_978e8_row24_col0\" class=\"data row24 col0\" >Categorical Imputer</td>\n",
       "                        <td id=\"T_978e8_row24_col1\" class=\"data row24 col1\" >constant</td>\n",
       "            </tr>\n",
       "            <tr>\n",
       "                        <th id=\"T_978e8_level0_row25\" class=\"row_heading level0 row25\" >25</th>\n",
       "                        <td id=\"T_978e8_row25_col0\" class=\"data row25 col0\" >Iterative Imputation Categorical Model</td>\n",
       "                        <td id=\"T_978e8_row25_col1\" class=\"data row25 col1\" >None</td>\n",
       "            </tr>\n",
       "            <tr>\n",
       "                        <th id=\"T_978e8_level0_row26\" class=\"row_heading level0 row26\" >26</th>\n",
       "                        <td id=\"T_978e8_row26_col0\" class=\"data row26 col0\" >Unknown Categoricals Handling</td>\n",
       "                        <td id=\"T_978e8_row26_col1\" class=\"data row26 col1\" >least_frequent</td>\n",
       "            </tr>\n",
       "            <tr>\n",
       "                        <th id=\"T_978e8_level0_row27\" class=\"row_heading level0 row27\" >27</th>\n",
       "                        <td id=\"T_978e8_row27_col0\" class=\"data row27 col0\" >Normalize</td>\n",
       "                        <td id=\"T_978e8_row27_col1\" class=\"data row27 col1\" >False</td>\n",
       "            </tr>\n",
       "            <tr>\n",
       "                        <th id=\"T_978e8_level0_row28\" class=\"row_heading level0 row28\" >28</th>\n",
       "                        <td id=\"T_978e8_row28_col0\" class=\"data row28 col0\" >Normalize Method</td>\n",
       "                        <td id=\"T_978e8_row28_col1\" class=\"data row28 col1\" >None</td>\n",
       "            </tr>\n",
       "            <tr>\n",
       "                        <th id=\"T_978e8_level0_row29\" class=\"row_heading level0 row29\" >29</th>\n",
       "                        <td id=\"T_978e8_row29_col0\" class=\"data row29 col0\" >Transformation</td>\n",
       "                        <td id=\"T_978e8_row29_col1\" class=\"data row29 col1\" >False</td>\n",
       "            </tr>\n",
       "            <tr>\n",
       "                        <th id=\"T_978e8_level0_row30\" class=\"row_heading level0 row30\" >30</th>\n",
       "                        <td id=\"T_978e8_row30_col0\" class=\"data row30 col0\" >Transformation Method</td>\n",
       "                        <td id=\"T_978e8_row30_col1\" class=\"data row30 col1\" >None</td>\n",
       "            </tr>\n",
       "            <tr>\n",
       "                        <th id=\"T_978e8_level0_row31\" class=\"row_heading level0 row31\" >31</th>\n",
       "                        <td id=\"T_978e8_row31_col0\" class=\"data row31 col0\" >PCA</td>\n",
       "                        <td id=\"T_978e8_row31_col1\" class=\"data row31 col1\" >False</td>\n",
       "            </tr>\n",
       "            <tr>\n",
       "                        <th id=\"T_978e8_level0_row32\" class=\"row_heading level0 row32\" >32</th>\n",
       "                        <td id=\"T_978e8_row32_col0\" class=\"data row32 col0\" >PCA Method</td>\n",
       "                        <td id=\"T_978e8_row32_col1\" class=\"data row32 col1\" >None</td>\n",
       "            </tr>\n",
       "            <tr>\n",
       "                        <th id=\"T_978e8_level0_row33\" class=\"row_heading level0 row33\" >33</th>\n",
       "                        <td id=\"T_978e8_row33_col0\" class=\"data row33 col0\" >PCA Components</td>\n",
       "                        <td id=\"T_978e8_row33_col1\" class=\"data row33 col1\" >None</td>\n",
       "            </tr>\n",
       "            <tr>\n",
       "                        <th id=\"T_978e8_level0_row34\" class=\"row_heading level0 row34\" >34</th>\n",
       "                        <td id=\"T_978e8_row34_col0\" class=\"data row34 col0\" >Ignore Low Variance</td>\n",
       "                        <td id=\"T_978e8_row34_col1\" class=\"data row34 col1\" >False</td>\n",
       "            </tr>\n",
       "            <tr>\n",
       "                        <th id=\"T_978e8_level0_row35\" class=\"row_heading level0 row35\" >35</th>\n",
       "                        <td id=\"T_978e8_row35_col0\" class=\"data row35 col0\" >Combine Rare Levels</td>\n",
       "                        <td id=\"T_978e8_row35_col1\" class=\"data row35 col1\" >False</td>\n",
       "            </tr>\n",
       "            <tr>\n",
       "                        <th id=\"T_978e8_level0_row36\" class=\"row_heading level0 row36\" >36</th>\n",
       "                        <td id=\"T_978e8_row36_col0\" class=\"data row36 col0\" >Rare Level Threshold</td>\n",
       "                        <td id=\"T_978e8_row36_col1\" class=\"data row36 col1\" >None</td>\n",
       "            </tr>\n",
       "            <tr>\n",
       "                        <th id=\"T_978e8_level0_row37\" class=\"row_heading level0 row37\" >37</th>\n",
       "                        <td id=\"T_978e8_row37_col0\" class=\"data row37 col0\" >Numeric Binning</td>\n",
       "                        <td id=\"T_978e8_row37_col1\" class=\"data row37 col1\" >False</td>\n",
       "            </tr>\n",
       "            <tr>\n",
       "                        <th id=\"T_978e8_level0_row38\" class=\"row_heading level0 row38\" >38</th>\n",
       "                        <td id=\"T_978e8_row38_col0\" class=\"data row38 col0\" >Remove Outliers</td>\n",
       "                        <td id=\"T_978e8_row38_col1\" class=\"data row38 col1\" >False</td>\n",
       "            </tr>\n",
       "            <tr>\n",
       "                        <th id=\"T_978e8_level0_row39\" class=\"row_heading level0 row39\" >39</th>\n",
       "                        <td id=\"T_978e8_row39_col0\" class=\"data row39 col0\" >Outliers Threshold</td>\n",
       "                        <td id=\"T_978e8_row39_col1\" class=\"data row39 col1\" >None</td>\n",
       "            </tr>\n",
       "            <tr>\n",
       "                        <th id=\"T_978e8_level0_row40\" class=\"row_heading level0 row40\" >40</th>\n",
       "                        <td id=\"T_978e8_row40_col0\" class=\"data row40 col0\" >Remove Multicollinearity</td>\n",
       "                        <td id=\"T_978e8_row40_col1\" class=\"data row40 col1\" >False</td>\n",
       "            </tr>\n",
       "            <tr>\n",
       "                        <th id=\"T_978e8_level0_row41\" class=\"row_heading level0 row41\" >41</th>\n",
       "                        <td id=\"T_978e8_row41_col0\" class=\"data row41 col0\" >Multicollinearity Threshold</td>\n",
       "                        <td id=\"T_978e8_row41_col1\" class=\"data row41 col1\" >None</td>\n",
       "            </tr>\n",
       "            <tr>\n",
       "                        <th id=\"T_978e8_level0_row42\" class=\"row_heading level0 row42\" >42</th>\n",
       "                        <td id=\"T_978e8_row42_col0\" class=\"data row42 col0\" >Remove Perfect Collinearity</td>\n",
       "                        <td id=\"T_978e8_row42_col1\" class=\"data row42 col1\" >True</td>\n",
       "            </tr>\n",
       "            <tr>\n",
       "                        <th id=\"T_978e8_level0_row43\" class=\"row_heading level0 row43\" >43</th>\n",
       "                        <td id=\"T_978e8_row43_col0\" class=\"data row43 col0\" >Clustering</td>\n",
       "                        <td id=\"T_978e8_row43_col1\" class=\"data row43 col1\" >False</td>\n",
       "            </tr>\n",
       "            <tr>\n",
       "                        <th id=\"T_978e8_level0_row44\" class=\"row_heading level0 row44\" >44</th>\n",
       "                        <td id=\"T_978e8_row44_col0\" class=\"data row44 col0\" >Clustering Iteration</td>\n",
       "                        <td id=\"T_978e8_row44_col1\" class=\"data row44 col1\" >None</td>\n",
       "            </tr>\n",
       "            <tr>\n",
       "                        <th id=\"T_978e8_level0_row45\" class=\"row_heading level0 row45\" >45</th>\n",
       "                        <td id=\"T_978e8_row45_col0\" class=\"data row45 col0\" >Polynomial Features</td>\n",
       "                        <td id=\"T_978e8_row45_col1\" class=\"data row45 col1\" >False</td>\n",
       "            </tr>\n",
       "            <tr>\n",
       "                        <th id=\"T_978e8_level0_row46\" class=\"row_heading level0 row46\" >46</th>\n",
       "                        <td id=\"T_978e8_row46_col0\" class=\"data row46 col0\" >Polynomial Degree</td>\n",
       "                        <td id=\"T_978e8_row46_col1\" class=\"data row46 col1\" >None</td>\n",
       "            </tr>\n",
       "            <tr>\n",
       "                        <th id=\"T_978e8_level0_row47\" class=\"row_heading level0 row47\" >47</th>\n",
       "                        <td id=\"T_978e8_row47_col0\" class=\"data row47 col0\" >Trignometry Features</td>\n",
       "                        <td id=\"T_978e8_row47_col1\" class=\"data row47 col1\" >False</td>\n",
       "            </tr>\n",
       "            <tr>\n",
       "                        <th id=\"T_978e8_level0_row48\" class=\"row_heading level0 row48\" >48</th>\n",
       "                        <td id=\"T_978e8_row48_col0\" class=\"data row48 col0\" >Polynomial Threshold</td>\n",
       "                        <td id=\"T_978e8_row48_col1\" class=\"data row48 col1\" >None</td>\n",
       "            </tr>\n",
       "            <tr>\n",
       "                        <th id=\"T_978e8_level0_row49\" class=\"row_heading level0 row49\" >49</th>\n",
       "                        <td id=\"T_978e8_row49_col0\" class=\"data row49 col0\" >Group Features</td>\n",
       "                        <td id=\"T_978e8_row49_col1\" class=\"data row49 col1\" >False</td>\n",
       "            </tr>\n",
       "            <tr>\n",
       "                        <th id=\"T_978e8_level0_row50\" class=\"row_heading level0 row50\" >50</th>\n",
       "                        <td id=\"T_978e8_row50_col0\" class=\"data row50 col0\" >Feature Selection</td>\n",
       "                        <td id=\"T_978e8_row50_col1\" class=\"data row50 col1\" >False</td>\n",
       "            </tr>\n",
       "            <tr>\n",
       "                        <th id=\"T_978e8_level0_row51\" class=\"row_heading level0 row51\" >51</th>\n",
       "                        <td id=\"T_978e8_row51_col0\" class=\"data row51 col0\" >Feature Selection Method</td>\n",
       "                        <td id=\"T_978e8_row51_col1\" class=\"data row51 col1\" >classic</td>\n",
       "            </tr>\n",
       "            <tr>\n",
       "                        <th id=\"T_978e8_level0_row52\" class=\"row_heading level0 row52\" >52</th>\n",
       "                        <td id=\"T_978e8_row52_col0\" class=\"data row52 col0\" >Features Selection Threshold</td>\n",
       "                        <td id=\"T_978e8_row52_col1\" class=\"data row52 col1\" >None</td>\n",
       "            </tr>\n",
       "            <tr>\n",
       "                        <th id=\"T_978e8_level0_row53\" class=\"row_heading level0 row53\" >53</th>\n",
       "                        <td id=\"T_978e8_row53_col0\" class=\"data row53 col0\" >Feature Interaction</td>\n",
       "                        <td id=\"T_978e8_row53_col1\" class=\"data row53 col1\" >False</td>\n",
       "            </tr>\n",
       "            <tr>\n",
       "                        <th id=\"T_978e8_level0_row54\" class=\"row_heading level0 row54\" >54</th>\n",
       "                        <td id=\"T_978e8_row54_col0\" class=\"data row54 col0\" >Feature Ratio</td>\n",
       "                        <td id=\"T_978e8_row54_col1\" class=\"data row54 col1\" >False</td>\n",
       "            </tr>\n",
       "            <tr>\n",
       "                        <th id=\"T_978e8_level0_row55\" class=\"row_heading level0 row55\" >55</th>\n",
       "                        <td id=\"T_978e8_row55_col0\" class=\"data row55 col0\" >Interaction Threshold</td>\n",
       "                        <td id=\"T_978e8_row55_col1\" class=\"data row55 col1\" >None</td>\n",
       "            </tr>\n",
       "            <tr>\n",
       "                        <th id=\"T_978e8_level0_row56\" class=\"row_heading level0 row56\" >56</th>\n",
       "                        <td id=\"T_978e8_row56_col0\" class=\"data row56 col0\" >Transform Target</td>\n",
       "                        <td id=\"T_978e8_row56_col1\" class=\"data row56 col1\" >False</td>\n",
       "            </tr>\n",
       "            <tr>\n",
       "                        <th id=\"T_978e8_level0_row57\" class=\"row_heading level0 row57\" >57</th>\n",
       "                        <td id=\"T_978e8_row57_col0\" class=\"data row57 col0\" >Transform Target Method</td>\n",
       "                        <td id=\"T_978e8_row57_col1\" class=\"data row57 col1\" >box-cox</td>\n",
       "            </tr>\n",
       "    </tbody></table>"
      ],
      "text/plain": [
       "<pandas.io.formats.style.Styler at 0x19007d277f0>"
      ]
     },
     "metadata": {},
     "output_type": "display_data"
    }
   ],
   "source": [
    "# VIF 선택\n",
    "reg_lunch = setup(\n",
    "        data = data_transform,\n",
    "        target='열공급량(kWh)',\n",
    "        train_size = 0.8,\n",
    "        session_id = 0,\n",
    "        data_split_shuffle=True,\n",
    "        fold_strategy = 'timeseries',\n",
    "        #imputation_type='simple',\n",
    "        normalize = False,\n",
    "        #categorical_features = [\"팬코일 B동\",\"배기팬\",\"유동팬\",\"차광스크린_개방\"],\n",
    "        fold = 5,\n",
    "        verbose=True,\n",
    "        transform_target = False,\n",
    "        silent= False, n_jobs= -1)"
   ]
  },
  {
   "cell_type": "code",
   "execution_count": 60,
   "id": "12434a08",
   "metadata": {},
   "outputs": [
    {
     "data": {
      "text/html": [
       "<style  type=\"text/css\" >\n",
       "    #T_2d257_ th {\n",
       "          text-align: left;\n",
       "    }#T_2d257_row0_col0,#T_2d257_row1_col0,#T_2d257_row1_col1,#T_2d257_row1_col2,#T_2d257_row1_col3,#T_2d257_row1_col4,#T_2d257_row1_col5,#T_2d257_row1_col6,#T_2d257_row2_col0,#T_2d257_row2_col1,#T_2d257_row2_col2,#T_2d257_row2_col3,#T_2d257_row2_col4,#T_2d257_row2_col5,#T_2d257_row2_col6,#T_2d257_row3_col0,#T_2d257_row3_col1,#T_2d257_row3_col2,#T_2d257_row3_col3,#T_2d257_row3_col4,#T_2d257_row3_col5,#T_2d257_row3_col6,#T_2d257_row4_col0,#T_2d257_row4_col1,#T_2d257_row4_col2,#T_2d257_row4_col3,#T_2d257_row4_col4,#T_2d257_row4_col5,#T_2d257_row4_col6,#T_2d257_row5_col0,#T_2d257_row5_col1,#T_2d257_row5_col2,#T_2d257_row5_col3,#T_2d257_row5_col4,#T_2d257_row5_col5,#T_2d257_row5_col6,#T_2d257_row6_col0,#T_2d257_row6_col1,#T_2d257_row6_col2,#T_2d257_row6_col3,#T_2d257_row6_col4,#T_2d257_row6_col5,#T_2d257_row6_col6,#T_2d257_row7_col0,#T_2d257_row7_col1,#T_2d257_row7_col2,#T_2d257_row7_col3,#T_2d257_row7_col4,#T_2d257_row7_col5,#T_2d257_row7_col6,#T_2d257_row8_col0,#T_2d257_row8_col1,#T_2d257_row8_col2,#T_2d257_row8_col3,#T_2d257_row8_col4,#T_2d257_row8_col5,#T_2d257_row8_col6,#T_2d257_row9_col0,#T_2d257_row9_col1,#T_2d257_row9_col2,#T_2d257_row9_col3,#T_2d257_row9_col4,#T_2d257_row9_col5,#T_2d257_row9_col6,#T_2d257_row10_col0,#T_2d257_row10_col1,#T_2d257_row10_col2,#T_2d257_row10_col3,#T_2d257_row10_col4,#T_2d257_row10_col5,#T_2d257_row10_col6,#T_2d257_row11_col0,#T_2d257_row11_col1,#T_2d257_row11_col2,#T_2d257_row11_col3,#T_2d257_row11_col4,#T_2d257_row11_col5,#T_2d257_row11_col6,#T_2d257_row12_col0,#T_2d257_row12_col1,#T_2d257_row12_col2,#T_2d257_row12_col3,#T_2d257_row12_col4,#T_2d257_row12_col5,#T_2d257_row12_col6,#T_2d257_row13_col0,#T_2d257_row13_col1,#T_2d257_row13_col2,#T_2d257_row13_col3,#T_2d257_row13_col4,#T_2d257_row13_col5,#T_2d257_row13_col6,#T_2d257_row14_col0,#T_2d257_row14_col1,#T_2d257_row14_col2,#T_2d257_row14_col3,#T_2d257_row14_col4,#T_2d257_row14_col5,#T_2d257_row14_col6,#T_2d257_row15_col0,#T_2d257_row15_col1,#T_2d257_row15_col2,#T_2d257_row15_col3,#T_2d257_row15_col4,#T_2d257_row15_col5,#T_2d257_row15_col6,#T_2d257_row16_col0,#T_2d257_row16_col1,#T_2d257_row16_col2,#T_2d257_row16_col3,#T_2d257_row16_col4,#T_2d257_row16_col5,#T_2d257_row16_col6{\n",
       "            text-align:  left;\n",
       "            text-align:  left;\n",
       "        }#T_2d257_row0_col1,#T_2d257_row0_col2,#T_2d257_row0_col3,#T_2d257_row0_col4,#T_2d257_row0_col5,#T_2d257_row0_col6{\n",
       "            text-align:  left;\n",
       "            text-align:  left;\n",
       "            background-color:  yellow;\n",
       "        }#T_2d257_row0_col7,#T_2d257_row1_col7,#T_2d257_row2_col7,#T_2d257_row3_col7,#T_2d257_row4_col7,#T_2d257_row5_col7,#T_2d257_row6_col7,#T_2d257_row7_col7,#T_2d257_row9_col7,#T_2d257_row10_col7,#T_2d257_row11_col7,#T_2d257_row12_col7,#T_2d257_row13_col7,#T_2d257_row14_col7,#T_2d257_row15_col7,#T_2d257_row16_col7{\n",
       "            text-align:  left;\n",
       "            text-align:  left;\n",
       "            background-color:  lightgrey;\n",
       "        }#T_2d257_row8_col7{\n",
       "            text-align:  left;\n",
       "            text-align:  left;\n",
       "            background-color:  yellow;\n",
       "            background-color:  lightgrey;\n",
       "        }</style><table id=\"T_2d257_\" ><thead>    <tr>        <th class=\"blank level0\" ></th>        <th class=\"col_heading level0 col0\" >Model</th>        <th class=\"col_heading level0 col1\" >MAE</th>        <th class=\"col_heading level0 col2\" >MSE</th>        <th class=\"col_heading level0 col3\" >RMSE</th>        <th class=\"col_heading level0 col4\" >R2</th>        <th class=\"col_heading level0 col5\" >RMSLE</th>        <th class=\"col_heading level0 col6\" >MAPE</th>        <th class=\"col_heading level0 col7\" >TT (Sec)</th>    </tr></thead><tbody>\n",
       "                <tr>\n",
       "                        <th id=\"T_2d257_level0_row0\" class=\"row_heading level0 row0\" >rf</th>\n",
       "                        <td id=\"T_2d257_row0_col0\" class=\"data row0 col0\" >Random Forest Regressor</td>\n",
       "                        <td id=\"T_2d257_row0_col1\" class=\"data row0 col1\" >0.0754</td>\n",
       "                        <td id=\"T_2d257_row0_col2\" class=\"data row0 col2\" >0.0197</td>\n",
       "                        <td id=\"T_2d257_row0_col3\" class=\"data row0 col3\" >0.1401</td>\n",
       "                        <td id=\"T_2d257_row0_col4\" class=\"data row0 col4\" >0.5878</td>\n",
       "                        <td id=\"T_2d257_row0_col5\" class=\"data row0 col5\" >0.1051</td>\n",
       "                        <td id=\"T_2d257_row0_col6\" class=\"data row0 col6\" >0.3622</td>\n",
       "                        <td id=\"T_2d257_row0_col7\" class=\"data row0 col7\" >2.8440</td>\n",
       "            </tr>\n",
       "            <tr>\n",
       "                        <th id=\"T_2d257_level0_row1\" class=\"row_heading level0 row1\" >lightgbm</th>\n",
       "                        <td id=\"T_2d257_row1_col0\" class=\"data row1 col0\" >Light Gradient Boosting Machine</td>\n",
       "                        <td id=\"T_2d257_row1_col1\" class=\"data row1 col1\" >0.0967</td>\n",
       "                        <td id=\"T_2d257_row1_col2\" class=\"data row1 col2\" >0.0214</td>\n",
       "                        <td id=\"T_2d257_row1_col3\" class=\"data row1 col3\" >0.1463</td>\n",
       "                        <td id=\"T_2d257_row1_col4\" class=\"data row1 col4\" >0.5513</td>\n",
       "                        <td id=\"T_2d257_row1_col5\" class=\"data row1 col5\" >0.1106</td>\n",
       "                        <td id=\"T_2d257_row1_col6\" class=\"data row1 col6\" >0.4311</td>\n",
       "                        <td id=\"T_2d257_row1_col7\" class=\"data row1 col7\" >0.3340</td>\n",
       "            </tr>\n",
       "            <tr>\n",
       "                        <th id=\"T_2d257_level0_row2\" class=\"row_heading level0 row2\" >et</th>\n",
       "                        <td id=\"T_2d257_row2_col0\" class=\"data row2 col0\" >Extra Trees Regressor</td>\n",
       "                        <td id=\"T_2d257_row2_col1\" class=\"data row2 col1\" >0.0766</td>\n",
       "                        <td id=\"T_2d257_row2_col2\" class=\"data row2 col2\" >0.0223</td>\n",
       "                        <td id=\"T_2d257_row2_col3\" class=\"data row2 col3\" >0.1492</td>\n",
       "                        <td id=\"T_2d257_row2_col4\" class=\"data row2 col4\" >0.5329</td>\n",
       "                        <td id=\"T_2d257_row2_col5\" class=\"data row2 col5\" >0.1118</td>\n",
       "                        <td id=\"T_2d257_row2_col6\" class=\"data row2 col6\" >0.3686</td>\n",
       "                        <td id=\"T_2d257_row2_col7\" class=\"data row2 col7\" >1.8780</td>\n",
       "            </tr>\n",
       "            <tr>\n",
       "                        <th id=\"T_2d257_level0_row3\" class=\"row_heading level0 row3\" >knn</th>\n",
       "                        <td id=\"T_2d257_row3_col0\" class=\"data row3 col0\" >K Neighbors Regressor</td>\n",
       "                        <td id=\"T_2d257_row3_col1\" class=\"data row3 col1\" >0.0898</td>\n",
       "                        <td id=\"T_2d257_row3_col2\" class=\"data row3 col2\" >0.0239</td>\n",
       "                        <td id=\"T_2d257_row3_col3\" class=\"data row3 col3\" >0.1544</td>\n",
       "                        <td id=\"T_2d257_row3_col4\" class=\"data row3 col4\" >0.5000</td>\n",
       "                        <td id=\"T_2d257_row3_col5\" class=\"data row3 col5\" >0.1165</td>\n",
       "                        <td id=\"T_2d257_row3_col6\" class=\"data row3 col6\" >0.4205</td>\n",
       "                        <td id=\"T_2d257_row3_col7\" class=\"data row3 col7\" >0.8320</td>\n",
       "            </tr>\n",
       "            <tr>\n",
       "                        <th id=\"T_2d257_level0_row4\" class=\"row_heading level0 row4\" >gbr</th>\n",
       "                        <td id=\"T_2d257_row4_col0\" class=\"data row4 col0\" >Gradient Boosting Regressor</td>\n",
       "                        <td id=\"T_2d257_row4_col1\" class=\"data row4 col1\" >0.1170</td>\n",
       "                        <td id=\"T_2d257_row4_col2\" class=\"data row4 col2\" >0.0272</td>\n",
       "                        <td id=\"T_2d257_row4_col3\" class=\"data row4 col3\" >0.1648</td>\n",
       "                        <td id=\"T_2d257_row4_col4\" class=\"data row4 col4\" >0.4306</td>\n",
       "                        <td id=\"T_2d257_row4_col5\" class=\"data row4 col5\" >0.1254</td>\n",
       "                        <td id=\"T_2d257_row4_col6\" class=\"data row4 col6\" >0.4872</td>\n",
       "                        <td id=\"T_2d257_row4_col7\" class=\"data row4 col7\" >2.3180</td>\n",
       "            </tr>\n",
       "            <tr>\n",
       "                        <th id=\"T_2d257_level0_row5\" class=\"row_heading level0 row5\" >dt</th>\n",
       "                        <td id=\"T_2d257_row5_col0\" class=\"data row5 col0\" >Decision Tree Regressor</td>\n",
       "                        <td id=\"T_2d257_row5_col1\" class=\"data row5 col1\" >0.0846</td>\n",
       "                        <td id=\"T_2d257_row5_col2\" class=\"data row5 col2\" >0.0319</td>\n",
       "                        <td id=\"T_2d257_row5_col3\" class=\"data row5 col3\" >0.1784</td>\n",
       "                        <td id=\"T_2d257_row5_col4\" class=\"data row5 col4\" >0.3313</td>\n",
       "                        <td id=\"T_2d257_row5_col5\" class=\"data row5 col5\" >0.1338</td>\n",
       "                        <td id=\"T_2d257_row5_col6\" class=\"data row5 col6\" >0.4094</td>\n",
       "                        <td id=\"T_2d257_row5_col7\" class=\"data row5 col7\" >0.1660</td>\n",
       "            </tr>\n",
       "            <tr>\n",
       "                        <th id=\"T_2d257_level0_row6\" class=\"row_heading level0 row6\" >lr</th>\n",
       "                        <td id=\"T_2d257_row6_col0\" class=\"data row6 col0\" >Linear Regression</td>\n",
       "                        <td id=\"T_2d257_row6_col1\" class=\"data row6 col1\" >0.1410</td>\n",
       "                        <td id=\"T_2d257_row6_col2\" class=\"data row6 col2\" >0.0349</td>\n",
       "                        <td id=\"T_2d257_row6_col3\" class=\"data row6 col3\" >0.1868</td>\n",
       "                        <td id=\"T_2d257_row6_col4\" class=\"data row6 col4\" >0.2688</td>\n",
       "                        <td id=\"T_2d257_row6_col5\" class=\"data row6 col5\" >0.1429</td>\n",
       "                        <td id=\"T_2d257_row6_col6\" class=\"data row6 col6\" >0.5653</td>\n",
       "                        <td id=\"T_2d257_row6_col7\" class=\"data row6 col7\" >0.5680</td>\n",
       "            </tr>\n",
       "            <tr>\n",
       "                        <th id=\"T_2d257_level0_row7\" class=\"row_heading level0 row7\" >ridge</th>\n",
       "                        <td id=\"T_2d257_row7_col0\" class=\"data row7 col0\" >Ridge Regression</td>\n",
       "                        <td id=\"T_2d257_row7_col1\" class=\"data row7 col1\" >0.1410</td>\n",
       "                        <td id=\"T_2d257_row7_col2\" class=\"data row7 col2\" >0.0349</td>\n",
       "                        <td id=\"T_2d257_row7_col3\" class=\"data row7 col3\" >0.1868</td>\n",
       "                        <td id=\"T_2d257_row7_col4\" class=\"data row7 col4\" >0.2688</td>\n",
       "                        <td id=\"T_2d257_row7_col5\" class=\"data row7 col5\" >0.1429</td>\n",
       "                        <td id=\"T_2d257_row7_col6\" class=\"data row7 col6\" >0.5652</td>\n",
       "                        <td id=\"T_2d257_row7_col7\" class=\"data row7 col7\" >0.4160</td>\n",
       "            </tr>\n",
       "            <tr>\n",
       "                        <th id=\"T_2d257_level0_row8\" class=\"row_heading level0 row8\" >lar</th>\n",
       "                        <td id=\"T_2d257_row8_col0\" class=\"data row8 col0\" >Least Angle Regression</td>\n",
       "                        <td id=\"T_2d257_row8_col1\" class=\"data row8 col1\" >0.1410</td>\n",
       "                        <td id=\"T_2d257_row8_col2\" class=\"data row8 col2\" >0.0349</td>\n",
       "                        <td id=\"T_2d257_row8_col3\" class=\"data row8 col3\" >0.1868</td>\n",
       "                        <td id=\"T_2d257_row8_col4\" class=\"data row8 col4\" >0.2688</td>\n",
       "                        <td id=\"T_2d257_row8_col5\" class=\"data row8 col5\" >0.1429</td>\n",
       "                        <td id=\"T_2d257_row8_col6\" class=\"data row8 col6\" >0.5653</td>\n",
       "                        <td id=\"T_2d257_row8_col7\" class=\"data row8 col7\" >0.0560</td>\n",
       "            </tr>\n",
       "            <tr>\n",
       "                        <th id=\"T_2d257_level0_row9\" class=\"row_heading level0 row9\" >br</th>\n",
       "                        <td id=\"T_2d257_row9_col0\" class=\"data row9 col0\" >Bayesian Ridge</td>\n",
       "                        <td id=\"T_2d257_row9_col1\" class=\"data row9 col1\" >0.1410</td>\n",
       "                        <td id=\"T_2d257_row9_col2\" class=\"data row9 col2\" >0.0349</td>\n",
       "                        <td id=\"T_2d257_row9_col3\" class=\"data row9 col3\" >0.1868</td>\n",
       "                        <td id=\"T_2d257_row9_col4\" class=\"data row9 col4\" >0.2688</td>\n",
       "                        <td id=\"T_2d257_row9_col5\" class=\"data row9 col5\" >0.1429</td>\n",
       "                        <td id=\"T_2d257_row9_col6\" class=\"data row9 col6\" >0.5650</td>\n",
       "                        <td id=\"T_2d257_row9_col7\" class=\"data row9 col7\" >0.0880</td>\n",
       "            </tr>\n",
       "            <tr>\n",
       "                        <th id=\"T_2d257_level0_row10\" class=\"row_heading level0 row10\" >huber</th>\n",
       "                        <td id=\"T_2d257_row10_col0\" class=\"data row10 col0\" >Huber Regressor</td>\n",
       "                        <td id=\"T_2d257_row10_col1\" class=\"data row10 col1\" >0.1374</td>\n",
       "                        <td id=\"T_2d257_row10_col2\" class=\"data row10 col2\" >0.0356</td>\n",
       "                        <td id=\"T_2d257_row10_col3\" class=\"data row10 col3\" >0.1887</td>\n",
       "                        <td id=\"T_2d257_row10_col4\" class=\"data row10 col4\" >0.2538</td>\n",
       "                        <td id=\"T_2d257_row10_col5\" class=\"data row10 col5\" >0.1433</td>\n",
       "                        <td id=\"T_2d257_row10_col6\" class=\"data row10 col6\" >0.5452</td>\n",
       "                        <td id=\"T_2d257_row10_col7\" class=\"data row10 col7\" >0.8140</td>\n",
       "            </tr>\n",
       "            <tr>\n",
       "                        <th id=\"T_2d257_level0_row11\" class=\"row_heading level0 row11\" >ada</th>\n",
       "                        <td id=\"T_2d257_row11_col0\" class=\"data row11 col0\" >AdaBoost Regressor</td>\n",
       "                        <td id=\"T_2d257_row11_col1\" class=\"data row11 col1\" >0.1524</td>\n",
       "                        <td id=\"T_2d257_row11_col2\" class=\"data row11 col2\" >0.0372</td>\n",
       "                        <td id=\"T_2d257_row11_col3\" class=\"data row11 col3\" >0.1928</td>\n",
       "                        <td id=\"T_2d257_row11_col4\" class=\"data row11 col4\" >0.2210</td>\n",
       "                        <td id=\"T_2d257_row11_col5\" class=\"data row11 col5\" >0.1509</td>\n",
       "                        <td id=\"T_2d257_row11_col6\" class=\"data row11 col6\" >0.6381</td>\n",
       "                        <td id=\"T_2d257_row11_col7\" class=\"data row11 col7\" >0.4160</td>\n",
       "            </tr>\n",
       "            <tr>\n",
       "                        <th id=\"T_2d257_level0_row12\" class=\"row_heading level0 row12\" >omp</th>\n",
       "                        <td id=\"T_2d257_row12_col0\" class=\"data row12 col0\" >Orthogonal Matching Pursuit</td>\n",
       "                        <td id=\"T_2d257_row12_col1\" class=\"data row12 col1\" >0.1545</td>\n",
       "                        <td id=\"T_2d257_row12_col2\" class=\"data row12 col2\" >0.0397</td>\n",
       "                        <td id=\"T_2d257_row12_col3\" class=\"data row12 col3\" >0.1994</td>\n",
       "                        <td id=\"T_2d257_row12_col4\" class=\"data row12 col4\" >0.1668</td>\n",
       "                        <td id=\"T_2d257_row12_col5\" class=\"data row12 col5\" >0.1536</td>\n",
       "                        <td id=\"T_2d257_row12_col6\" class=\"data row12 col6\" >0.5680</td>\n",
       "                        <td id=\"T_2d257_row12_col7\" class=\"data row12 col7\" >0.0600</td>\n",
       "            </tr>\n",
       "            <tr>\n",
       "                        <th id=\"T_2d257_level0_row13\" class=\"row_heading level0 row13\" >lasso</th>\n",
       "                        <td id=\"T_2d257_row13_col0\" class=\"data row13 col0\" >Lasso Regression</td>\n",
       "                        <td id=\"T_2d257_row13_col1\" class=\"data row13 col1\" >0.1885</td>\n",
       "                        <td id=\"T_2d257_row13_col2\" class=\"data row13 col2\" >0.0477</td>\n",
       "                        <td id=\"T_2d257_row13_col3\" class=\"data row13 col3\" >0.2184</td>\n",
       "                        <td id=\"T_2d257_row13_col4\" class=\"data row13 col4\" >-0.0000</td>\n",
       "                        <td id=\"T_2d257_row13_col5\" class=\"data row13 col5\" >0.1695</td>\n",
       "                        <td id=\"T_2d257_row13_col6\" class=\"data row13 col6\" >0.6997</td>\n",
       "                        <td id=\"T_2d257_row13_col7\" class=\"data row13 col7\" >0.4800</td>\n",
       "            </tr>\n",
       "            <tr>\n",
       "                        <th id=\"T_2d257_level0_row14\" class=\"row_heading level0 row14\" >en</th>\n",
       "                        <td id=\"T_2d257_row14_col0\" class=\"data row14 col0\" >Elastic Net</td>\n",
       "                        <td id=\"T_2d257_row14_col1\" class=\"data row14 col1\" >0.1885</td>\n",
       "                        <td id=\"T_2d257_row14_col2\" class=\"data row14 col2\" >0.0477</td>\n",
       "                        <td id=\"T_2d257_row14_col3\" class=\"data row14 col3\" >0.2184</td>\n",
       "                        <td id=\"T_2d257_row14_col4\" class=\"data row14 col4\" >-0.0000</td>\n",
       "                        <td id=\"T_2d257_row14_col5\" class=\"data row14 col5\" >0.1695</td>\n",
       "                        <td id=\"T_2d257_row14_col6\" class=\"data row14 col6\" >0.6997</td>\n",
       "                        <td id=\"T_2d257_row14_col7\" class=\"data row14 col7\" >0.3200</td>\n",
       "            </tr>\n",
       "            <tr>\n",
       "                        <th id=\"T_2d257_level0_row15\" class=\"row_heading level0 row15\" >llar</th>\n",
       "                        <td id=\"T_2d257_row15_col0\" class=\"data row15 col0\" >Lasso Least Angle Regression</td>\n",
       "                        <td id=\"T_2d257_row15_col1\" class=\"data row15 col1\" >0.1885</td>\n",
       "                        <td id=\"T_2d257_row15_col2\" class=\"data row15 col2\" >0.0477</td>\n",
       "                        <td id=\"T_2d257_row15_col3\" class=\"data row15 col3\" >0.2184</td>\n",
       "                        <td id=\"T_2d257_row15_col4\" class=\"data row15 col4\" >-0.0000</td>\n",
       "                        <td id=\"T_2d257_row15_col5\" class=\"data row15 col5\" >0.1695</td>\n",
       "                        <td id=\"T_2d257_row15_col6\" class=\"data row15 col6\" >0.6997</td>\n",
       "                        <td id=\"T_2d257_row15_col7\" class=\"data row15 col7\" >0.0600</td>\n",
       "            </tr>\n",
       "            <tr>\n",
       "                        <th id=\"T_2d257_level0_row16\" class=\"row_heading level0 row16\" >par</th>\n",
       "                        <td id=\"T_2d257_row16_col0\" class=\"data row16 col0\" >Passive Aggressive Regressor</td>\n",
       "                        <td id=\"T_2d257_row16_col1\" class=\"data row16 col1\" >0.1858</td>\n",
       "                        <td id=\"T_2d257_row16_col2\" class=\"data row16 col2\" >0.0561</td>\n",
       "                        <td id=\"T_2d257_row16_col3\" class=\"data row16 col3\" >0.2353</td>\n",
       "                        <td id=\"T_2d257_row16_col4\" class=\"data row16 col4\" >-0.1759</td>\n",
       "                        <td id=\"T_2d257_row16_col5\" class=\"data row16 col5\" >0.1757</td>\n",
       "                        <td id=\"T_2d257_row16_col6\" class=\"data row16 col6\" >0.7573</td>\n",
       "                        <td id=\"T_2d257_row16_col7\" class=\"data row16 col7\" >0.0800</td>\n",
       "            </tr>\n",
       "    </tbody></table>"
      ],
      "text/plain": [
       "<pandas.io.formats.style.Styler at 0x19079f18d30>"
      ]
     },
     "metadata": {},
     "output_type": "display_data"
    },
    {
     "name": "stdout",
     "output_type": "stream",
     "text": [
      "[RandomForestRegressor(bootstrap=True, ccp_alpha=0.0, criterion='mse',\n",
      "                      max_depth=None, max_features='auto', max_leaf_nodes=None,\n",
      "                      max_samples=None, min_impurity_decrease=0.0,\n",
      "                      min_impurity_split=None, min_samples_leaf=1,\n",
      "                      min_samples_split=2, min_weight_fraction_leaf=0.0,\n",
      "                      n_estimators=100, n_jobs=-1, oob_score=False,\n",
      "                      random_state=0, verbose=0, warm_start=False), LGBMRegressor(boosting_type='gbdt', class_weight=None, colsample_bytree=1.0,\n",
      "              importance_type='split', learning_rate=0.1, max_depth=-1,\n",
      "              min_child_samples=20, min_child_weight=0.001, min_split_gain=0.0,\n",
      "              n_estimators=100, n_jobs=-1, num_leaves=31, objective=None,\n",
      "              random_state=0, reg_alpha=0.0, reg_lambda=0.0, silent=True,\n",
      "              subsample=1.0, subsample_for_bin=200000, subsample_freq=0), ExtraTreesRegressor(bootstrap=False, ccp_alpha=0.0, criterion='mse',\n",
      "                    max_depth=None, max_features='auto', max_leaf_nodes=None,\n",
      "                    max_samples=None, min_impurity_decrease=0.0,\n",
      "                    min_impurity_split=None, min_samples_leaf=1,\n",
      "                    min_samples_split=2, min_weight_fraction_leaf=0.0,\n",
      "                    n_estimators=100, n_jobs=-1, oob_score=False,\n",
      "                    random_state=0, verbose=0, warm_start=False), KNeighborsRegressor(algorithm='auto', leaf_size=30, metric='minkowski',\n",
      "                    metric_params=None, n_jobs=-1, n_neighbors=5, p=2,\n",
      "                    weights='uniform'), GradientBoostingRegressor(alpha=0.9, ccp_alpha=0.0, criterion='friedman_mse',\n",
      "                          init=None, learning_rate=0.1, loss='ls', max_depth=3,\n",
      "                          max_features=None, max_leaf_nodes=None,\n",
      "                          min_impurity_decrease=0.0, min_impurity_split=None,\n",
      "                          min_samples_leaf=1, min_samples_split=2,\n",
      "                          min_weight_fraction_leaf=0.0, n_estimators=100,\n",
      "                          n_iter_no_change=None, presort='deprecated',\n",
      "                          random_state=0, subsample=1.0, tol=0.0001,\n",
      "                          validation_fraction=0.1, verbose=0, warm_start=False)]\n"
     ]
    }
   ],
   "source": [
    "best_5_d = compare_models(sort = 'RMSE', n_select = 5,round=4,cross_validation=True,verbose=True)\n",
    "print(best_5_d)\n",
    "## Altitude 안 빼기"
   ]
  },
  {
   "cell_type": "markdown",
   "id": "43690741",
   "metadata": {},
   "source": [
    "### 모델 생성 및 튜닝\n",
    "- ada boost\n",
    "- orthogonal mathcing pursuit"
   ]
  },
  {
   "cell_type": "code",
   "execution_count": 408,
   "id": "4f0ad7b0",
   "metadata": {},
   "outputs": [
    {
     "data": {
      "text/html": [
       "<style  type=\"text/css\" >\n",
       "#T_7866a_row5_col0,#T_7866a_row5_col1,#T_7866a_row5_col2,#T_7866a_row5_col3,#T_7866a_row5_col4,#T_7866a_row5_col5{\n",
       "            background:  yellow;\n",
       "        }</style><table id=\"T_7866a_\" ><thead>    <tr>        <th class=\"blank level0\" ></th>        <th class=\"col_heading level0 col0\" >MAE</th>        <th class=\"col_heading level0 col1\" >MSE</th>        <th class=\"col_heading level0 col2\" >RMSE</th>        <th class=\"col_heading level0 col3\" >R2</th>        <th class=\"col_heading level0 col4\" >RMSLE</th>        <th class=\"col_heading level0 col5\" >MAPE</th>    </tr></thead><tbody>\n",
       "                <tr>\n",
       "                        <th id=\"T_7866a_level0_row0\" class=\"row_heading level0 row0\" >0</th>\n",
       "                        <td id=\"T_7866a_row0_col0\" class=\"data row0 col0\" >0.0834</td>\n",
       "                        <td id=\"T_7866a_row0_col1\" class=\"data row0 col1\" >0.0213</td>\n",
       "                        <td id=\"T_7866a_row0_col2\" class=\"data row0 col2\" >0.1459</td>\n",
       "                        <td id=\"T_7866a_row0_col3\" class=\"data row0 col3\" >0.5519</td>\n",
       "                        <td id=\"T_7866a_row0_col4\" class=\"data row0 col4\" >0.1094</td>\n",
       "                        <td id=\"T_7866a_row0_col5\" class=\"data row0 col5\" >0.3849</td>\n",
       "            </tr>\n",
       "            <tr>\n",
       "                        <th id=\"T_7866a_level0_row1\" class=\"row_heading level0 row1\" >1</th>\n",
       "                        <td id=\"T_7866a_row1_col0\" class=\"data row1 col0\" >0.0771</td>\n",
       "                        <td id=\"T_7866a_row1_col1\" class=\"data row1 col1\" >0.0202</td>\n",
       "                        <td id=\"T_7866a_row1_col2\" class=\"data row1 col2\" >0.1421</td>\n",
       "                        <td id=\"T_7866a_row1_col3\" class=\"data row1 col3\" >0.5807</td>\n",
       "                        <td id=\"T_7866a_row1_col4\" class=\"data row1 col4\" >0.1067</td>\n",
       "                        <td id=\"T_7866a_row1_col5\" class=\"data row1 col5\" >0.3718</td>\n",
       "            </tr>\n",
       "            <tr>\n",
       "                        <th id=\"T_7866a_level0_row2\" class=\"row_heading level0 row2\" >2</th>\n",
       "                        <td id=\"T_7866a_row2_col0\" class=\"data row2 col0\" >0.0740</td>\n",
       "                        <td id=\"T_7866a_row2_col1\" class=\"data row2 col1\" >0.0195</td>\n",
       "                        <td id=\"T_7866a_row2_col2\" class=\"data row2 col2\" >0.1397</td>\n",
       "                        <td id=\"T_7866a_row2_col3\" class=\"data row2 col3\" >0.5927</td>\n",
       "                        <td id=\"T_7866a_row2_col4\" class=\"data row2 col4\" >0.1045</td>\n",
       "                        <td id=\"T_7866a_row2_col5\" class=\"data row2 col5\" >0.3546</td>\n",
       "            </tr>\n",
       "            <tr>\n",
       "                        <th id=\"T_7866a_level0_row3\" class=\"row_heading level0 row3\" >3</th>\n",
       "                        <td id=\"T_7866a_row3_col0\" class=\"data row3 col0\" >0.0710</td>\n",
       "                        <td id=\"T_7866a_row3_col1\" class=\"data row3 col1\" >0.0184</td>\n",
       "                        <td id=\"T_7866a_row3_col2\" class=\"data row3 col2\" >0.1358</td>\n",
       "                        <td id=\"T_7866a_row3_col3\" class=\"data row3 col3\" >0.6089</td>\n",
       "                        <td id=\"T_7866a_row3_col4\" class=\"data row3 col4\" >0.1021</td>\n",
       "                        <td id=\"T_7866a_row3_col5\" class=\"data row3 col5\" >0.3567</td>\n",
       "            </tr>\n",
       "            <tr>\n",
       "                        <th id=\"T_7866a_level0_row4\" class=\"row_heading level0 row4\" >4</th>\n",
       "                        <td id=\"T_7866a_row4_col0\" class=\"data row4 col0\" >0.0671</td>\n",
       "                        <td id=\"T_7866a_row4_col1\" class=\"data row4 col1\" >0.0175</td>\n",
       "                        <td id=\"T_7866a_row4_col2\" class=\"data row4 col2\" >0.1322</td>\n",
       "                        <td id=\"T_7866a_row4_col3\" class=\"data row4 col3\" >0.6349</td>\n",
       "                        <td id=\"T_7866a_row4_col4\" class=\"data row4 col4\" >0.0991</td>\n",
       "                        <td id=\"T_7866a_row4_col5\" class=\"data row4 col5\" >0.3192</td>\n",
       "            </tr>\n",
       "            <tr>\n",
       "                        <th id=\"T_7866a_level0_row5\" class=\"row_heading level0 row5\" >Mean</th>\n",
       "                        <td id=\"T_7866a_row5_col0\" class=\"data row5 col0\" >0.0745</td>\n",
       "                        <td id=\"T_7866a_row5_col1\" class=\"data row5 col1\" >0.0194</td>\n",
       "                        <td id=\"T_7866a_row5_col2\" class=\"data row5 col2\" >0.1391</td>\n",
       "                        <td id=\"T_7866a_row5_col3\" class=\"data row5 col3\" >0.5938</td>\n",
       "                        <td id=\"T_7866a_row5_col4\" class=\"data row5 col4\" >0.1044</td>\n",
       "                        <td id=\"T_7866a_row5_col5\" class=\"data row5 col5\" >0.3575</td>\n",
       "            </tr>\n",
       "            <tr>\n",
       "                        <th id=\"T_7866a_level0_row6\" class=\"row_heading level0 row6\" >SD</th>\n",
       "                        <td id=\"T_7866a_row6_col0\" class=\"data row6 col0\" >0.0055</td>\n",
       "                        <td id=\"T_7866a_row6_col1\" class=\"data row6 col1\" >0.0013</td>\n",
       "                        <td id=\"T_7866a_row6_col2\" class=\"data row6 col2\" >0.0048</td>\n",
       "                        <td id=\"T_7866a_row6_col3\" class=\"data row6 col3\" >0.0277</td>\n",
       "                        <td id=\"T_7866a_row6_col4\" class=\"data row6 col4\" >0.0036</td>\n",
       "                        <td id=\"T_7866a_row6_col5\" class=\"data row6 col5\" >0.0221</td>\n",
       "            </tr>\n",
       "    </tbody></table>"
      ],
      "text/plain": [
       "<pandas.io.formats.style.Styler at 0x2528b29cd30>"
      ]
     },
     "metadata": {},
     "output_type": "display_data"
    }
   ],
   "source": [
    "rf_model = create_model(\"rf\")"
   ]
  },
  {
   "cell_type": "code",
   "execution_count": 409,
   "id": "42e22037",
   "metadata": {},
   "outputs": [
    {
     "name": "stdout",
     "output_type": "stream",
     "text": [
      "RandomForestRegressor(bootstrap=True, ccp_alpha=0.0, criterion='mse',\n",
      "                      max_depth=None, max_features='auto', max_leaf_nodes=None,\n",
      "                      max_samples=None, min_impurity_decrease=0.0,\n",
      "                      min_impurity_split=None, min_samples_leaf=1,\n",
      "                      min_samples_split=2, min_weight_fraction_leaf=0.0,\n",
      "                      n_estimators=100, n_jobs=-1, oob_score=False,\n",
      "                      random_state=0, verbose=0, warm_start=False)\n"
     ]
    }
   ],
   "source": [
    "print(rf_model)"
   ]
  },
  {
   "cell_type": "code",
   "execution_count": null,
   "id": "f601b6f5",
   "metadata": {},
   "outputs": [
    {
     "data": {
      "application/vnd.jupyter.widget-view+json": {
       "model_id": "34220bb2854a45c1b94019718cc85198",
       "version_major": 2,
       "version_minor": 0
      },
      "text/plain": [
       "IntProgress(value=0, description='Processing: ', max=7)"
      ]
     },
     "metadata": {},
     "output_type": "display_data"
    },
    {
     "data": {
      "text/html": [
       "<div>\n",
       "<style scoped>\n",
       "    .dataframe tbody tr th:only-of-type {\n",
       "        vertical-align: middle;\n",
       "    }\n",
       "\n",
       "    .dataframe tbody tr th {\n",
       "        vertical-align: top;\n",
       "    }\n",
       "\n",
       "    .dataframe thead th {\n",
       "        text-align: right;\n",
       "    }\n",
       "</style>\n",
       "<table border=\"1\" class=\"dataframe\">\n",
       "  <thead>\n",
       "    <tr style=\"text-align: right;\">\n",
       "      <th></th>\n",
       "      <th></th>\n",
       "      <th></th>\n",
       "    </tr>\n",
       "    <tr>\n",
       "      <th></th>\n",
       "      <th></th>\n",
       "      <th></th>\n",
       "    </tr>\n",
       "  </thead>\n",
       "  <tbody>\n",
       "    <tr>\n",
       "      <th>Initiated</th>\n",
       "      <td>. . . . . . . . . . . . . . . . . .</td>\n",
       "      <td>11:02:04</td>\n",
       "    </tr>\n",
       "    <tr>\n",
       "      <th>Status</th>\n",
       "      <td>. . . . . . . . . . . . . . . . . .</td>\n",
       "      <td>Searching Hyperparameters</td>\n",
       "    </tr>\n",
       "    <tr>\n",
       "      <th>Estimator</th>\n",
       "      <td>. . . . . . . . . . . . . . . . . .</td>\n",
       "      <td>Random Forest Regressor</td>\n",
       "    </tr>\n",
       "  </tbody>\n",
       "</table>\n",
       "</div>"
      ],
      "text/plain": [
       "                                                                         \n",
       "                                                                         \n",
       "Initiated  . . . . . . . . . . . . . . . . . .                   11:02:04\n",
       "Status     . . . . . . . . . . . . . . . . . .  Searching Hyperparameters\n",
       "Estimator  . . . . . . . . . . . . . . . . . .    Random Forest Regressor"
      ]
     },
     "metadata": {},
     "output_type": "display_data"
    },
    {
     "data": {
      "text/html": [
       "<div>\n",
       "<style scoped>\n",
       "    .dataframe tbody tr th:only-of-type {\n",
       "        vertical-align: middle;\n",
       "    }\n",
       "\n",
       "    .dataframe tbody tr th {\n",
       "        vertical-align: top;\n",
       "    }\n",
       "\n",
       "    .dataframe thead th {\n",
       "        text-align: right;\n",
       "    }\n",
       "</style>\n",
       "<table border=\"1\" class=\"dataframe\">\n",
       "  <thead>\n",
       "    <tr style=\"text-align: right;\">\n",
       "      <th></th>\n",
       "      <th>MAE</th>\n",
       "      <th>MSE</th>\n",
       "      <th>RMSE</th>\n",
       "      <th>R2</th>\n",
       "      <th>RMSLE</th>\n",
       "      <th>MAPE</th>\n",
       "    </tr>\n",
       "  </thead>\n",
       "  <tbody>\n",
       "  </tbody>\n",
       "</table>\n",
       "</div>"
      ],
      "text/plain": [
       "Empty DataFrame\n",
       "Columns: [MAE, MSE, RMSE, R2, RMSLE, MAPE]\n",
       "Index: []"
      ]
     },
     "metadata": {},
     "output_type": "display_data"
    },
    {
     "name": "stdout",
     "output_type": "stream",
     "text": [
      "Fitting 3 folds for each of 100 candidates, totalling 300 fits\n"
     ]
    },
    {
     "name": "stderr",
     "output_type": "stream",
     "text": [
      "[Parallel(n_jobs=-1)]: Using backend LokyBackend with 16 concurrent workers.\n",
      "[Parallel(n_jobs=-1)]: Done  18 tasks      | elapsed: 63.2min\n"
     ]
    }
   ],
   "source": [
    "tuned_models = []\n",
    "\n",
    "best_model = tune_model(rf_model, fold= 3, n_iter = 100, optimize = 'RMSE', verbose = True, choose_better = True)\n",
    "tuned_models.append(best_model)"
   ]
  },
  {
   "cell_type": "code",
   "execution_count": 90,
   "id": "d73d3232",
   "metadata": {},
   "outputs": [
    {
     "data": {
      "text/plain": [
       "GradientBoostingRegressor(alpha=0.9, ccp_alpha=0.0, criterion='friedman_mse',\n",
       "                          init=None, learning_rate=0.01, loss='ls', max_depth=7,\n",
       "                          max_features='sqrt', max_leaf_nodes=None,\n",
       "                          min_impurity_decrease=0.5, min_impurity_split=None,\n",
       "                          min_samples_leaf=1, min_samples_split=2,\n",
       "                          min_weight_fraction_leaf=0.0, n_estimators=220,\n",
       "                          n_iter_no_change=None, presort='deprecated',\n",
       "                          random_state=0, subsample=0.85, tol=0.0001,\n",
       "                          validation_fraction=0.1, verbose=0, warm_start=False)"
      ]
     },
     "execution_count": 90,
     "metadata": {},
     "output_type": "execute_result"
    }
   ],
   "source": [
    "best_model"
   ]
  },
  {
   "cell_type": "markdown",
   "id": "69177d45",
   "metadata": {},
   "source": [
    "모델 저장하기\n",
    "- adaboost_ver1\n",
    "- 타겟 데이터 log 변환 O\n",
    "- 이상치 대체하기 X\n",
    "- 왜도가 높은 것들 log 변환 X\n",
    "- Normalization"
   ]
  },
  {
   "cell_type": "code",
   "execution_count": null,
   "id": "0c28ccd0",
   "metadata": {},
   "outputs": [],
   "source": [
    "import joblib\n",
    "joblib.dump(best_model, 'rf_ver2.pkl')\n",
    "# model = joblib.load('adaboost_ver1.pkl') : 모델 읽어오기"
   ]
  },
  {
   "cell_type": "markdown",
   "id": "b7b0b0d0",
   "metadata": {},
   "source": [
    "모델 불러오기"
   ]
  },
  {
   "cell_type": "code",
   "execution_count": 104,
   "id": "c35d465e",
   "metadata": {},
   "outputs": [],
   "source": [
    "import joblib\n",
    "best_model = joblib.load('gbr_ver2.pkl')"
   ]
  },
  {
   "cell_type": "markdown",
   "id": "a67cf859",
   "metadata": {},
   "source": [
    "모델로 예측하기"
   ]
  },
  {
   "cell_type": "code",
   "execution_count": 410,
   "id": "c392b04e",
   "metadata": {},
   "outputs": [
    {
     "data": {
      "text/plain": [
       "RandomForestRegressor(bootstrap=True, ccp_alpha=0.0, criterion='mse',\n",
       "                      max_depth=None, max_features='auto', max_leaf_nodes=None,\n",
       "                      max_samples=None, min_impurity_decrease=0.0,\n",
       "                      min_impurity_split=None, min_samples_leaf=1,\n",
       "                      min_samples_split=2, min_weight_fraction_leaf=0.0,\n",
       "                      n_estimators=100, n_jobs=-1, oob_score=False,\n",
       "                      random_state=0, verbose=0, warm_start=False)"
      ]
     },
     "execution_count": 410,
     "metadata": {},
     "output_type": "execute_result"
    }
   ],
   "source": [
    "final_model = rf_model\n",
    "final_model"
   ]
  },
  {
   "cell_type": "code",
   "execution_count": 411,
   "id": "a101f90f",
   "metadata": {},
   "outputs": [],
   "source": [
    "prediction = predict_model(final_model, data = x_test)"
   ]
  },
  {
   "cell_type": "markdown",
   "id": "62393e06",
   "metadata": {},
   "source": [
    "#### 로그역변환 반드시 하기"
   ]
  },
  {
   "cell_type": "code",
   "execution_count": 412,
   "id": "e099e1af",
   "metadata": {},
   "outputs": [
    {
     "data": {
      "text/plain": [
       "129448    0.412934\n",
       "129449    0.427143\n",
       "129450    0.413148\n",
       "129451    0.412541\n",
       "129452    0.411935\n",
       "            ...   \n",
       "148163    0.256568\n",
       "148164    0.238679\n",
       "148165    0.266921\n",
       "148166    0.266921\n",
       "148167    0.248162\n",
       "Name: Label, Length: 18720, dtype: float64"
      ]
     },
     "execution_count": 412,
     "metadata": {},
     "output_type": "execute_result"
    }
   ],
   "source": [
    "prediction[\"Label\"]"
   ]
  },
  {
   "cell_type": "code",
   "execution_count": 413,
   "id": "588bdca6",
   "metadata": {},
   "outputs": [
    {
     "data": {
      "text/plain": [
       "100.00000000000003"
      ]
     },
     "execution_count": 413,
     "metadata": {},
     "output_type": "execute_result"
    }
   ],
   "source": [
    "np.expm1(np.log1p(100))"
   ]
  },
  {
   "cell_type": "code",
   "execution_count": 414,
   "id": "1b367998",
   "metadata": {},
   "outputs": [],
   "source": [
    "predict_df = org_data.iloc[129448:,:].copy()\n",
    "predict_df[\"열공급량(kWh)\"] = prediction[\"Label\"].apply(lambda x : np.expm1(x))"
   ]
  },
  {
   "cell_type": "code",
   "execution_count": 415,
   "id": "eb14c0ad",
   "metadata": {},
   "outputs": [
    {
     "data": {
      "text/plain": [
       "2022-03-08    1440\n",
       "2022-03-09    1440\n",
       "2022-03-13    1440\n",
       "2022-03-06    1440\n",
       "2022-03-20    1440\n",
       "2022-03-18    1440\n",
       "2022-03-11    1440\n",
       "2022-03-04    1440\n",
       "2022-03-10    1440\n",
       "2022-03-12    1440\n",
       "2022-03-19    1440\n",
       "2022-03-05    1440\n",
       "2022-03-07    1440\n",
       "Name: 년월일, dtype: int64"
      ]
     },
     "execution_count": 415,
     "metadata": {},
     "output_type": "execute_result"
    }
   ],
   "source": [
    "predict_df[\"년월일\"].value_counts()"
   ]
  },
  {
   "cell_type": "code",
   "execution_count": 416,
   "id": "f954d978",
   "metadata": {},
   "outputs": [
    {
     "data": {
      "text/html": [
       "<div>\n",
       "<style scoped>\n",
       "    .dataframe tbody tr th:only-of-type {\n",
       "        vertical-align: middle;\n",
       "    }\n",
       "\n",
       "    .dataframe tbody tr th {\n",
       "        vertical-align: top;\n",
       "    }\n",
       "\n",
       "    .dataframe thead th {\n",
       "        text-align: right;\n",
       "    }\n",
       "</style>\n",
       "<table border=\"1\" class=\"dataframe\">\n",
       "  <thead>\n",
       "    <tr style=\"text-align: right;\">\n",
       "      <th></th>\n",
       "      <th>년월일</th>\n",
       "      <th>열공급량(kWh)</th>\n",
       "    </tr>\n",
       "  </thead>\n",
       "  <tbody>\n",
       "    <tr>\n",
       "      <th>129448</th>\n",
       "      <td>2022-03-04</td>\n",
       "      <td>0.511246</td>\n",
       "    </tr>\n",
       "    <tr>\n",
       "      <th>129449</th>\n",
       "      <td>2022-03-04</td>\n",
       "      <td>0.532871</td>\n",
       "    </tr>\n",
       "    <tr>\n",
       "      <th>129450</th>\n",
       "      <td>2022-03-04</td>\n",
       "      <td>0.511568</td>\n",
       "    </tr>\n",
       "    <tr>\n",
       "      <th>129451</th>\n",
       "      <td>2022-03-04</td>\n",
       "      <td>0.510652</td>\n",
       "    </tr>\n",
       "    <tr>\n",
       "      <th>129452</th>\n",
       "      <td>2022-03-04</td>\n",
       "      <td>0.509737</td>\n",
       "    </tr>\n",
       "  </tbody>\n",
       "</table>\n",
       "</div>"
      ],
      "text/plain": [
       "               년월일  열공급량(kWh)\n",
       "129448  2022-03-04   0.511246\n",
       "129449  2022-03-04   0.532871\n",
       "129450  2022-03-04   0.511568\n",
       "129451  2022-03-04   0.510652\n",
       "129452  2022-03-04   0.509737"
      ]
     },
     "execution_count": 416,
     "metadata": {},
     "output_type": "execute_result"
    }
   ],
   "source": [
    "predict_df[[\"년월일\",\"열공급량(kWh)\"]].head()"
   ]
  },
  {
   "cell_type": "code",
   "execution_count": 417,
   "id": "eaa6d758",
   "metadata": {},
   "outputs": [],
   "source": [
    "predict_df.rename(columns={'년도':'yy'},inplace=True)\n",
    "predict_df.rename(columns={'월':'mm'},inplace=True)\n",
    "predict_df.rename(columns={'일':'dd'},inplace=True)"
   ]
  },
  {
   "cell_type": "markdown",
   "id": "733136fe",
   "metadata": {},
   "source": [
    "제출용 데이터로 가공하기"
   ]
  },
  {
   "cell_type": "code",
   "execution_count": 418,
   "id": "b6289f90",
   "metadata": {},
   "outputs": [],
   "source": [
    "submit_df = pd.read_csv(\"2-1_검증데이터셋.csv\")"
   ]
  },
  {
   "cell_type": "code",
   "execution_count": 419,
   "id": "2dd54e96",
   "metadata": {},
   "outputs": [],
   "source": [
    "submit_df = pd.merge(submit_df[[\"yy\",\"mm\",\"dd\"]],predict_df[[\"yy\",\"mm\",\"dd\",\"시\",\"분\",\"열공급량(kWh)\"]],\n",
    "                     on = [\"yy\",\"mm\",\"dd\"], how = \"inner\").reset_index()\n",
    "\n",
    "submit_df = submit_df.groupby([\"yy\",\"mm\",\"dd\"]).sum().reset_index()"
   ]
  },
  {
   "cell_type": "code",
   "execution_count": 420,
   "id": "0e84742e",
   "metadata": {},
   "outputs": [],
   "source": [
    "submit_df.drop([\"index\",\"시\",\"분\"],axis=1,inplace=True)"
   ]
  },
  {
   "cell_type": "code",
   "execution_count": 421,
   "id": "cbddac4d",
   "metadata": {},
   "outputs": [],
   "source": [
    "submit_df.rename(columns={'열공급량(kWh)':'heat_supply_day'},inplace=True)"
   ]
  },
  {
   "cell_type": "code",
   "execution_count": 422,
   "id": "0a3bb24e",
   "metadata": {},
   "outputs": [],
   "source": [
    "#submit_df.to_csv(\"220104_omp_model_ver2.csv\",encoding=\"utf-8-sig\",index=False)"
   ]
  },
  {
   "cell_type": "code",
   "execution_count": 423,
   "id": "fab4fe30",
   "metadata": {},
   "outputs": [
    {
     "data": {
      "text/plain": [
       "6911.080646021742"
      ]
     },
     "execution_count": 423,
     "metadata": {},
     "output_type": "execute_result"
    }
   ],
   "source": [
    "submit_df[\"heat_supply_day\"].sum()\n",
    "# OMP 모델"
   ]
  },
  {
   "cell_type": "markdown",
   "id": "6c6fbf9a",
   "metadata": {},
   "source": [
    "plot 그려보기"
   ]
  },
  {
   "cell_type": "code",
   "execution_count": 401,
   "id": "a834c03e",
   "metadata": {},
   "outputs": [
    {
     "data": {
      "text/html": [
       "<div>\n",
       "<style scoped>\n",
       "    .dataframe tbody tr th:only-of-type {\n",
       "        vertical-align: middle;\n",
       "    }\n",
       "\n",
       "    .dataframe tbody tr th {\n",
       "        vertical-align: top;\n",
       "    }\n",
       "\n",
       "    .dataframe thead th {\n",
       "        text-align: right;\n",
       "    }\n",
       "</style>\n",
       "<table border=\"1\" class=\"dataframe\">\n",
       "  <thead>\n",
       "    <tr style=\"text-align: right;\">\n",
       "      <th></th>\n",
       "      <th>년월일</th>\n",
       "      <th>시</th>\n",
       "      <th>분</th>\n",
       "      <th>열공급량(kWh)</th>\n",
       "    </tr>\n",
       "  </thead>\n",
       "  <tbody>\n",
       "    <tr>\n",
       "      <th>129448</th>\n",
       "      <td>2022-03-04</td>\n",
       "      <td>0</td>\n",
       "      <td>0</td>\n",
       "      <td>0.511246</td>\n",
       "    </tr>\n",
       "    <tr>\n",
       "      <th>129449</th>\n",
       "      <td>2022-03-04</td>\n",
       "      <td>0</td>\n",
       "      <td>1</td>\n",
       "      <td>0.532871</td>\n",
       "    </tr>\n",
       "    <tr>\n",
       "      <th>129450</th>\n",
       "      <td>2022-03-04</td>\n",
       "      <td>0</td>\n",
       "      <td>2</td>\n",
       "      <td>0.511568</td>\n",
       "    </tr>\n",
       "    <tr>\n",
       "      <th>129451</th>\n",
       "      <td>2022-03-04</td>\n",
       "      <td>0</td>\n",
       "      <td>3</td>\n",
       "      <td>0.510652</td>\n",
       "    </tr>\n",
       "    <tr>\n",
       "      <th>129452</th>\n",
       "      <td>2022-03-04</td>\n",
       "      <td>0</td>\n",
       "      <td>4</td>\n",
       "      <td>0.509737</td>\n",
       "    </tr>\n",
       "    <tr>\n",
       "      <th>...</th>\n",
       "      <td>...</td>\n",
       "      <td>...</td>\n",
       "      <td>...</td>\n",
       "      <td>...</td>\n",
       "    </tr>\n",
       "    <tr>\n",
       "      <th>148163</th>\n",
       "      <td>2022-03-20</td>\n",
       "      <td>23</td>\n",
       "      <td>55</td>\n",
       "      <td>0.292486</td>\n",
       "    </tr>\n",
       "    <tr>\n",
       "      <th>148164</th>\n",
       "      <td>2022-03-20</td>\n",
       "      <td>23</td>\n",
       "      <td>56</td>\n",
       "      <td>0.269571</td>\n",
       "    </tr>\n",
       "    <tr>\n",
       "      <th>148165</th>\n",
       "      <td>2022-03-20</td>\n",
       "      <td>23</td>\n",
       "      <td>57</td>\n",
       "      <td>0.305937</td>\n",
       "    </tr>\n",
       "    <tr>\n",
       "      <th>148166</th>\n",
       "      <td>2022-03-20</td>\n",
       "      <td>23</td>\n",
       "      <td>58</td>\n",
       "      <td>0.305937</td>\n",
       "    </tr>\n",
       "    <tr>\n",
       "      <th>148167</th>\n",
       "      <td>2022-03-20</td>\n",
       "      <td>23</td>\n",
       "      <td>59</td>\n",
       "      <td>0.281668</td>\n",
       "    </tr>\n",
       "  </tbody>\n",
       "</table>\n",
       "<p>18720 rows × 4 columns</p>\n",
       "</div>"
      ],
      "text/plain": [
       "               년월일   시   분  열공급량(kWh)\n",
       "129448  2022-03-04   0   0   0.511246\n",
       "129449  2022-03-04   0   1   0.532871\n",
       "129450  2022-03-04   0   2   0.511568\n",
       "129451  2022-03-04   0   3   0.510652\n",
       "129452  2022-03-04   0   4   0.509737\n",
       "...            ...  ..  ..        ...\n",
       "148163  2022-03-20  23  55   0.292486\n",
       "148164  2022-03-20  23  56   0.269571\n",
       "148165  2022-03-20  23  57   0.305937\n",
       "148166  2022-03-20  23  58   0.305937\n",
       "148167  2022-03-20  23  59   0.281668\n",
       "\n",
       "[18720 rows x 4 columns]"
      ]
     },
     "execution_count": 401,
     "metadata": {},
     "output_type": "execute_result"
    }
   ],
   "source": [
    "predict_df[[\"년월일\",\"시\",\"분\",\"열공급량(kWh)\"]]"
   ]
  },
  {
   "cell_type": "code",
   "execution_count": 402,
   "id": "ded35e6d",
   "metadata": {},
   "outputs": [],
   "source": [
    "compare_df = pd.concat([org_data[[\"년월일\",\"시\",\"분\",\"열공급량(kWh)\"]].iloc[:129448,:],\n",
    "                       predict_df[[\"년월일\",\"시\",\"분\",\"열공급량(kWh)\"]]],\n",
    "                      ignore_index = True)"
   ]
  },
  {
   "cell_type": "code",
   "execution_count": 403,
   "id": "c7a25cff",
   "metadata": {},
   "outputs": [],
   "source": [
    "compare = compare_df.groupby([\"년월일\"]).sum().reset_index()"
   ]
  },
  {
   "cell_type": "code",
   "execution_count": 404,
   "id": "621c03a9",
   "metadata": {},
   "outputs": [],
   "source": [
    "#compare[[\"년월일\",\"열공급량(kWh)\"]].to_csv(\"test.csv\",encoding=\"utf-8-sig\",index=False)"
   ]
  },
  {
   "cell_type": "code",
   "execution_count": 405,
   "id": "f759f2f2",
   "metadata": {
    "scrolled": false
   },
   "outputs": [
    {
     "data": {
      "text/plain": [
       "<AxesSubplot:xlabel='년월일'>"
      ]
     },
     "execution_count": 405,
     "metadata": {},
     "output_type": "execute_result"
    },
    {
     "data": {
      "image/png": "[encoded data removed]",
      "text/plain": [
       "<Figure size 1080x432 with 1 Axes>"
      ]
     },
     "metadata": {
      "needs_background": "light"
     },
     "output_type": "display_data"
    }
   ],
   "source": [
    "fig, ax = plt.subplots(1,1, figsize = (15,6))\n",
    "compare[[\"년월일\",\"열공급량(kWh)\"]].set_index(\"년월일\").plot(ax=ax)"
   ]
  },
  {
   "cell_type": "code",
   "execution_count": null,
   "id": "97147c16",
   "metadata": {},
   "outputs": [],
   "source": []
  },
  {
   "cell_type": "code",
   "execution_count": null,
   "id": "5db26a78",
   "metadata": {},
   "outputs": [],
   "source": []
  }
 ],
 "metadata": {
  "kernelspec": {
   "display_name": "Python 3",
   "language": "python",
   "name": "python3"
  },
  "language_info": {
   "codemirror_mode": {
    "name": "ipython",
    "version": 3
   },
   "file_extension": ".py",
   "mimetype": "text/x-python",
   "name": "python",
   "nbconvert_exporter": "python",
   "pygments_lexer": "ipython3",
   "version": "3.8.8"
  }
 },
 "nbformat": 4,
 "nbformat_minor": 5
}
